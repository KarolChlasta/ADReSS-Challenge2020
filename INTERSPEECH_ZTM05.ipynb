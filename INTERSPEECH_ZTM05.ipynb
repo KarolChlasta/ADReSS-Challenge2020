{
  "nbformat": 4,
  "nbformat_minor": 0,
  "metadata": {
    "colab": {
      "name": "INTERSPEECH_ZTM05.ipynb",
      "provenance": [],
      "collapsed_sections": [],
      "toc_visible": true,
      "machine_shape": "hm"
    },
    "kernelspec": {
      "name": "python3",
      "display_name": "Python 3"
    },
    "accelerator": "GPU",
    "widgets": {
      "application/vnd.jupyter.widget-state+json": {
        "28547199ba0b44ac96ef7a4c5334c994": {
          "model_module": "@jupyter-widgets/controls",
          "model_name": "HBoxModel",
          "state": {
            "_view_name": "HBoxView",
            "_dom_classes": [],
            "_model_name": "HBoxModel",
            "_view_module": "@jupyter-widgets/controls",
            "_model_module_version": "1.5.0",
            "_view_count": null,
            "_view_module_version": "1.5.0",
            "box_style": "",
            "layout": "IPY_MODEL_cde7605ed848478c9993637db4f974d3",
            "_model_module": "@jupyter-widgets/controls",
            "children": [
              "IPY_MODEL_053a7cadebf74b4fa9782e8cea7371ca",
              "IPY_MODEL_b03426e2cb1b4eb8b142234da270ef31"
            ]
          }
        },
        "cde7605ed848478c9993637db4f974d3": {
          "model_module": "@jupyter-widgets/base",
          "model_name": "LayoutModel",
          "state": {
            "_view_name": "LayoutView",
            "grid_template_rows": null,
            "right": null,
            "justify_content": null,
            "_view_module": "@jupyter-widgets/base",
            "overflow": null,
            "_model_module_version": "1.2.0",
            "_view_count": null,
            "flex_flow": null,
            "width": null,
            "min_width": null,
            "border": null,
            "align_items": null,
            "bottom": null,
            "_model_module": "@jupyter-widgets/base",
            "top": null,
            "grid_column": null,
            "overflow_y": null,
            "overflow_x": null,
            "grid_auto_flow": null,
            "grid_area": null,
            "grid_template_columns": null,
            "flex": null,
            "_model_name": "LayoutModel",
            "justify_items": null,
            "grid_row": null,
            "max_height": null,
            "align_content": null,
            "visibility": null,
            "align_self": null,
            "height": null,
            "min_height": null,
            "padding": null,
            "grid_auto_rows": null,
            "grid_gap": null,
            "max_width": null,
            "order": null,
            "_view_module_version": "1.2.0",
            "grid_template_areas": null,
            "object_position": null,
            "object_fit": null,
            "grid_auto_columns": null,
            "margin": null,
            "display": null,
            "left": null
          }
        },
        "053a7cadebf74b4fa9782e8cea7371ca": {
          "model_module": "@jupyter-widgets/controls",
          "model_name": "IntProgressModel",
          "state": {
            "_view_name": "ProgressView",
            "style": "IPY_MODEL_a441152810414329b853e8d8b1823886",
            "_dom_classes": [],
            "description": "Epoch:   0%",
            "_model_name": "IntProgressModel",
            "bar_style": "danger",
            "max": 1,
            "_view_module": "@jupyter-widgets/controls",
            "_model_module_version": "1.5.0",
            "value": 0,
            "_view_count": null,
            "_view_module_version": "1.5.0",
            "orientation": "horizontal",
            "min": 0,
            "description_tooltip": null,
            "_model_module": "@jupyter-widgets/controls",
            "layout": "IPY_MODEL_3710db5c4dbf4cb584afa91e901507c9"
          }
        },
        "b03426e2cb1b4eb8b142234da270ef31": {
          "model_module": "@jupyter-widgets/controls",
          "model_name": "HTMLModel",
          "state": {
            "_view_name": "HTMLView",
            "style": "IPY_MODEL_03d7e3a322464540abce7ad4f1178d62",
            "_dom_classes": [],
            "description": "",
            "_model_name": "HTMLModel",
            "placeholder": "​",
            "_view_module": "@jupyter-widgets/controls",
            "_model_module_version": "1.5.0",
            "value": " 0/1 [00:25&lt;?, ?it/s]",
            "_view_count": null,
            "_view_module_version": "1.5.0",
            "description_tooltip": null,
            "_model_module": "@jupyter-widgets/controls",
            "layout": "IPY_MODEL_79ca298b42164881ba80284cd3c9dfa1"
          }
        },
        "a441152810414329b853e8d8b1823886": {
          "model_module": "@jupyter-widgets/controls",
          "model_name": "ProgressStyleModel",
          "state": {
            "_view_name": "StyleView",
            "_model_name": "ProgressStyleModel",
            "description_width": "initial",
            "_view_module": "@jupyter-widgets/base",
            "_model_module_version": "1.5.0",
            "_view_count": null,
            "_view_module_version": "1.2.0",
            "bar_color": null,
            "_model_module": "@jupyter-widgets/controls"
          }
        },
        "3710db5c4dbf4cb584afa91e901507c9": {
          "model_module": "@jupyter-widgets/base",
          "model_name": "LayoutModel",
          "state": {
            "_view_name": "LayoutView",
            "grid_template_rows": null,
            "right": null,
            "justify_content": null,
            "_view_module": "@jupyter-widgets/base",
            "overflow": null,
            "_model_module_version": "1.2.0",
            "_view_count": null,
            "flex_flow": null,
            "width": null,
            "min_width": null,
            "border": null,
            "align_items": null,
            "bottom": null,
            "_model_module": "@jupyter-widgets/base",
            "top": null,
            "grid_column": null,
            "overflow_y": null,
            "overflow_x": null,
            "grid_auto_flow": null,
            "grid_area": null,
            "grid_template_columns": null,
            "flex": null,
            "_model_name": "LayoutModel",
            "justify_items": null,
            "grid_row": null,
            "max_height": null,
            "align_content": null,
            "visibility": null,
            "align_self": null,
            "height": null,
            "min_height": null,
            "padding": null,
            "grid_auto_rows": null,
            "grid_gap": null,
            "max_width": null,
            "order": null,
            "_view_module_version": "1.2.0",
            "grid_template_areas": null,
            "object_position": null,
            "object_fit": null,
            "grid_auto_columns": null,
            "margin": null,
            "display": null,
            "left": null
          }
        },
        "03d7e3a322464540abce7ad4f1178d62": {
          "model_module": "@jupyter-widgets/controls",
          "model_name": "DescriptionStyleModel",
          "state": {
            "_view_name": "StyleView",
            "_model_name": "DescriptionStyleModel",
            "description_width": "",
            "_view_module": "@jupyter-widgets/base",
            "_model_module_version": "1.5.0",
            "_view_count": null,
            "_view_module_version": "1.2.0",
            "_model_module": "@jupyter-widgets/controls"
          }
        },
        "79ca298b42164881ba80284cd3c9dfa1": {
          "model_module": "@jupyter-widgets/base",
          "model_name": "LayoutModel",
          "state": {
            "_view_name": "LayoutView",
            "grid_template_rows": null,
            "right": null,
            "justify_content": null,
            "_view_module": "@jupyter-widgets/base",
            "overflow": null,
            "_model_module_version": "1.2.0",
            "_view_count": null,
            "flex_flow": null,
            "width": null,
            "min_width": null,
            "border": null,
            "align_items": null,
            "bottom": null,
            "_model_module": "@jupyter-widgets/base",
            "top": null,
            "grid_column": null,
            "overflow_y": null,
            "overflow_x": null,
            "grid_auto_flow": null,
            "grid_area": null,
            "grid_template_columns": null,
            "flex": null,
            "_model_name": "LayoutModel",
            "justify_items": null,
            "grid_row": null,
            "max_height": null,
            "align_content": null,
            "visibility": null,
            "align_self": null,
            "height": null,
            "min_height": null,
            "padding": null,
            "grid_auto_rows": null,
            "grid_gap": null,
            "max_width": null,
            "order": null,
            "_view_module_version": "1.2.0",
            "grid_template_areas": null,
            "object_position": null,
            "object_fit": null,
            "grid_auto_columns": null,
            "margin": null,
            "display": null,
            "left": null
          }
        },
        "096d190a336543f99d163326f15180b4": {
          "model_module": "@jupyter-widgets/controls",
          "model_name": "HBoxModel",
          "state": {
            "_view_name": "HBoxView",
            "_dom_classes": [],
            "_model_name": "HBoxModel",
            "_view_module": "@jupyter-widgets/controls",
            "_model_module_version": "1.5.0",
            "_view_count": null,
            "_view_module_version": "1.5.0",
            "box_style": "",
            "layout": "IPY_MODEL_21afd10857ad4ef4a999af30d2460f23",
            "_model_module": "@jupyter-widgets/controls",
            "children": [
              "IPY_MODEL_77bd9aec33ed41b3a3cbdf8d2ec1d196",
              "IPY_MODEL_0126152aaa2c4738b72af97ebf868f3b"
            ]
          }
        },
        "21afd10857ad4ef4a999af30d2460f23": {
          "model_module": "@jupyter-widgets/base",
          "model_name": "LayoutModel",
          "state": {
            "_view_name": "LayoutView",
            "grid_template_rows": null,
            "right": null,
            "justify_content": null,
            "_view_module": "@jupyter-widgets/base",
            "overflow": null,
            "_model_module_version": "1.2.0",
            "_view_count": null,
            "flex_flow": null,
            "width": null,
            "min_width": null,
            "border": null,
            "align_items": null,
            "bottom": null,
            "_model_module": "@jupyter-widgets/base",
            "top": null,
            "grid_column": null,
            "overflow_y": null,
            "overflow_x": null,
            "grid_auto_flow": null,
            "grid_area": null,
            "grid_template_columns": null,
            "flex": null,
            "_model_name": "LayoutModel",
            "justify_items": null,
            "grid_row": null,
            "max_height": null,
            "align_content": null,
            "visibility": null,
            "align_self": null,
            "height": null,
            "min_height": null,
            "padding": null,
            "grid_auto_rows": null,
            "grid_gap": null,
            "max_width": null,
            "order": null,
            "_view_module_version": "1.2.0",
            "grid_template_areas": null,
            "object_position": null,
            "object_fit": null,
            "grid_auto_columns": null,
            "margin": null,
            "display": null,
            "left": null
          }
        },
        "77bd9aec33ed41b3a3cbdf8d2ec1d196": {
          "model_module": "@jupyter-widgets/controls",
          "model_name": "IntProgressModel",
          "state": {
            "_view_name": "ProgressView",
            "style": "IPY_MODEL_e8f827afe2f64ebdbca6de04842afbf1",
            "_dom_classes": [],
            "description": "Epoch: 100%",
            "_model_name": "IntProgressModel",
            "bar_style": "danger",
            "max": 8,
            "_view_module": "@jupyter-widgets/controls",
            "_model_module_version": "1.5.0",
            "value": 8,
            "_view_count": null,
            "_view_module_version": "1.5.0",
            "orientation": "horizontal",
            "min": 0,
            "description_tooltip": null,
            "_model_module": "@jupyter-widgets/controls",
            "layout": "IPY_MODEL_e64fd594e36e450cba5a19a53842b377"
          }
        },
        "0126152aaa2c4738b72af97ebf868f3b": {
          "model_module": "@jupyter-widgets/controls",
          "model_name": "HTMLModel",
          "state": {
            "_view_name": "HTMLView",
            "style": "IPY_MODEL_f7af43e39d0e43ddabef931d889b8903",
            "_dom_classes": [],
            "description": "",
            "_model_name": "HTMLModel",
            "placeholder": "​",
            "_view_module": "@jupyter-widgets/controls",
            "_model_module_version": "1.5.0",
            "value": " 8/8 [00:23&lt;00:00,  2.61s/it]",
            "_view_count": null,
            "_view_module_version": "1.5.0",
            "description_tooltip": null,
            "_model_module": "@jupyter-widgets/controls",
            "layout": "IPY_MODEL_bbe788f61b2a4154ae1c3f15faaa11f2"
          }
        },
        "e8f827afe2f64ebdbca6de04842afbf1": {
          "model_module": "@jupyter-widgets/controls",
          "model_name": "ProgressStyleModel",
          "state": {
            "_view_name": "StyleView",
            "_model_name": "ProgressStyleModel",
            "description_width": "initial",
            "_view_module": "@jupyter-widgets/base",
            "_model_module_version": "1.5.0",
            "_view_count": null,
            "_view_module_version": "1.2.0",
            "bar_color": null,
            "_model_module": "@jupyter-widgets/controls"
          }
        },
        "e64fd594e36e450cba5a19a53842b377": {
          "model_module": "@jupyter-widgets/base",
          "model_name": "LayoutModel",
          "state": {
            "_view_name": "LayoutView",
            "grid_template_rows": null,
            "right": null,
            "justify_content": null,
            "_view_module": "@jupyter-widgets/base",
            "overflow": null,
            "_model_module_version": "1.2.0",
            "_view_count": null,
            "flex_flow": null,
            "width": null,
            "min_width": null,
            "border": null,
            "align_items": null,
            "bottom": null,
            "_model_module": "@jupyter-widgets/base",
            "top": null,
            "grid_column": null,
            "overflow_y": null,
            "overflow_x": null,
            "grid_auto_flow": null,
            "grid_area": null,
            "grid_template_columns": null,
            "flex": null,
            "_model_name": "LayoutModel",
            "justify_items": null,
            "grid_row": null,
            "max_height": null,
            "align_content": null,
            "visibility": null,
            "align_self": null,
            "height": null,
            "min_height": null,
            "padding": null,
            "grid_auto_rows": null,
            "grid_gap": null,
            "max_width": null,
            "order": null,
            "_view_module_version": "1.2.0",
            "grid_template_areas": null,
            "object_position": null,
            "object_fit": null,
            "grid_auto_columns": null,
            "margin": null,
            "display": null,
            "left": null
          }
        },
        "f7af43e39d0e43ddabef931d889b8903": {
          "model_module": "@jupyter-widgets/controls",
          "model_name": "DescriptionStyleModel",
          "state": {
            "_view_name": "StyleView",
            "_model_name": "DescriptionStyleModel",
            "description_width": "",
            "_view_module": "@jupyter-widgets/base",
            "_model_module_version": "1.5.0",
            "_view_count": null,
            "_view_module_version": "1.2.0",
            "_model_module": "@jupyter-widgets/controls"
          }
        },
        "bbe788f61b2a4154ae1c3f15faaa11f2": {
          "model_module": "@jupyter-widgets/base",
          "model_name": "LayoutModel",
          "state": {
            "_view_name": "LayoutView",
            "grid_template_rows": null,
            "right": null,
            "justify_content": null,
            "_view_module": "@jupyter-widgets/base",
            "overflow": null,
            "_model_module_version": "1.2.0",
            "_view_count": null,
            "flex_flow": null,
            "width": null,
            "min_width": null,
            "border": null,
            "align_items": null,
            "bottom": null,
            "_model_module": "@jupyter-widgets/base",
            "top": null,
            "grid_column": null,
            "overflow_y": null,
            "overflow_x": null,
            "grid_auto_flow": null,
            "grid_area": null,
            "grid_template_columns": null,
            "flex": null,
            "_model_name": "LayoutModel",
            "justify_items": null,
            "grid_row": null,
            "max_height": null,
            "align_content": null,
            "visibility": null,
            "align_self": null,
            "height": null,
            "min_height": null,
            "padding": null,
            "grid_auto_rows": null,
            "grid_gap": null,
            "max_width": null,
            "order": null,
            "_view_module_version": "1.2.0",
            "grid_template_areas": null,
            "object_position": null,
            "object_fit": null,
            "grid_auto_columns": null,
            "margin": null,
            "display": null,
            "left": null
          }
        },
        "3e7f10aa292241bd9dbe9e0ae3ce6a85": {
          "model_module": "@jupyter-widgets/controls",
          "model_name": "HBoxModel",
          "state": {
            "_view_name": "HBoxView",
            "_dom_classes": [],
            "_model_name": "HBoxModel",
            "_view_module": "@jupyter-widgets/controls",
            "_model_module_version": "1.5.0",
            "_view_count": null,
            "_view_module_version": "1.5.0",
            "box_style": "",
            "layout": "IPY_MODEL_b0de7eb0f02040a1bcc252afa7bb1aa8",
            "_model_module": "@jupyter-widgets/controls",
            "children": [
              "IPY_MODEL_53d392d4269f46a3bbf9aa00e7b0b904",
              "IPY_MODEL_b4866aa7939a471b837a5863ac539bb6"
            ]
          }
        },
        "b0de7eb0f02040a1bcc252afa7bb1aa8": {
          "model_module": "@jupyter-widgets/base",
          "model_name": "LayoutModel",
          "state": {
            "_view_name": "LayoutView",
            "grid_template_rows": null,
            "right": null,
            "justify_content": null,
            "_view_module": "@jupyter-widgets/base",
            "overflow": null,
            "_model_module_version": "1.2.0",
            "_view_count": null,
            "flex_flow": null,
            "width": null,
            "min_width": null,
            "border": null,
            "align_items": null,
            "bottom": null,
            "_model_module": "@jupyter-widgets/base",
            "top": null,
            "grid_column": null,
            "overflow_y": null,
            "overflow_x": null,
            "grid_auto_flow": null,
            "grid_area": null,
            "grid_template_columns": null,
            "flex": null,
            "_model_name": "LayoutModel",
            "justify_items": null,
            "grid_row": null,
            "max_height": null,
            "align_content": null,
            "visibility": null,
            "align_self": null,
            "height": null,
            "min_height": null,
            "padding": null,
            "grid_auto_rows": null,
            "grid_gap": null,
            "max_width": null,
            "order": null,
            "_view_module_version": "1.2.0",
            "grid_template_areas": null,
            "object_position": null,
            "object_fit": null,
            "grid_auto_columns": null,
            "margin": null,
            "display": null,
            "left": null
          }
        },
        "53d392d4269f46a3bbf9aa00e7b0b904": {
          "model_module": "@jupyter-widgets/controls",
          "model_name": "IntProgressModel",
          "state": {
            "_view_name": "ProgressView",
            "style": "IPY_MODEL_d365c8b1ca7e4ffa89c93f90d88fe7ed",
            "_dom_classes": [],
            "description": "Epoch:   0%",
            "_model_name": "IntProgressModel",
            "bar_style": "danger",
            "max": 1,
            "_view_module": "@jupyter-widgets/controls",
            "_model_module_version": "1.5.0",
            "value": 0,
            "_view_count": null,
            "_view_module_version": "1.5.0",
            "orientation": "horizontal",
            "min": 0,
            "description_tooltip": null,
            "_model_module": "@jupyter-widgets/controls",
            "layout": "IPY_MODEL_68337698fdd94115b385a364085840a1"
          }
        },
        "b4866aa7939a471b837a5863ac539bb6": {
          "model_module": "@jupyter-widgets/controls",
          "model_name": "HTMLModel",
          "state": {
            "_view_name": "HTMLView",
            "style": "IPY_MODEL_f82ce0f62b4d42d1bb0b68b6fbf87f93",
            "_dom_classes": [],
            "description": "",
            "_model_name": "HTMLModel",
            "placeholder": "​",
            "_view_module": "@jupyter-widgets/controls",
            "_model_module_version": "1.5.0",
            "value": " 0/1 [00:02&lt;?, ?it/s]",
            "_view_count": null,
            "_view_module_version": "1.5.0",
            "description_tooltip": null,
            "_model_module": "@jupyter-widgets/controls",
            "layout": "IPY_MODEL_570eaf6175314100b34f0efe92d57b7b"
          }
        },
        "d365c8b1ca7e4ffa89c93f90d88fe7ed": {
          "model_module": "@jupyter-widgets/controls",
          "model_name": "ProgressStyleModel",
          "state": {
            "_view_name": "StyleView",
            "_model_name": "ProgressStyleModel",
            "description_width": "initial",
            "_view_module": "@jupyter-widgets/base",
            "_model_module_version": "1.5.0",
            "_view_count": null,
            "_view_module_version": "1.2.0",
            "bar_color": null,
            "_model_module": "@jupyter-widgets/controls"
          }
        },
        "68337698fdd94115b385a364085840a1": {
          "model_module": "@jupyter-widgets/base",
          "model_name": "LayoutModel",
          "state": {
            "_view_name": "LayoutView",
            "grid_template_rows": null,
            "right": null,
            "justify_content": null,
            "_view_module": "@jupyter-widgets/base",
            "overflow": null,
            "_model_module_version": "1.2.0",
            "_view_count": null,
            "flex_flow": null,
            "width": null,
            "min_width": null,
            "border": null,
            "align_items": null,
            "bottom": null,
            "_model_module": "@jupyter-widgets/base",
            "top": null,
            "grid_column": null,
            "overflow_y": null,
            "overflow_x": null,
            "grid_auto_flow": null,
            "grid_area": null,
            "grid_template_columns": null,
            "flex": null,
            "_model_name": "LayoutModel",
            "justify_items": null,
            "grid_row": null,
            "max_height": null,
            "align_content": null,
            "visibility": null,
            "align_self": null,
            "height": null,
            "min_height": null,
            "padding": null,
            "grid_auto_rows": null,
            "grid_gap": null,
            "max_width": null,
            "order": null,
            "_view_module_version": "1.2.0",
            "grid_template_areas": null,
            "object_position": null,
            "object_fit": null,
            "grid_auto_columns": null,
            "margin": null,
            "display": null,
            "left": null
          }
        },
        "f82ce0f62b4d42d1bb0b68b6fbf87f93": {
          "model_module": "@jupyter-widgets/controls",
          "model_name": "DescriptionStyleModel",
          "state": {
            "_view_name": "StyleView",
            "_model_name": "DescriptionStyleModel",
            "description_width": "",
            "_view_module": "@jupyter-widgets/base",
            "_model_module_version": "1.5.0",
            "_view_count": null,
            "_view_module_version": "1.2.0",
            "_model_module": "@jupyter-widgets/controls"
          }
        },
        "570eaf6175314100b34f0efe92d57b7b": {
          "model_module": "@jupyter-widgets/base",
          "model_name": "LayoutModel",
          "state": {
            "_view_name": "LayoutView",
            "grid_template_rows": null,
            "right": null,
            "justify_content": null,
            "_view_module": "@jupyter-widgets/base",
            "overflow": null,
            "_model_module_version": "1.2.0",
            "_view_count": null,
            "flex_flow": null,
            "width": null,
            "min_width": null,
            "border": null,
            "align_items": null,
            "bottom": null,
            "_model_module": "@jupyter-widgets/base",
            "top": null,
            "grid_column": null,
            "overflow_y": null,
            "overflow_x": null,
            "grid_auto_flow": null,
            "grid_area": null,
            "grid_template_columns": null,
            "flex": null,
            "_model_name": "LayoutModel",
            "justify_items": null,
            "grid_row": null,
            "max_height": null,
            "align_content": null,
            "visibility": null,
            "align_self": null,
            "height": null,
            "min_height": null,
            "padding": null,
            "grid_auto_rows": null,
            "grid_gap": null,
            "max_width": null,
            "order": null,
            "_view_module_version": "1.2.0",
            "grid_template_areas": null,
            "object_position": null,
            "object_fit": null,
            "grid_auto_columns": null,
            "margin": null,
            "display": null,
            "left": null
          }
        },
        "f1571ad6ed8149b4ab38939f13512a23": {
          "model_module": "@jupyter-widgets/controls",
          "model_name": "HBoxModel",
          "state": {
            "_view_name": "HBoxView",
            "_dom_classes": [],
            "_model_name": "HBoxModel",
            "_view_module": "@jupyter-widgets/controls",
            "_model_module_version": "1.5.0",
            "_view_count": null,
            "_view_module_version": "1.5.0",
            "box_style": "",
            "layout": "IPY_MODEL_3c984cc3ce7749b6baf93768f330c3db",
            "_model_module": "@jupyter-widgets/controls",
            "children": [
              "IPY_MODEL_9d6a5843f4e64e158e2f43626dfb8c8a",
              "IPY_MODEL_96d3fd33e6254e328e920a4659ae8524"
            ]
          }
        },
        "3c984cc3ce7749b6baf93768f330c3db": {
          "model_module": "@jupyter-widgets/base",
          "model_name": "LayoutModel",
          "state": {
            "_view_name": "LayoutView",
            "grid_template_rows": null,
            "right": null,
            "justify_content": null,
            "_view_module": "@jupyter-widgets/base",
            "overflow": null,
            "_model_module_version": "1.2.0",
            "_view_count": null,
            "flex_flow": null,
            "width": null,
            "min_width": null,
            "border": null,
            "align_items": null,
            "bottom": null,
            "_model_module": "@jupyter-widgets/base",
            "top": null,
            "grid_column": null,
            "overflow_y": null,
            "overflow_x": null,
            "grid_auto_flow": null,
            "grid_area": null,
            "grid_template_columns": null,
            "flex": null,
            "_model_name": "LayoutModel",
            "justify_items": null,
            "grid_row": null,
            "max_height": null,
            "align_content": null,
            "visibility": null,
            "align_self": null,
            "height": null,
            "min_height": null,
            "padding": null,
            "grid_auto_rows": null,
            "grid_gap": null,
            "max_width": null,
            "order": null,
            "_view_module_version": "1.2.0",
            "grid_template_areas": null,
            "object_position": null,
            "object_fit": null,
            "grid_auto_columns": null,
            "margin": null,
            "display": null,
            "left": null
          }
        },
        "9d6a5843f4e64e158e2f43626dfb8c8a": {
          "model_module": "@jupyter-widgets/controls",
          "model_name": "IntProgressModel",
          "state": {
            "_view_name": "ProgressView",
            "style": "IPY_MODEL_b4af035a126a43feb4d234560fd70ba0",
            "_dom_classes": [],
            "description": "Epoch: 100%",
            "_model_name": "IntProgressModel",
            "bar_style": "danger",
            "max": 8,
            "_view_module": "@jupyter-widgets/controls",
            "_model_module_version": "1.5.0",
            "value": 8,
            "_view_count": null,
            "_view_module_version": "1.5.0",
            "orientation": "horizontal",
            "min": 0,
            "description_tooltip": null,
            "_model_module": "@jupyter-widgets/controls",
            "layout": "IPY_MODEL_df5640392dbe4748a6853d98da937a82"
          }
        },
        "96d3fd33e6254e328e920a4659ae8524": {
          "model_module": "@jupyter-widgets/controls",
          "model_name": "HTMLModel",
          "state": {
            "_view_name": "HTMLView",
            "style": "IPY_MODEL_7ed7f1bebb324e64bcb43c5de361d6e0",
            "_dom_classes": [],
            "description": "",
            "_model_name": "HTMLModel",
            "placeholder": "​",
            "_view_module": "@jupyter-widgets/controls",
            "_model_module_version": "1.5.0",
            "value": " 8/8 [00:21&lt;00:00,  2.66s/it]",
            "_view_count": null,
            "_view_module_version": "1.5.0",
            "description_tooltip": null,
            "_model_module": "@jupyter-widgets/controls",
            "layout": "IPY_MODEL_5d7c3bb773a146b198b3d5d5d1d7345c"
          }
        },
        "b4af035a126a43feb4d234560fd70ba0": {
          "model_module": "@jupyter-widgets/controls",
          "model_name": "ProgressStyleModel",
          "state": {
            "_view_name": "StyleView",
            "_model_name": "ProgressStyleModel",
            "description_width": "initial",
            "_view_module": "@jupyter-widgets/base",
            "_model_module_version": "1.5.0",
            "_view_count": null,
            "_view_module_version": "1.2.0",
            "bar_color": null,
            "_model_module": "@jupyter-widgets/controls"
          }
        },
        "df5640392dbe4748a6853d98da937a82": {
          "model_module": "@jupyter-widgets/base",
          "model_name": "LayoutModel",
          "state": {
            "_view_name": "LayoutView",
            "grid_template_rows": null,
            "right": null,
            "justify_content": null,
            "_view_module": "@jupyter-widgets/base",
            "overflow": null,
            "_model_module_version": "1.2.0",
            "_view_count": null,
            "flex_flow": null,
            "width": null,
            "min_width": null,
            "border": null,
            "align_items": null,
            "bottom": null,
            "_model_module": "@jupyter-widgets/base",
            "top": null,
            "grid_column": null,
            "overflow_y": null,
            "overflow_x": null,
            "grid_auto_flow": null,
            "grid_area": null,
            "grid_template_columns": null,
            "flex": null,
            "_model_name": "LayoutModel",
            "justify_items": null,
            "grid_row": null,
            "max_height": null,
            "align_content": null,
            "visibility": null,
            "align_self": null,
            "height": null,
            "min_height": null,
            "padding": null,
            "grid_auto_rows": null,
            "grid_gap": null,
            "max_width": null,
            "order": null,
            "_view_module_version": "1.2.0",
            "grid_template_areas": null,
            "object_position": null,
            "object_fit": null,
            "grid_auto_columns": null,
            "margin": null,
            "display": null,
            "left": null
          }
        },
        "7ed7f1bebb324e64bcb43c5de361d6e0": {
          "model_module": "@jupyter-widgets/controls",
          "model_name": "DescriptionStyleModel",
          "state": {
            "_view_name": "StyleView",
            "_model_name": "DescriptionStyleModel",
            "description_width": "",
            "_view_module": "@jupyter-widgets/base",
            "_model_module_version": "1.5.0",
            "_view_count": null,
            "_view_module_version": "1.2.0",
            "_model_module": "@jupyter-widgets/controls"
          }
        },
        "5d7c3bb773a146b198b3d5d5d1d7345c": {
          "model_module": "@jupyter-widgets/base",
          "model_name": "LayoutModel",
          "state": {
            "_view_name": "LayoutView",
            "grid_template_rows": null,
            "right": null,
            "justify_content": null,
            "_view_module": "@jupyter-widgets/base",
            "overflow": null,
            "_model_module_version": "1.2.0",
            "_view_count": null,
            "flex_flow": null,
            "width": null,
            "min_width": null,
            "border": null,
            "align_items": null,
            "bottom": null,
            "_model_module": "@jupyter-widgets/base",
            "top": null,
            "grid_column": null,
            "overflow_y": null,
            "overflow_x": null,
            "grid_auto_flow": null,
            "grid_area": null,
            "grid_template_columns": null,
            "flex": null,
            "_model_name": "LayoutModel",
            "justify_items": null,
            "grid_row": null,
            "max_height": null,
            "align_content": null,
            "visibility": null,
            "align_self": null,
            "height": null,
            "min_height": null,
            "padding": null,
            "grid_auto_rows": null,
            "grid_gap": null,
            "max_width": null,
            "order": null,
            "_view_module_version": "1.2.0",
            "grid_template_areas": null,
            "object_position": null,
            "object_fit": null,
            "grid_auto_columns": null,
            "margin": null,
            "display": null,
            "left": null
          }
        },
        "1dc33676f5854e729fe26395e700b692": {
          "model_module": "@jupyter-widgets/controls",
          "model_name": "HBoxModel",
          "state": {
            "_view_name": "HBoxView",
            "_dom_classes": [],
            "_model_name": "HBoxModel",
            "_view_module": "@jupyter-widgets/controls",
            "_model_module_version": "1.5.0",
            "_view_count": null,
            "_view_module_version": "1.5.0",
            "box_style": "",
            "layout": "IPY_MODEL_ebcbcc47d1624abc866ec5c1b028be72",
            "_model_module": "@jupyter-widgets/controls",
            "children": [
              "IPY_MODEL_2d65343ef6c7426a8fc5296d1d57855b",
              "IPY_MODEL_d3c8998c085e4e01b0c06ff26d801313"
            ]
          }
        },
        "ebcbcc47d1624abc866ec5c1b028be72": {
          "model_module": "@jupyter-widgets/base",
          "model_name": "LayoutModel",
          "state": {
            "_view_name": "LayoutView",
            "grid_template_rows": null,
            "right": null,
            "justify_content": null,
            "_view_module": "@jupyter-widgets/base",
            "overflow": null,
            "_model_module_version": "1.2.0",
            "_view_count": null,
            "flex_flow": null,
            "width": null,
            "min_width": null,
            "border": null,
            "align_items": null,
            "bottom": null,
            "_model_module": "@jupyter-widgets/base",
            "top": null,
            "grid_column": null,
            "overflow_y": null,
            "overflow_x": null,
            "grid_auto_flow": null,
            "grid_area": null,
            "grid_template_columns": null,
            "flex": null,
            "_model_name": "LayoutModel",
            "justify_items": null,
            "grid_row": null,
            "max_height": null,
            "align_content": null,
            "visibility": null,
            "align_self": null,
            "height": null,
            "min_height": null,
            "padding": null,
            "grid_auto_rows": null,
            "grid_gap": null,
            "max_width": null,
            "order": null,
            "_view_module_version": "1.2.0",
            "grid_template_areas": null,
            "object_position": null,
            "object_fit": null,
            "grid_auto_columns": null,
            "margin": null,
            "display": null,
            "left": null
          }
        },
        "2d65343ef6c7426a8fc5296d1d57855b": {
          "model_module": "@jupyter-widgets/controls",
          "model_name": "IntProgressModel",
          "state": {
            "_view_name": "ProgressView",
            "style": "IPY_MODEL_8c08a138a0fe441f83203a10853f675d",
            "_dom_classes": [],
            "description": "Epoch:   0%",
            "_model_name": "IntProgressModel",
            "bar_style": "danger",
            "max": 1,
            "_view_module": "@jupyter-widgets/controls",
            "_model_module_version": "1.5.0",
            "value": 0,
            "_view_count": null,
            "_view_module_version": "1.5.0",
            "orientation": "horizontal",
            "min": 0,
            "description_tooltip": null,
            "_model_module": "@jupyter-widgets/controls",
            "layout": "IPY_MODEL_7db1391645e5415cb17efa6805053de3"
          }
        },
        "d3c8998c085e4e01b0c06ff26d801313": {
          "model_module": "@jupyter-widgets/controls",
          "model_name": "HTMLModel",
          "state": {
            "_view_name": "HTMLView",
            "style": "IPY_MODEL_8b59ac1d976b405e8d6cb948b9542770",
            "_dom_classes": [],
            "description": "",
            "_model_name": "HTMLModel",
            "placeholder": "​",
            "_view_module": "@jupyter-widgets/controls",
            "_model_module_version": "1.5.0",
            "value": " 0/1 [00:40&lt;?, ?it/s]",
            "_view_count": null,
            "_view_module_version": "1.5.0",
            "description_tooltip": null,
            "_model_module": "@jupyter-widgets/controls",
            "layout": "IPY_MODEL_b721b4daca2240dba7d78f5d235de39d"
          }
        },
        "8c08a138a0fe441f83203a10853f675d": {
          "model_module": "@jupyter-widgets/controls",
          "model_name": "ProgressStyleModel",
          "state": {
            "_view_name": "StyleView",
            "_model_name": "ProgressStyleModel",
            "description_width": "initial",
            "_view_module": "@jupyter-widgets/base",
            "_model_module_version": "1.5.0",
            "_view_count": null,
            "_view_module_version": "1.2.0",
            "bar_color": null,
            "_model_module": "@jupyter-widgets/controls"
          }
        },
        "7db1391645e5415cb17efa6805053de3": {
          "model_module": "@jupyter-widgets/base",
          "model_name": "LayoutModel",
          "state": {
            "_view_name": "LayoutView",
            "grid_template_rows": null,
            "right": null,
            "justify_content": null,
            "_view_module": "@jupyter-widgets/base",
            "overflow": null,
            "_model_module_version": "1.2.0",
            "_view_count": null,
            "flex_flow": null,
            "width": null,
            "min_width": null,
            "border": null,
            "align_items": null,
            "bottom": null,
            "_model_module": "@jupyter-widgets/base",
            "top": null,
            "grid_column": null,
            "overflow_y": null,
            "overflow_x": null,
            "grid_auto_flow": null,
            "grid_area": null,
            "grid_template_columns": null,
            "flex": null,
            "_model_name": "LayoutModel",
            "justify_items": null,
            "grid_row": null,
            "max_height": null,
            "align_content": null,
            "visibility": null,
            "align_self": null,
            "height": null,
            "min_height": null,
            "padding": null,
            "grid_auto_rows": null,
            "grid_gap": null,
            "max_width": null,
            "order": null,
            "_view_module_version": "1.2.0",
            "grid_template_areas": null,
            "object_position": null,
            "object_fit": null,
            "grid_auto_columns": null,
            "margin": null,
            "display": null,
            "left": null
          }
        },
        "8b59ac1d976b405e8d6cb948b9542770": {
          "model_module": "@jupyter-widgets/controls",
          "model_name": "DescriptionStyleModel",
          "state": {
            "_view_name": "StyleView",
            "_model_name": "DescriptionStyleModel",
            "description_width": "",
            "_view_module": "@jupyter-widgets/base",
            "_model_module_version": "1.5.0",
            "_view_count": null,
            "_view_module_version": "1.2.0",
            "_model_module": "@jupyter-widgets/controls"
          }
        },
        "b721b4daca2240dba7d78f5d235de39d": {
          "model_module": "@jupyter-widgets/base",
          "model_name": "LayoutModel",
          "state": {
            "_view_name": "LayoutView",
            "grid_template_rows": null,
            "right": null,
            "justify_content": null,
            "_view_module": "@jupyter-widgets/base",
            "overflow": null,
            "_model_module_version": "1.2.0",
            "_view_count": null,
            "flex_flow": null,
            "width": null,
            "min_width": null,
            "border": null,
            "align_items": null,
            "bottom": null,
            "_model_module": "@jupyter-widgets/base",
            "top": null,
            "grid_column": null,
            "overflow_y": null,
            "overflow_x": null,
            "grid_auto_flow": null,
            "grid_area": null,
            "grid_template_columns": null,
            "flex": null,
            "_model_name": "LayoutModel",
            "justify_items": null,
            "grid_row": null,
            "max_height": null,
            "align_content": null,
            "visibility": null,
            "align_self": null,
            "height": null,
            "min_height": null,
            "padding": null,
            "grid_auto_rows": null,
            "grid_gap": null,
            "max_width": null,
            "order": null,
            "_view_module_version": "1.2.0",
            "grid_template_areas": null,
            "object_position": null,
            "object_fit": null,
            "grid_auto_columns": null,
            "margin": null,
            "display": null,
            "left": null
          }
        },
        "0c3dabcaebbe4e2d9cefbb1246f62cf0": {
          "model_module": "@jupyter-widgets/controls",
          "model_name": "HBoxModel",
          "state": {
            "_view_name": "HBoxView",
            "_dom_classes": [],
            "_model_name": "HBoxModel",
            "_view_module": "@jupyter-widgets/controls",
            "_model_module_version": "1.5.0",
            "_view_count": null,
            "_view_module_version": "1.5.0",
            "box_style": "",
            "layout": "IPY_MODEL_abfa1ee16caf4a8aadad571d8e56654c",
            "_model_module": "@jupyter-widgets/controls",
            "children": [
              "IPY_MODEL_53dadf47a6114c6e846e016594d3af21",
              "IPY_MODEL_af4dcf8ac980489a88198ad9e1c30557"
            ]
          }
        },
        "abfa1ee16caf4a8aadad571d8e56654c": {
          "model_module": "@jupyter-widgets/base",
          "model_name": "LayoutModel",
          "state": {
            "_view_name": "LayoutView",
            "grid_template_rows": null,
            "right": null,
            "justify_content": null,
            "_view_module": "@jupyter-widgets/base",
            "overflow": null,
            "_model_module_version": "1.2.0",
            "_view_count": null,
            "flex_flow": null,
            "width": null,
            "min_width": null,
            "border": null,
            "align_items": null,
            "bottom": null,
            "_model_module": "@jupyter-widgets/base",
            "top": null,
            "grid_column": null,
            "overflow_y": null,
            "overflow_x": null,
            "grid_auto_flow": null,
            "grid_area": null,
            "grid_template_columns": null,
            "flex": null,
            "_model_name": "LayoutModel",
            "justify_items": null,
            "grid_row": null,
            "max_height": null,
            "align_content": null,
            "visibility": null,
            "align_self": null,
            "height": null,
            "min_height": null,
            "padding": null,
            "grid_auto_rows": null,
            "grid_gap": null,
            "max_width": null,
            "order": null,
            "_view_module_version": "1.2.0",
            "grid_template_areas": null,
            "object_position": null,
            "object_fit": null,
            "grid_auto_columns": null,
            "margin": null,
            "display": null,
            "left": null
          }
        },
        "53dadf47a6114c6e846e016594d3af21": {
          "model_module": "@jupyter-widgets/controls",
          "model_name": "IntProgressModel",
          "state": {
            "_view_name": "ProgressView",
            "style": "IPY_MODEL_f294ae5e7ee546d7b45a1f582f9be771",
            "_dom_classes": [],
            "description": "Epoch: 100%",
            "_model_name": "IntProgressModel",
            "bar_style": "danger",
            "max": 8,
            "_view_module": "@jupyter-widgets/controls",
            "_model_module_version": "1.5.0",
            "value": 8,
            "_view_count": null,
            "_view_module_version": "1.5.0",
            "orientation": "horizontal",
            "min": 0,
            "description_tooltip": null,
            "_model_module": "@jupyter-widgets/controls",
            "layout": "IPY_MODEL_200e339896674b5e94280b7a6caced61"
          }
        },
        "af4dcf8ac980489a88198ad9e1c30557": {
          "model_module": "@jupyter-widgets/controls",
          "model_name": "HTMLModel",
          "state": {
            "_view_name": "HTMLView",
            "style": "IPY_MODEL_e14cc84cd698472a94c94d420072f25d",
            "_dom_classes": [],
            "description": "",
            "_model_name": "HTMLModel",
            "placeholder": "​",
            "_view_module": "@jupyter-widgets/controls",
            "_model_module_version": "1.5.0",
            "value": " 8/8 [00:32&lt;00:00,  4.07s/it]",
            "_view_count": null,
            "_view_module_version": "1.5.0",
            "description_tooltip": null,
            "_model_module": "@jupyter-widgets/controls",
            "layout": "IPY_MODEL_886168c138e64281ad4357d84de50b55"
          }
        },
        "f294ae5e7ee546d7b45a1f582f9be771": {
          "model_module": "@jupyter-widgets/controls",
          "model_name": "ProgressStyleModel",
          "state": {
            "_view_name": "StyleView",
            "_model_name": "ProgressStyleModel",
            "description_width": "initial",
            "_view_module": "@jupyter-widgets/base",
            "_model_module_version": "1.5.0",
            "_view_count": null,
            "_view_module_version": "1.2.0",
            "bar_color": null,
            "_model_module": "@jupyter-widgets/controls"
          }
        },
        "200e339896674b5e94280b7a6caced61": {
          "model_module": "@jupyter-widgets/base",
          "model_name": "LayoutModel",
          "state": {
            "_view_name": "LayoutView",
            "grid_template_rows": null,
            "right": null,
            "justify_content": null,
            "_view_module": "@jupyter-widgets/base",
            "overflow": null,
            "_model_module_version": "1.2.0",
            "_view_count": null,
            "flex_flow": null,
            "width": null,
            "min_width": null,
            "border": null,
            "align_items": null,
            "bottom": null,
            "_model_module": "@jupyter-widgets/base",
            "top": null,
            "grid_column": null,
            "overflow_y": null,
            "overflow_x": null,
            "grid_auto_flow": null,
            "grid_area": null,
            "grid_template_columns": null,
            "flex": null,
            "_model_name": "LayoutModel",
            "justify_items": null,
            "grid_row": null,
            "max_height": null,
            "align_content": null,
            "visibility": null,
            "align_self": null,
            "height": null,
            "min_height": null,
            "padding": null,
            "grid_auto_rows": null,
            "grid_gap": null,
            "max_width": null,
            "order": null,
            "_view_module_version": "1.2.0",
            "grid_template_areas": null,
            "object_position": null,
            "object_fit": null,
            "grid_auto_columns": null,
            "margin": null,
            "display": null,
            "left": null
          }
        },
        "e14cc84cd698472a94c94d420072f25d": {
          "model_module": "@jupyter-widgets/controls",
          "model_name": "DescriptionStyleModel",
          "state": {
            "_view_name": "StyleView",
            "_model_name": "DescriptionStyleModel",
            "description_width": "",
            "_view_module": "@jupyter-widgets/base",
            "_model_module_version": "1.5.0",
            "_view_count": null,
            "_view_module_version": "1.2.0",
            "_model_module": "@jupyter-widgets/controls"
          }
        },
        "886168c138e64281ad4357d84de50b55": {
          "model_module": "@jupyter-widgets/base",
          "model_name": "LayoutModel",
          "state": {
            "_view_name": "LayoutView",
            "grid_template_rows": null,
            "right": null,
            "justify_content": null,
            "_view_module": "@jupyter-widgets/base",
            "overflow": null,
            "_model_module_version": "1.2.0",
            "_view_count": null,
            "flex_flow": null,
            "width": null,
            "min_width": null,
            "border": null,
            "align_items": null,
            "bottom": null,
            "_model_module": "@jupyter-widgets/base",
            "top": null,
            "grid_column": null,
            "overflow_y": null,
            "overflow_x": null,
            "grid_auto_flow": null,
            "grid_area": null,
            "grid_template_columns": null,
            "flex": null,
            "_model_name": "LayoutModel",
            "justify_items": null,
            "grid_row": null,
            "max_height": null,
            "align_content": null,
            "visibility": null,
            "align_self": null,
            "height": null,
            "min_height": null,
            "padding": null,
            "grid_auto_rows": null,
            "grid_gap": null,
            "max_width": null,
            "order": null,
            "_view_module_version": "1.2.0",
            "grid_template_areas": null,
            "object_position": null,
            "object_fit": null,
            "grid_auto_columns": null,
            "margin": null,
            "display": null,
            "left": null
          }
        },
        "daec08204830472fbb45c5ae05e3d4c3": {
          "model_module": "@jupyter-widgets/controls",
          "model_name": "HBoxModel",
          "state": {
            "_view_name": "HBoxView",
            "_dom_classes": [],
            "_model_name": "HBoxModel",
            "_view_module": "@jupyter-widgets/controls",
            "_model_module_version": "1.5.0",
            "_view_count": null,
            "_view_module_version": "1.5.0",
            "box_style": "",
            "layout": "IPY_MODEL_d73745f914704000865daa9b3874a71b",
            "_model_module": "@jupyter-widgets/controls",
            "children": [
              "IPY_MODEL_1a1224821a2145d3b582be9577686ec1",
              "IPY_MODEL_3a2c98238067433ea1215f7fedcef3f5"
            ]
          }
        },
        "d73745f914704000865daa9b3874a71b": {
          "model_module": "@jupyter-widgets/base",
          "model_name": "LayoutModel",
          "state": {
            "_view_name": "LayoutView",
            "grid_template_rows": null,
            "right": null,
            "justify_content": null,
            "_view_module": "@jupyter-widgets/base",
            "overflow": null,
            "_model_module_version": "1.2.0",
            "_view_count": null,
            "flex_flow": null,
            "width": null,
            "min_width": null,
            "border": null,
            "align_items": null,
            "bottom": null,
            "_model_module": "@jupyter-widgets/base",
            "top": null,
            "grid_column": null,
            "overflow_y": null,
            "overflow_x": null,
            "grid_auto_flow": null,
            "grid_area": null,
            "grid_template_columns": null,
            "flex": null,
            "_model_name": "LayoutModel",
            "justify_items": null,
            "grid_row": null,
            "max_height": null,
            "align_content": null,
            "visibility": null,
            "align_self": null,
            "height": null,
            "min_height": null,
            "padding": null,
            "grid_auto_rows": null,
            "grid_gap": null,
            "max_width": null,
            "order": null,
            "_view_module_version": "1.2.0",
            "grid_template_areas": null,
            "object_position": null,
            "object_fit": null,
            "grid_auto_columns": null,
            "margin": null,
            "display": null,
            "left": null
          }
        },
        "1a1224821a2145d3b582be9577686ec1": {
          "model_module": "@jupyter-widgets/controls",
          "model_name": "IntProgressModel",
          "state": {
            "_view_name": "ProgressView",
            "style": "IPY_MODEL_8667a0da0618402fab4f49652d27c5ea",
            "_dom_classes": [],
            "description": "Epoch:   0%",
            "_model_name": "IntProgressModel",
            "bar_style": "danger",
            "max": 1,
            "_view_module": "@jupyter-widgets/controls",
            "_model_module_version": "1.5.0",
            "value": 0,
            "_view_count": null,
            "_view_module_version": "1.5.0",
            "orientation": "horizontal",
            "min": 0,
            "description_tooltip": null,
            "_model_module": "@jupyter-widgets/controls",
            "layout": "IPY_MODEL_bf942d0a2c7d40078f757f978b6bfbe4"
          }
        },
        "3a2c98238067433ea1215f7fedcef3f5": {
          "model_module": "@jupyter-widgets/controls",
          "model_name": "HTMLModel",
          "state": {
            "_view_name": "HTMLView",
            "style": "IPY_MODEL_98cdb064144949a9a72f5f587928da9c",
            "_dom_classes": [],
            "description": "",
            "_model_name": "HTMLModel",
            "placeholder": "​",
            "_view_module": "@jupyter-widgets/controls",
            "_model_module_version": "1.5.0",
            "value": " 0/1 [00:03&lt;?, ?it/s]",
            "_view_count": null,
            "_view_module_version": "1.5.0",
            "description_tooltip": null,
            "_model_module": "@jupyter-widgets/controls",
            "layout": "IPY_MODEL_ecd020fb67ba4220b7de4fdf30afc0f9"
          }
        },
        "8667a0da0618402fab4f49652d27c5ea": {
          "model_module": "@jupyter-widgets/controls",
          "model_name": "ProgressStyleModel",
          "state": {
            "_view_name": "StyleView",
            "_model_name": "ProgressStyleModel",
            "description_width": "initial",
            "_view_module": "@jupyter-widgets/base",
            "_model_module_version": "1.5.0",
            "_view_count": null,
            "_view_module_version": "1.2.0",
            "bar_color": null,
            "_model_module": "@jupyter-widgets/controls"
          }
        },
        "bf942d0a2c7d40078f757f978b6bfbe4": {
          "model_module": "@jupyter-widgets/base",
          "model_name": "LayoutModel",
          "state": {
            "_view_name": "LayoutView",
            "grid_template_rows": null,
            "right": null,
            "justify_content": null,
            "_view_module": "@jupyter-widgets/base",
            "overflow": null,
            "_model_module_version": "1.2.0",
            "_view_count": null,
            "flex_flow": null,
            "width": null,
            "min_width": null,
            "border": null,
            "align_items": null,
            "bottom": null,
            "_model_module": "@jupyter-widgets/base",
            "top": null,
            "grid_column": null,
            "overflow_y": null,
            "overflow_x": null,
            "grid_auto_flow": null,
            "grid_area": null,
            "grid_template_columns": null,
            "flex": null,
            "_model_name": "LayoutModel",
            "justify_items": null,
            "grid_row": null,
            "max_height": null,
            "align_content": null,
            "visibility": null,
            "align_self": null,
            "height": null,
            "min_height": null,
            "padding": null,
            "grid_auto_rows": null,
            "grid_gap": null,
            "max_width": null,
            "order": null,
            "_view_module_version": "1.2.0",
            "grid_template_areas": null,
            "object_position": null,
            "object_fit": null,
            "grid_auto_columns": null,
            "margin": null,
            "display": null,
            "left": null
          }
        },
        "98cdb064144949a9a72f5f587928da9c": {
          "model_module": "@jupyter-widgets/controls",
          "model_name": "DescriptionStyleModel",
          "state": {
            "_view_name": "StyleView",
            "_model_name": "DescriptionStyleModel",
            "description_width": "",
            "_view_module": "@jupyter-widgets/base",
            "_model_module_version": "1.5.0",
            "_view_count": null,
            "_view_module_version": "1.2.0",
            "_model_module": "@jupyter-widgets/controls"
          }
        },
        "ecd020fb67ba4220b7de4fdf30afc0f9": {
          "model_module": "@jupyter-widgets/base",
          "model_name": "LayoutModel",
          "state": {
            "_view_name": "LayoutView",
            "grid_template_rows": null,
            "right": null,
            "justify_content": null,
            "_view_module": "@jupyter-widgets/base",
            "overflow": null,
            "_model_module_version": "1.2.0",
            "_view_count": null,
            "flex_flow": null,
            "width": null,
            "min_width": null,
            "border": null,
            "align_items": null,
            "bottom": null,
            "_model_module": "@jupyter-widgets/base",
            "top": null,
            "grid_column": null,
            "overflow_y": null,
            "overflow_x": null,
            "grid_auto_flow": null,
            "grid_area": null,
            "grid_template_columns": null,
            "flex": null,
            "_model_name": "LayoutModel",
            "justify_items": null,
            "grid_row": null,
            "max_height": null,
            "align_content": null,
            "visibility": null,
            "align_self": null,
            "height": null,
            "min_height": null,
            "padding": null,
            "grid_auto_rows": null,
            "grid_gap": null,
            "max_width": null,
            "order": null,
            "_view_module_version": "1.2.0",
            "grid_template_areas": null,
            "object_position": null,
            "object_fit": null,
            "grid_auto_columns": null,
            "margin": null,
            "display": null,
            "left": null
          }
        },
        "9c04ef9425754228a0e48d61a9f16ad8": {
          "model_module": "@jupyter-widgets/controls",
          "model_name": "HBoxModel",
          "state": {
            "_view_name": "HBoxView",
            "_dom_classes": [],
            "_model_name": "HBoxModel",
            "_view_module": "@jupyter-widgets/controls",
            "_model_module_version": "1.5.0",
            "_view_count": null,
            "_view_module_version": "1.5.0",
            "box_style": "",
            "layout": "IPY_MODEL_506ea5e05cdf4a3aa0582e62a961e91b",
            "_model_module": "@jupyter-widgets/controls",
            "children": [
              "IPY_MODEL_ac7f279466534693ac1ea64a071aad7b",
              "IPY_MODEL_7240836b49b04e29981621a6b3f1c6d4"
            ]
          }
        },
        "506ea5e05cdf4a3aa0582e62a961e91b": {
          "model_module": "@jupyter-widgets/base",
          "model_name": "LayoutModel",
          "state": {
            "_view_name": "LayoutView",
            "grid_template_rows": null,
            "right": null,
            "justify_content": null,
            "_view_module": "@jupyter-widgets/base",
            "overflow": null,
            "_model_module_version": "1.2.0",
            "_view_count": null,
            "flex_flow": null,
            "width": null,
            "min_width": null,
            "border": null,
            "align_items": null,
            "bottom": null,
            "_model_module": "@jupyter-widgets/base",
            "top": null,
            "grid_column": null,
            "overflow_y": null,
            "overflow_x": null,
            "grid_auto_flow": null,
            "grid_area": null,
            "grid_template_columns": null,
            "flex": null,
            "_model_name": "LayoutModel",
            "justify_items": null,
            "grid_row": null,
            "max_height": null,
            "align_content": null,
            "visibility": null,
            "align_self": null,
            "height": null,
            "min_height": null,
            "padding": null,
            "grid_auto_rows": null,
            "grid_gap": null,
            "max_width": null,
            "order": null,
            "_view_module_version": "1.2.0",
            "grid_template_areas": null,
            "object_position": null,
            "object_fit": null,
            "grid_auto_columns": null,
            "margin": null,
            "display": null,
            "left": null
          }
        },
        "ac7f279466534693ac1ea64a071aad7b": {
          "model_module": "@jupyter-widgets/controls",
          "model_name": "IntProgressModel",
          "state": {
            "_view_name": "ProgressView",
            "style": "IPY_MODEL_fc74caff64e345718f73b1b08b6baa4d",
            "_dom_classes": [],
            "description": "Epoch: 100%",
            "_model_name": "IntProgressModel",
            "bar_style": "danger",
            "max": 8,
            "_view_module": "@jupyter-widgets/controls",
            "_model_module_version": "1.5.0",
            "value": 8,
            "_view_count": null,
            "_view_module_version": "1.5.0",
            "orientation": "horizontal",
            "min": 0,
            "description_tooltip": null,
            "_model_module": "@jupyter-widgets/controls",
            "layout": "IPY_MODEL_41052467f908499396d502d7a504d5ca"
          }
        },
        "7240836b49b04e29981621a6b3f1c6d4": {
          "model_module": "@jupyter-widgets/controls",
          "model_name": "HTMLModel",
          "state": {
            "_view_name": "HTMLView",
            "style": "IPY_MODEL_66b0b289a26946b98d4c5cc6c2d9c8c0",
            "_dom_classes": [],
            "description": "",
            "_model_name": "HTMLModel",
            "placeholder": "​",
            "_view_module": "@jupyter-widgets/controls",
            "_model_module_version": "1.5.0",
            "value": " 8/8 [00:32&lt;00:00,  3.98s/it]",
            "_view_count": null,
            "_view_module_version": "1.5.0",
            "description_tooltip": null,
            "_model_module": "@jupyter-widgets/controls",
            "layout": "IPY_MODEL_6156bfe0a0c94724bb7181384b630d40"
          }
        },
        "fc74caff64e345718f73b1b08b6baa4d": {
          "model_module": "@jupyter-widgets/controls",
          "model_name": "ProgressStyleModel",
          "state": {
            "_view_name": "StyleView",
            "_model_name": "ProgressStyleModel",
            "description_width": "initial",
            "_view_module": "@jupyter-widgets/base",
            "_model_module_version": "1.5.0",
            "_view_count": null,
            "_view_module_version": "1.2.0",
            "bar_color": null,
            "_model_module": "@jupyter-widgets/controls"
          }
        },
        "41052467f908499396d502d7a504d5ca": {
          "model_module": "@jupyter-widgets/base",
          "model_name": "LayoutModel",
          "state": {
            "_view_name": "LayoutView",
            "grid_template_rows": null,
            "right": null,
            "justify_content": null,
            "_view_module": "@jupyter-widgets/base",
            "overflow": null,
            "_model_module_version": "1.2.0",
            "_view_count": null,
            "flex_flow": null,
            "width": null,
            "min_width": null,
            "border": null,
            "align_items": null,
            "bottom": null,
            "_model_module": "@jupyter-widgets/base",
            "top": null,
            "grid_column": null,
            "overflow_y": null,
            "overflow_x": null,
            "grid_auto_flow": null,
            "grid_area": null,
            "grid_template_columns": null,
            "flex": null,
            "_model_name": "LayoutModel",
            "justify_items": null,
            "grid_row": null,
            "max_height": null,
            "align_content": null,
            "visibility": null,
            "align_self": null,
            "height": null,
            "min_height": null,
            "padding": null,
            "grid_auto_rows": null,
            "grid_gap": null,
            "max_width": null,
            "order": null,
            "_view_module_version": "1.2.0",
            "grid_template_areas": null,
            "object_position": null,
            "object_fit": null,
            "grid_auto_columns": null,
            "margin": null,
            "display": null,
            "left": null
          }
        },
        "66b0b289a26946b98d4c5cc6c2d9c8c0": {
          "model_module": "@jupyter-widgets/controls",
          "model_name": "DescriptionStyleModel",
          "state": {
            "_view_name": "StyleView",
            "_model_name": "DescriptionStyleModel",
            "description_width": "",
            "_view_module": "@jupyter-widgets/base",
            "_model_module_version": "1.5.0",
            "_view_count": null,
            "_view_module_version": "1.2.0",
            "_model_module": "@jupyter-widgets/controls"
          }
        },
        "6156bfe0a0c94724bb7181384b630d40": {
          "model_module": "@jupyter-widgets/base",
          "model_name": "LayoutModel",
          "state": {
            "_view_name": "LayoutView",
            "grid_template_rows": null,
            "right": null,
            "justify_content": null,
            "_view_module": "@jupyter-widgets/base",
            "overflow": null,
            "_model_module_version": "1.2.0",
            "_view_count": null,
            "flex_flow": null,
            "width": null,
            "min_width": null,
            "border": null,
            "align_items": null,
            "bottom": null,
            "_model_module": "@jupyter-widgets/base",
            "top": null,
            "grid_column": null,
            "overflow_y": null,
            "overflow_x": null,
            "grid_auto_flow": null,
            "grid_area": null,
            "grid_template_columns": null,
            "flex": null,
            "_model_name": "LayoutModel",
            "justify_items": null,
            "grid_row": null,
            "max_height": null,
            "align_content": null,
            "visibility": null,
            "align_self": null,
            "height": null,
            "min_height": null,
            "padding": null,
            "grid_auto_rows": null,
            "grid_gap": null,
            "max_width": null,
            "order": null,
            "_view_module_version": "1.2.0",
            "grid_template_areas": null,
            "object_position": null,
            "object_fit": null,
            "grid_auto_columns": null,
            "margin": null,
            "display": null,
            "left": null
          }
        },
        "fc7a8070f9cd4cd9a25c8db3c3787feb": {
          "model_module": "@jupyter-widgets/controls",
          "model_name": "HBoxModel",
          "state": {
            "_view_name": "HBoxView",
            "_dom_classes": [],
            "_model_name": "HBoxModel",
            "_view_module": "@jupyter-widgets/controls",
            "_model_module_version": "1.5.0",
            "_view_count": null,
            "_view_module_version": "1.5.0",
            "box_style": "",
            "layout": "IPY_MODEL_6954b047b8204e828400b0d981b49d6b",
            "_model_module": "@jupyter-widgets/controls",
            "children": [
              "IPY_MODEL_afa237787dc443eba67f406738671b2b",
              "IPY_MODEL_2a476351cd404bd197a0525337f16e6f"
            ]
          }
        },
        "6954b047b8204e828400b0d981b49d6b": {
          "model_module": "@jupyter-widgets/base",
          "model_name": "LayoutModel",
          "state": {
            "_view_name": "LayoutView",
            "grid_template_rows": null,
            "right": null,
            "justify_content": null,
            "_view_module": "@jupyter-widgets/base",
            "overflow": null,
            "_model_module_version": "1.2.0",
            "_view_count": null,
            "flex_flow": null,
            "width": null,
            "min_width": null,
            "border": null,
            "align_items": null,
            "bottom": null,
            "_model_module": "@jupyter-widgets/base",
            "top": null,
            "grid_column": null,
            "overflow_y": null,
            "overflow_x": null,
            "grid_auto_flow": null,
            "grid_area": null,
            "grid_template_columns": null,
            "flex": null,
            "_model_name": "LayoutModel",
            "justify_items": null,
            "grid_row": null,
            "max_height": null,
            "align_content": null,
            "visibility": null,
            "align_self": null,
            "height": null,
            "min_height": null,
            "padding": null,
            "grid_auto_rows": null,
            "grid_gap": null,
            "max_width": null,
            "order": null,
            "_view_module_version": "1.2.0",
            "grid_template_areas": null,
            "object_position": null,
            "object_fit": null,
            "grid_auto_columns": null,
            "margin": null,
            "display": null,
            "left": null
          }
        },
        "afa237787dc443eba67f406738671b2b": {
          "model_module": "@jupyter-widgets/controls",
          "model_name": "IntProgressModel",
          "state": {
            "_view_name": "ProgressView",
            "style": "IPY_MODEL_57e3ba6d87af492185b3e040cdc7b4e3",
            "_dom_classes": [],
            "description": "Epoch:   0%",
            "_model_name": "IntProgressModel",
            "bar_style": "danger",
            "max": 1,
            "_view_module": "@jupyter-widgets/controls",
            "_model_module_version": "1.5.0",
            "value": 0,
            "_view_count": null,
            "_view_module_version": "1.5.0",
            "orientation": "horizontal",
            "min": 0,
            "description_tooltip": null,
            "_model_module": "@jupyter-widgets/controls",
            "layout": "IPY_MODEL_6889553346b54c488c1a1a63264a504d"
          }
        },
        "2a476351cd404bd197a0525337f16e6f": {
          "model_module": "@jupyter-widgets/controls",
          "model_name": "HTMLModel",
          "state": {
            "_view_name": "HTMLView",
            "style": "IPY_MODEL_00d5271f69134ce39be52e4f25afe2b6",
            "_dom_classes": [],
            "description": "",
            "_model_name": "HTMLModel",
            "placeholder": "​",
            "_view_module": "@jupyter-widgets/controls",
            "_model_module_version": "1.5.0",
            "value": " 0/1 [01:28&lt;?, ?it/s]",
            "_view_count": null,
            "_view_module_version": "1.5.0",
            "description_tooltip": null,
            "_model_module": "@jupyter-widgets/controls",
            "layout": "IPY_MODEL_860c3262bb744c678638017d1dbab41d"
          }
        },
        "57e3ba6d87af492185b3e040cdc7b4e3": {
          "model_module": "@jupyter-widgets/controls",
          "model_name": "ProgressStyleModel",
          "state": {
            "_view_name": "StyleView",
            "_model_name": "ProgressStyleModel",
            "description_width": "initial",
            "_view_module": "@jupyter-widgets/base",
            "_model_module_version": "1.5.0",
            "_view_count": null,
            "_view_module_version": "1.2.0",
            "bar_color": null,
            "_model_module": "@jupyter-widgets/controls"
          }
        },
        "6889553346b54c488c1a1a63264a504d": {
          "model_module": "@jupyter-widgets/base",
          "model_name": "LayoutModel",
          "state": {
            "_view_name": "LayoutView",
            "grid_template_rows": null,
            "right": null,
            "justify_content": null,
            "_view_module": "@jupyter-widgets/base",
            "overflow": null,
            "_model_module_version": "1.2.0",
            "_view_count": null,
            "flex_flow": null,
            "width": null,
            "min_width": null,
            "border": null,
            "align_items": null,
            "bottom": null,
            "_model_module": "@jupyter-widgets/base",
            "top": null,
            "grid_column": null,
            "overflow_y": null,
            "overflow_x": null,
            "grid_auto_flow": null,
            "grid_area": null,
            "grid_template_columns": null,
            "flex": null,
            "_model_name": "LayoutModel",
            "justify_items": null,
            "grid_row": null,
            "max_height": null,
            "align_content": null,
            "visibility": null,
            "align_self": null,
            "height": null,
            "min_height": null,
            "padding": null,
            "grid_auto_rows": null,
            "grid_gap": null,
            "max_width": null,
            "order": null,
            "_view_module_version": "1.2.0",
            "grid_template_areas": null,
            "object_position": null,
            "object_fit": null,
            "grid_auto_columns": null,
            "margin": null,
            "display": null,
            "left": null
          }
        },
        "00d5271f69134ce39be52e4f25afe2b6": {
          "model_module": "@jupyter-widgets/controls",
          "model_name": "DescriptionStyleModel",
          "state": {
            "_view_name": "StyleView",
            "_model_name": "DescriptionStyleModel",
            "description_width": "",
            "_view_module": "@jupyter-widgets/base",
            "_model_module_version": "1.5.0",
            "_view_count": null,
            "_view_module_version": "1.2.0",
            "_model_module": "@jupyter-widgets/controls"
          }
        },
        "860c3262bb744c678638017d1dbab41d": {
          "model_module": "@jupyter-widgets/base",
          "model_name": "LayoutModel",
          "state": {
            "_view_name": "LayoutView",
            "grid_template_rows": null,
            "right": null,
            "justify_content": null,
            "_view_module": "@jupyter-widgets/base",
            "overflow": null,
            "_model_module_version": "1.2.0",
            "_view_count": null,
            "flex_flow": null,
            "width": null,
            "min_width": null,
            "border": null,
            "align_items": null,
            "bottom": null,
            "_model_module": "@jupyter-widgets/base",
            "top": null,
            "grid_column": null,
            "overflow_y": null,
            "overflow_x": null,
            "grid_auto_flow": null,
            "grid_area": null,
            "grid_template_columns": null,
            "flex": null,
            "_model_name": "LayoutModel",
            "justify_items": null,
            "grid_row": null,
            "max_height": null,
            "align_content": null,
            "visibility": null,
            "align_self": null,
            "height": null,
            "min_height": null,
            "padding": null,
            "grid_auto_rows": null,
            "grid_gap": null,
            "max_width": null,
            "order": null,
            "_view_module_version": "1.2.0",
            "grid_template_areas": null,
            "object_position": null,
            "object_fit": null,
            "grid_auto_columns": null,
            "margin": null,
            "display": null,
            "left": null
          }
        },
        "f8510d494759438282dd7c3e9b393c05": {
          "model_module": "@jupyter-widgets/controls",
          "model_name": "HBoxModel",
          "state": {
            "_view_name": "HBoxView",
            "_dom_classes": [],
            "_model_name": "HBoxModel",
            "_view_module": "@jupyter-widgets/controls",
            "_model_module_version": "1.5.0",
            "_view_count": null,
            "_view_module_version": "1.5.0",
            "box_style": "",
            "layout": "IPY_MODEL_deb01f57d97c4b54ae806e3275a926b4",
            "_model_module": "@jupyter-widgets/controls",
            "children": [
              "IPY_MODEL_03f8a2d692784b30b7582b9b8b15f23b",
              "IPY_MODEL_a1c53e6a146846bea58f5562c58ca05d"
            ]
          }
        },
        "deb01f57d97c4b54ae806e3275a926b4": {
          "model_module": "@jupyter-widgets/base",
          "model_name": "LayoutModel",
          "state": {
            "_view_name": "LayoutView",
            "grid_template_rows": null,
            "right": null,
            "justify_content": null,
            "_view_module": "@jupyter-widgets/base",
            "overflow": null,
            "_model_module_version": "1.2.0",
            "_view_count": null,
            "flex_flow": null,
            "width": null,
            "min_width": null,
            "border": null,
            "align_items": null,
            "bottom": null,
            "_model_module": "@jupyter-widgets/base",
            "top": null,
            "grid_column": null,
            "overflow_y": null,
            "overflow_x": null,
            "grid_auto_flow": null,
            "grid_area": null,
            "grid_template_columns": null,
            "flex": null,
            "_model_name": "LayoutModel",
            "justify_items": null,
            "grid_row": null,
            "max_height": null,
            "align_content": null,
            "visibility": null,
            "align_self": null,
            "height": null,
            "min_height": null,
            "padding": null,
            "grid_auto_rows": null,
            "grid_gap": null,
            "max_width": null,
            "order": null,
            "_view_module_version": "1.2.0",
            "grid_template_areas": null,
            "object_position": null,
            "object_fit": null,
            "grid_auto_columns": null,
            "margin": null,
            "display": null,
            "left": null
          }
        },
        "03f8a2d692784b30b7582b9b8b15f23b": {
          "model_module": "@jupyter-widgets/controls",
          "model_name": "IntProgressModel",
          "state": {
            "_view_name": "ProgressView",
            "style": "IPY_MODEL_f3b5b29bf9744234a897582e2e5afcde",
            "_dom_classes": [],
            "description": "Epoch: 100%",
            "_model_name": "IntProgressModel",
            "bar_style": "danger",
            "max": 8,
            "_view_module": "@jupyter-widgets/controls",
            "_model_module_version": "1.5.0",
            "value": 8,
            "_view_count": null,
            "_view_module_version": "1.5.0",
            "orientation": "horizontal",
            "min": 0,
            "description_tooltip": null,
            "_model_module": "@jupyter-widgets/controls",
            "layout": "IPY_MODEL_1e9d5deb89044a378bde74d4c1a8c16b"
          }
        },
        "a1c53e6a146846bea58f5562c58ca05d": {
          "model_module": "@jupyter-widgets/controls",
          "model_name": "HTMLModel",
          "state": {
            "_view_name": "HTMLView",
            "style": "IPY_MODEL_0bbc82035e71438098ef5a959cc1d9fd",
            "_dom_classes": [],
            "description": "",
            "_model_name": "HTMLModel",
            "placeholder": "​",
            "_view_module": "@jupyter-widgets/controls",
            "_model_module_version": "1.5.0",
            "value": " 8/8 [15:00&lt;00:00, 101.27s/it]",
            "_view_count": null,
            "_view_module_version": "1.5.0",
            "description_tooltip": null,
            "_model_module": "@jupyter-widgets/controls",
            "layout": "IPY_MODEL_6c5efac84bd74854a5d20473317708e1"
          }
        },
        "f3b5b29bf9744234a897582e2e5afcde": {
          "model_module": "@jupyter-widgets/controls",
          "model_name": "ProgressStyleModel",
          "state": {
            "_view_name": "StyleView",
            "_model_name": "ProgressStyleModel",
            "description_width": "initial",
            "_view_module": "@jupyter-widgets/base",
            "_model_module_version": "1.5.0",
            "_view_count": null,
            "_view_module_version": "1.2.0",
            "bar_color": null,
            "_model_module": "@jupyter-widgets/controls"
          }
        },
        "1e9d5deb89044a378bde74d4c1a8c16b": {
          "model_module": "@jupyter-widgets/base",
          "model_name": "LayoutModel",
          "state": {
            "_view_name": "LayoutView",
            "grid_template_rows": null,
            "right": null,
            "justify_content": null,
            "_view_module": "@jupyter-widgets/base",
            "overflow": null,
            "_model_module_version": "1.2.0",
            "_view_count": null,
            "flex_flow": null,
            "width": null,
            "min_width": null,
            "border": null,
            "align_items": null,
            "bottom": null,
            "_model_module": "@jupyter-widgets/base",
            "top": null,
            "grid_column": null,
            "overflow_y": null,
            "overflow_x": null,
            "grid_auto_flow": null,
            "grid_area": null,
            "grid_template_columns": null,
            "flex": null,
            "_model_name": "LayoutModel",
            "justify_items": null,
            "grid_row": null,
            "max_height": null,
            "align_content": null,
            "visibility": null,
            "align_self": null,
            "height": null,
            "min_height": null,
            "padding": null,
            "grid_auto_rows": null,
            "grid_gap": null,
            "max_width": null,
            "order": null,
            "_view_module_version": "1.2.0",
            "grid_template_areas": null,
            "object_position": null,
            "object_fit": null,
            "grid_auto_columns": null,
            "margin": null,
            "display": null,
            "left": null
          }
        },
        "0bbc82035e71438098ef5a959cc1d9fd": {
          "model_module": "@jupyter-widgets/controls",
          "model_name": "DescriptionStyleModel",
          "state": {
            "_view_name": "StyleView",
            "_model_name": "DescriptionStyleModel",
            "description_width": "",
            "_view_module": "@jupyter-widgets/base",
            "_model_module_version": "1.5.0",
            "_view_count": null,
            "_view_module_version": "1.2.0",
            "_model_module": "@jupyter-widgets/controls"
          }
        },
        "6c5efac84bd74854a5d20473317708e1": {
          "model_module": "@jupyter-widgets/base",
          "model_name": "LayoutModel",
          "state": {
            "_view_name": "LayoutView",
            "grid_template_rows": null,
            "right": null,
            "justify_content": null,
            "_view_module": "@jupyter-widgets/base",
            "overflow": null,
            "_model_module_version": "1.2.0",
            "_view_count": null,
            "flex_flow": null,
            "width": null,
            "min_width": null,
            "border": null,
            "align_items": null,
            "bottom": null,
            "_model_module": "@jupyter-widgets/base",
            "top": null,
            "grid_column": null,
            "overflow_y": null,
            "overflow_x": null,
            "grid_auto_flow": null,
            "grid_area": null,
            "grid_template_columns": null,
            "flex": null,
            "_model_name": "LayoutModel",
            "justify_items": null,
            "grid_row": null,
            "max_height": null,
            "align_content": null,
            "visibility": null,
            "align_self": null,
            "height": null,
            "min_height": null,
            "padding": null,
            "grid_auto_rows": null,
            "grid_gap": null,
            "max_width": null,
            "order": null,
            "_view_module_version": "1.2.0",
            "grid_template_areas": null,
            "object_position": null,
            "object_fit": null,
            "grid_auto_columns": null,
            "margin": null,
            "display": null,
            "left": null
          }
        },
        "4c2f4053875b4cbc94621ae6c2bc1d85": {
          "model_module": "@jupyter-widgets/controls",
          "model_name": "HBoxModel",
          "state": {
            "_view_name": "HBoxView",
            "_dom_classes": [],
            "_model_name": "HBoxModel",
            "_view_module": "@jupyter-widgets/controls",
            "_model_module_version": "1.5.0",
            "_view_count": null,
            "_view_module_version": "1.5.0",
            "box_style": "",
            "layout": "IPY_MODEL_4fdeaebd90ea4a488803c1bd6e6ef3eb",
            "_model_module": "@jupyter-widgets/controls",
            "children": [
              "IPY_MODEL_ae2d732e01e44d3db28131576f515c83",
              "IPY_MODEL_a130dc73c23542a2b0e3f87939541fda"
            ]
          }
        },
        "4fdeaebd90ea4a488803c1bd6e6ef3eb": {
          "model_module": "@jupyter-widgets/base",
          "model_name": "LayoutModel",
          "state": {
            "_view_name": "LayoutView",
            "grid_template_rows": null,
            "right": null,
            "justify_content": null,
            "_view_module": "@jupyter-widgets/base",
            "overflow": null,
            "_model_module_version": "1.2.0",
            "_view_count": null,
            "flex_flow": null,
            "width": null,
            "min_width": null,
            "border": null,
            "align_items": null,
            "bottom": null,
            "_model_module": "@jupyter-widgets/base",
            "top": null,
            "grid_column": null,
            "overflow_y": null,
            "overflow_x": null,
            "grid_auto_flow": null,
            "grid_area": null,
            "grid_template_columns": null,
            "flex": null,
            "_model_name": "LayoutModel",
            "justify_items": null,
            "grid_row": null,
            "max_height": null,
            "align_content": null,
            "visibility": null,
            "align_self": null,
            "height": null,
            "min_height": null,
            "padding": null,
            "grid_auto_rows": null,
            "grid_gap": null,
            "max_width": null,
            "order": null,
            "_view_module_version": "1.2.0",
            "grid_template_areas": null,
            "object_position": null,
            "object_fit": null,
            "grid_auto_columns": null,
            "margin": null,
            "display": null,
            "left": null
          }
        },
        "ae2d732e01e44d3db28131576f515c83": {
          "model_module": "@jupyter-widgets/controls",
          "model_name": "IntProgressModel",
          "state": {
            "_view_name": "ProgressView",
            "style": "IPY_MODEL_60a2d96d2ecc444dbd528b4317d5b1c6",
            "_dom_classes": [],
            "description": "Epoch:   0%",
            "_model_name": "IntProgressModel",
            "bar_style": "danger",
            "max": 1,
            "_view_module": "@jupyter-widgets/controls",
            "_model_module_version": "1.5.0",
            "value": 0,
            "_view_count": null,
            "_view_module_version": "1.5.0",
            "orientation": "horizontal",
            "min": 0,
            "description_tooltip": null,
            "_model_module": "@jupyter-widgets/controls",
            "layout": "IPY_MODEL_e9554cd55c5141c384bf716d9cd93593"
          }
        },
        "a130dc73c23542a2b0e3f87939541fda": {
          "model_module": "@jupyter-widgets/controls",
          "model_name": "HTMLModel",
          "state": {
            "_view_name": "HTMLView",
            "style": "IPY_MODEL_d160e88e56124c968e558079394752cf",
            "_dom_classes": [],
            "description": "",
            "_model_name": "HTMLModel",
            "placeholder": "​",
            "_view_module": "@jupyter-widgets/controls",
            "_model_module_version": "1.5.0",
            "value": " 0/1 [01:27&lt;?, ?it/s]",
            "_view_count": null,
            "_view_module_version": "1.5.0",
            "description_tooltip": null,
            "_model_module": "@jupyter-widgets/controls",
            "layout": "IPY_MODEL_f4617868a31f42c09cd3c349b4058458"
          }
        },
        "60a2d96d2ecc444dbd528b4317d5b1c6": {
          "model_module": "@jupyter-widgets/controls",
          "model_name": "ProgressStyleModel",
          "state": {
            "_view_name": "StyleView",
            "_model_name": "ProgressStyleModel",
            "description_width": "initial",
            "_view_module": "@jupyter-widgets/base",
            "_model_module_version": "1.5.0",
            "_view_count": null,
            "_view_module_version": "1.2.0",
            "bar_color": null,
            "_model_module": "@jupyter-widgets/controls"
          }
        },
        "e9554cd55c5141c384bf716d9cd93593": {
          "model_module": "@jupyter-widgets/base",
          "model_name": "LayoutModel",
          "state": {
            "_view_name": "LayoutView",
            "grid_template_rows": null,
            "right": null,
            "justify_content": null,
            "_view_module": "@jupyter-widgets/base",
            "overflow": null,
            "_model_module_version": "1.2.0",
            "_view_count": null,
            "flex_flow": null,
            "width": null,
            "min_width": null,
            "border": null,
            "align_items": null,
            "bottom": null,
            "_model_module": "@jupyter-widgets/base",
            "top": null,
            "grid_column": null,
            "overflow_y": null,
            "overflow_x": null,
            "grid_auto_flow": null,
            "grid_area": null,
            "grid_template_columns": null,
            "flex": null,
            "_model_name": "LayoutModel",
            "justify_items": null,
            "grid_row": null,
            "max_height": null,
            "align_content": null,
            "visibility": null,
            "align_self": null,
            "height": null,
            "min_height": null,
            "padding": null,
            "grid_auto_rows": null,
            "grid_gap": null,
            "max_width": null,
            "order": null,
            "_view_module_version": "1.2.0",
            "grid_template_areas": null,
            "object_position": null,
            "object_fit": null,
            "grid_auto_columns": null,
            "margin": null,
            "display": null,
            "left": null
          }
        },
        "d160e88e56124c968e558079394752cf": {
          "model_module": "@jupyter-widgets/controls",
          "model_name": "DescriptionStyleModel",
          "state": {
            "_view_name": "StyleView",
            "_model_name": "DescriptionStyleModel",
            "description_width": "",
            "_view_module": "@jupyter-widgets/base",
            "_model_module_version": "1.5.0",
            "_view_count": null,
            "_view_module_version": "1.2.0",
            "_model_module": "@jupyter-widgets/controls"
          }
        },
        "f4617868a31f42c09cd3c349b4058458": {
          "model_module": "@jupyter-widgets/base",
          "model_name": "LayoutModel",
          "state": {
            "_view_name": "LayoutView",
            "grid_template_rows": null,
            "right": null,
            "justify_content": null,
            "_view_module": "@jupyter-widgets/base",
            "overflow": null,
            "_model_module_version": "1.2.0",
            "_view_count": null,
            "flex_flow": null,
            "width": null,
            "min_width": null,
            "border": null,
            "align_items": null,
            "bottom": null,
            "_model_module": "@jupyter-widgets/base",
            "top": null,
            "grid_column": null,
            "overflow_y": null,
            "overflow_x": null,
            "grid_auto_flow": null,
            "grid_area": null,
            "grid_template_columns": null,
            "flex": null,
            "_model_name": "LayoutModel",
            "justify_items": null,
            "grid_row": null,
            "max_height": null,
            "align_content": null,
            "visibility": null,
            "align_self": null,
            "height": null,
            "min_height": null,
            "padding": null,
            "grid_auto_rows": null,
            "grid_gap": null,
            "max_width": null,
            "order": null,
            "_view_module_version": "1.2.0",
            "grid_template_areas": null,
            "object_position": null,
            "object_fit": null,
            "grid_auto_columns": null,
            "margin": null,
            "display": null,
            "left": null
          }
        },
        "4bd2065d6bcd42cbbcacfda927b5ae88": {
          "model_module": "@jupyter-widgets/controls",
          "model_name": "HBoxModel",
          "state": {
            "_view_name": "HBoxView",
            "_dom_classes": [],
            "_model_name": "HBoxModel",
            "_view_module": "@jupyter-widgets/controls",
            "_model_module_version": "1.5.0",
            "_view_count": null,
            "_view_module_version": "1.5.0",
            "box_style": "",
            "layout": "IPY_MODEL_41812ffe4081438faa0f705dd5a41626",
            "_model_module": "@jupyter-widgets/controls",
            "children": [
              "IPY_MODEL_28ae93c3742e426da3ff84adebfffab7",
              "IPY_MODEL_98c83f66bc28477bb95c93a55bdc4128"
            ]
          }
        },
        "41812ffe4081438faa0f705dd5a41626": {
          "model_module": "@jupyter-widgets/base",
          "model_name": "LayoutModel",
          "state": {
            "_view_name": "LayoutView",
            "grid_template_rows": null,
            "right": null,
            "justify_content": null,
            "_view_module": "@jupyter-widgets/base",
            "overflow": null,
            "_model_module_version": "1.2.0",
            "_view_count": null,
            "flex_flow": null,
            "width": null,
            "min_width": null,
            "border": null,
            "align_items": null,
            "bottom": null,
            "_model_module": "@jupyter-widgets/base",
            "top": null,
            "grid_column": null,
            "overflow_y": null,
            "overflow_x": null,
            "grid_auto_flow": null,
            "grid_area": null,
            "grid_template_columns": null,
            "flex": null,
            "_model_name": "LayoutModel",
            "justify_items": null,
            "grid_row": null,
            "max_height": null,
            "align_content": null,
            "visibility": null,
            "align_self": null,
            "height": null,
            "min_height": null,
            "padding": null,
            "grid_auto_rows": null,
            "grid_gap": null,
            "max_width": null,
            "order": null,
            "_view_module_version": "1.2.0",
            "grid_template_areas": null,
            "object_position": null,
            "object_fit": null,
            "grid_auto_columns": null,
            "margin": null,
            "display": null,
            "left": null
          }
        },
        "28ae93c3742e426da3ff84adebfffab7": {
          "model_module": "@jupyter-widgets/controls",
          "model_name": "IntProgressModel",
          "state": {
            "_view_name": "ProgressView",
            "style": "IPY_MODEL_fcd511c49a8541bea4eee1990081b2fd",
            "_dom_classes": [],
            "description": "Epoch: 100%",
            "_model_name": "IntProgressModel",
            "bar_style": "danger",
            "max": 8,
            "_view_module": "@jupyter-widgets/controls",
            "_model_module_version": "1.5.0",
            "value": 8,
            "_view_count": null,
            "_view_module_version": "1.5.0",
            "orientation": "horizontal",
            "min": 0,
            "description_tooltip": null,
            "_model_module": "@jupyter-widgets/controls",
            "layout": "IPY_MODEL_8b3f10c2c9d1404f960dfa5d2c3677a2"
          }
        },
        "98c83f66bc28477bb95c93a55bdc4128": {
          "model_module": "@jupyter-widgets/controls",
          "model_name": "HTMLModel",
          "state": {
            "_view_name": "HTMLView",
            "style": "IPY_MODEL_98e306471b504aeea147fc66620a066c",
            "_dom_classes": [],
            "description": "",
            "_model_name": "HTMLModel",
            "placeholder": "​",
            "_view_module": "@jupyter-widgets/controls",
            "_model_module_version": "1.5.0",
            "value": " 8/8 [13:27&lt;00:00, 100.75s/it]",
            "_view_count": null,
            "_view_module_version": "1.5.0",
            "description_tooltip": null,
            "_model_module": "@jupyter-widgets/controls",
            "layout": "IPY_MODEL_c540a95dc86f47b381e8e9dcffed9c43"
          }
        },
        "fcd511c49a8541bea4eee1990081b2fd": {
          "model_module": "@jupyter-widgets/controls",
          "model_name": "ProgressStyleModel",
          "state": {
            "_view_name": "StyleView",
            "_model_name": "ProgressStyleModel",
            "description_width": "initial",
            "_view_module": "@jupyter-widgets/base",
            "_model_module_version": "1.5.0",
            "_view_count": null,
            "_view_module_version": "1.2.0",
            "bar_color": null,
            "_model_module": "@jupyter-widgets/controls"
          }
        },
        "8b3f10c2c9d1404f960dfa5d2c3677a2": {
          "model_module": "@jupyter-widgets/base",
          "model_name": "LayoutModel",
          "state": {
            "_view_name": "LayoutView",
            "grid_template_rows": null,
            "right": null,
            "justify_content": null,
            "_view_module": "@jupyter-widgets/base",
            "overflow": null,
            "_model_module_version": "1.2.0",
            "_view_count": null,
            "flex_flow": null,
            "width": null,
            "min_width": null,
            "border": null,
            "align_items": null,
            "bottom": null,
            "_model_module": "@jupyter-widgets/base",
            "top": null,
            "grid_column": null,
            "overflow_y": null,
            "overflow_x": null,
            "grid_auto_flow": null,
            "grid_area": null,
            "grid_template_columns": null,
            "flex": null,
            "_model_name": "LayoutModel",
            "justify_items": null,
            "grid_row": null,
            "max_height": null,
            "align_content": null,
            "visibility": null,
            "align_self": null,
            "height": null,
            "min_height": null,
            "padding": null,
            "grid_auto_rows": null,
            "grid_gap": null,
            "max_width": null,
            "order": null,
            "_view_module_version": "1.2.0",
            "grid_template_areas": null,
            "object_position": null,
            "object_fit": null,
            "grid_auto_columns": null,
            "margin": null,
            "display": null,
            "left": null
          }
        },
        "98e306471b504aeea147fc66620a066c": {
          "model_module": "@jupyter-widgets/controls",
          "model_name": "DescriptionStyleModel",
          "state": {
            "_view_name": "StyleView",
            "_model_name": "DescriptionStyleModel",
            "description_width": "",
            "_view_module": "@jupyter-widgets/base",
            "_model_module_version": "1.5.0",
            "_view_count": null,
            "_view_module_version": "1.2.0",
            "_model_module": "@jupyter-widgets/controls"
          }
        },
        "c540a95dc86f47b381e8e9dcffed9c43": {
          "model_module": "@jupyter-widgets/base",
          "model_name": "LayoutModel",
          "state": {
            "_view_name": "LayoutView",
            "grid_template_rows": null,
            "right": null,
            "justify_content": null,
            "_view_module": "@jupyter-widgets/base",
            "overflow": null,
            "_model_module_version": "1.2.0",
            "_view_count": null,
            "flex_flow": null,
            "width": null,
            "min_width": null,
            "border": null,
            "align_items": null,
            "bottom": null,
            "_model_module": "@jupyter-widgets/base",
            "top": null,
            "grid_column": null,
            "overflow_y": null,
            "overflow_x": null,
            "grid_auto_flow": null,
            "grid_area": null,
            "grid_template_columns": null,
            "flex": null,
            "_model_name": "LayoutModel",
            "justify_items": null,
            "grid_row": null,
            "max_height": null,
            "align_content": null,
            "visibility": null,
            "align_self": null,
            "height": null,
            "min_height": null,
            "padding": null,
            "grid_auto_rows": null,
            "grid_gap": null,
            "max_width": null,
            "order": null,
            "_view_module_version": "1.2.0",
            "grid_template_areas": null,
            "object_position": null,
            "object_fit": null,
            "grid_auto_columns": null,
            "margin": null,
            "display": null,
            "left": null
          }
        }
      }
    }
  },
  "cells": [
    {
      "cell_type": "markdown",
      "metadata": {
        "id": "kZWxcjd8ppT4",
        "colab_type": "text"
      },
      "source": [
        "# Requirements Installation"
      ]
    },
    {
      "cell_type": "code",
      "metadata": {
        "id": "GiYjL0Hvpopj",
        "colab_type": "code",
        "outputId": "b680335c-4df0-4094-f266-353a92f98966",
        "colab": {
          "base_uri": "https://localhost:8080/",
          "height": 1000
        }
      },
      "source": [
        "!pip install torch torchvision fastai==0.7.0 PyDrive"
      ],
      "execution_count": 0,
      "outputs": [
        {
          "output_type": "stream",
          "text": [
            "Requirement already satisfied: torch in /usr/local/lib/python3.6/dist-packages (1.5.0+cu101)\n",
            "Requirement already satisfied: torchvision in /usr/local/lib/python3.6/dist-packages (0.6.0+cu101)\n",
            "Collecting fastai==0.7.0\n",
            "\u001b[?25l  Downloading https://files.pythonhosted.org/packages/50/6d/9d0d6e17a78b0598d5e8c49a0d03ffc7ff265ae62eca3e2345fab14edb9b/fastai-0.7.0-py3-none-any.whl (112kB)\n",
            "\u001b[K     |████████████████████████████████| 122kB 6.3MB/s \n",
            "\u001b[?25hRequirement already satisfied: PyDrive in /usr/local/lib/python3.6/dist-packages (1.3.1)\n",
            "Requirement already satisfied: numpy in /usr/local/lib/python3.6/dist-packages (from torch) (1.18.3)\n",
            "Requirement already satisfied: future in /usr/local/lib/python3.6/dist-packages (from torch) (0.16.0)\n",
            "Requirement already satisfied: pillow>=4.1.1 in /usr/local/lib/python3.6/dist-packages (from torchvision) (7.0.0)\n",
            "Requirement already satisfied: ipython-genutils in /usr/local/lib/python3.6/dist-packages (from fastai==0.7.0) (0.2.0)\n",
            "Requirement already satisfied: opencv-python in /usr/local/lib/python3.6/dist-packages (from fastai==0.7.0) (4.1.2.30)\n",
            "Requirement already satisfied: torchtext in /usr/local/lib/python3.6/dist-packages (from fastai==0.7.0) (0.3.1)\n",
            "Requirement already satisfied: ptyprocess in /usr/local/lib/python3.6/dist-packages (from fastai==0.7.0) (0.6.0)\n",
            "Requirement already satisfied: simplegeneric in /usr/local/lib/python3.6/dist-packages (from fastai==0.7.0) (0.8.1)\n",
            "Requirement already satisfied: sklearn-pandas in /usr/local/lib/python3.6/dist-packages (from fastai==0.7.0) (1.8.0)\n",
            "Requirement already satisfied: decorator in /usr/local/lib/python3.6/dist-packages (from fastai==0.7.0) (4.4.2)\n",
            "Requirement already satisfied: html5lib in /usr/local/lib/python3.6/dist-packages (from fastai==0.7.0) (1.0.1)\n",
            "Requirement already satisfied: jsonschema in /usr/local/lib/python3.6/dist-packages (from fastai==0.7.0) (2.6.0)\n",
            "Requirement already satisfied: tornado in /usr/local/lib/python3.6/dist-packages (from fastai==0.7.0) (4.5.3)\n",
            "Requirement already satisfied: Jinja2 in /usr/local/lib/python3.6/dist-packages (from fastai==0.7.0) (2.11.2)\n",
            "Requirement already satisfied: matplotlib in /usr/local/lib/python3.6/dist-packages (from fastai==0.7.0) (3.2.1)\n",
            "Collecting bcolz\n",
            "\u001b[?25l  Downloading https://files.pythonhosted.org/packages/5c/4e/23942de9d5c0fb16f10335fa83e52b431bcb8c0d4a8419c9ac206268c279/bcolz-1.2.1.tar.gz (1.5MB)\n",
            "\u001b[K     |████████████████████████████████| 1.5MB 39.8MB/s \n",
            "\u001b[?25hRequirement already satisfied: pyzmq in /usr/local/lib/python3.6/dist-packages (from fastai==0.7.0) (19.0.0)\n",
            "Requirement already satisfied: widgetsnbextension in /usr/local/lib/python3.6/dist-packages (from fastai==0.7.0) (3.5.1)\n",
            "Requirement already satisfied: wcwidth in /usr/local/lib/python3.6/dist-packages (from fastai==0.7.0) (0.1.9)\n",
            "Requirement already satisfied: entrypoints in /usr/local/lib/python3.6/dist-packages (from fastai==0.7.0) (0.3)\n",
            "Requirement already satisfied: testpath in /usr/local/lib/python3.6/dist-packages (from fastai==0.7.0) (0.4.4)\n",
            "Requirement already satisfied: jedi in /usr/local/lib/python3.6/dist-packages (from fastai==0.7.0) (0.17.0)\n",
            "Requirement already satisfied: feather-format in /usr/local/lib/python3.6/dist-packages (from fastai==0.7.0) (0.4.1)\n",
            "Requirement already satisfied: pandas in /usr/local/lib/python3.6/dist-packages (from fastai==0.7.0) (1.0.3)\n",
            "Requirement already satisfied: bleach in /usr/local/lib/python3.6/dist-packages (from fastai==0.7.0) (3.1.4)\n",
            "Collecting pandas-summary\n",
            "  Downloading https://files.pythonhosted.org/packages/f5/20/865d4785f86e86f7ad7ebd52fc14810ef59ef13cd959f1363a2615d1c665/pandas_summary-0.0.7-py2.py3-none-any.whl\n",
            "Requirement already satisfied: traitlets in /usr/local/lib/python3.6/dist-packages (from fastai==0.7.0) (4.3.3)\n",
            "Requirement already satisfied: MarkupSafe in /usr/local/lib/python3.6/dist-packages (from fastai==0.7.0) (1.1.1)\n",
            "Requirement already satisfied: ipykernel in /usr/local/lib/python3.6/dist-packages (from fastai==0.7.0) (4.10.1)\n",
            "Requirement already satisfied: certifi in /usr/local/lib/python3.6/dist-packages (from fastai==0.7.0) (2020.4.5.1)\n",
            "Requirement already satisfied: pytz in /usr/local/lib/python3.6/dist-packages (from fastai==0.7.0) (2018.9)\n",
            "Requirement already satisfied: python-dateutil in /usr/local/lib/python3.6/dist-packages (from fastai==0.7.0) (2.8.1)\n",
            "Requirement already satisfied: graphviz in /usr/local/lib/python3.6/dist-packages (from fastai==0.7.0) (0.10.1)\n",
            "Requirement already satisfied: Pygments in /usr/local/lib/python3.6/dist-packages (from fastai==0.7.0) (2.1.3)\n",
            "Requirement already satisfied: ipython in /usr/local/lib/python3.6/dist-packages (from fastai==0.7.0) (5.5.0)\n",
            "Requirement already satisfied: scipy in /usr/local/lib/python3.6/dist-packages (from fastai==0.7.0) (1.4.1)\n",
            "Requirement already satisfied: pyparsing in /usr/local/lib/python3.6/dist-packages (from fastai==0.7.0) (2.4.7)\n",
            "Requirement already satisfied: ipywidgets in /usr/local/lib/python3.6/dist-packages (from fastai==0.7.0) (7.5.1)\n",
            "Requirement already satisfied: seaborn in /usr/local/lib/python3.6/dist-packages (from fastai==0.7.0) (0.10.1)\n",
            "Requirement already satisfied: jupyter in /usr/local/lib/python3.6/dist-packages (from fastai==0.7.0) (1.0.0)\n",
            "Requirement already satisfied: pickleshare in /usr/local/lib/python3.6/dist-packages (from fastai==0.7.0) (0.7.5)\n",
            "Requirement already satisfied: tqdm in /usr/local/lib/python3.6/dist-packages (from fastai==0.7.0) (4.38.0)\n",
            "Requirement already satisfied: webencodings in /usr/local/lib/python3.6/dist-packages (from fastai==0.7.0) (0.5.1)\n",
            "Collecting isoweek\n",
            "  Downloading https://files.pythonhosted.org/packages/c2/d4/fe7e2637975c476734fcbf53776e650a29680194eb0dd21dbdc020ca92de/isoweek-1.3.3-py2.py3-none-any.whl\n",
            "Requirement already satisfied: PyYAML in /usr/local/lib/python3.6/dist-packages (from fastai==0.7.0) (3.13)\n",
            "Requirement already satisfied: cycler in /usr/local/lib/python3.6/dist-packages (from fastai==0.7.0) (0.10.0)\n",
            "Requirement already satisfied: plotnine in /usr/local/lib/python3.6/dist-packages (from fastai==0.7.0) (0.6.0)\n",
            "Requirement already satisfied: oauth2client>=4.0.0 in /usr/local/lib/python3.6/dist-packages (from PyDrive) (4.1.3)\n",
            "Requirement already satisfied: google-api-python-client>=1.2 in /usr/local/lib/python3.6/dist-packages (from PyDrive) (1.7.12)\n",
            "Requirement already satisfied: requests in /usr/local/lib/python3.6/dist-packages (from torchtext->fastai==0.7.0) (2.23.0)\n",
            "Requirement already satisfied: scikit-learn>=0.15.0 in /usr/local/lib/python3.6/dist-packages (from sklearn-pandas->fastai==0.7.0) (0.22.2.post1)\n",
            "Requirement already satisfied: six>=1.9 in /usr/local/lib/python3.6/dist-packages (from html5lib->fastai==0.7.0) (1.12.0)\n",
            "Requirement already satisfied: kiwisolver>=1.0.1 in /usr/local/lib/python3.6/dist-packages (from matplotlib->fastai==0.7.0) (1.2.0)\n",
            "Requirement already satisfied: notebook>=4.4.1 in /usr/local/lib/python3.6/dist-packages (from widgetsnbextension->fastai==0.7.0) (5.2.2)\n",
            "Requirement already satisfied: parso>=0.7.0 in /usr/local/lib/python3.6/dist-packages (from jedi->fastai==0.7.0) (0.7.0)\n",
            "Requirement already satisfied: pyarrow>=0.4.0 in /usr/local/lib/python3.6/dist-packages (from feather-format->fastai==0.7.0) (0.14.1)\n",
            "Requirement already satisfied: jupyter-client in /usr/local/lib/python3.6/dist-packages (from ipykernel->fastai==0.7.0) (5.3.4)\n",
            "Requirement already satisfied: setuptools>=18.5 in /usr/local/lib/python3.6/dist-packages (from ipython->fastai==0.7.0) (46.1.3)\n",
            "Requirement already satisfied: prompt-toolkit<2.0.0,>=1.0.4 in /usr/local/lib/python3.6/dist-packages (from ipython->fastai==0.7.0) (1.0.18)\n",
            "Requirement already satisfied: pexpect; sys_platform != \"win32\" in /usr/local/lib/python3.6/dist-packages (from ipython->fastai==0.7.0) (4.8.0)\n",
            "Requirement already satisfied: nbformat>=4.2.0 in /usr/local/lib/python3.6/dist-packages (from ipywidgets->fastai==0.7.0) (5.0.6)\n",
            "Requirement already satisfied: nbconvert in /usr/local/lib/python3.6/dist-packages (from jupyter->fastai==0.7.0) (5.6.1)\n",
            "Requirement already satisfied: qtconsole in /usr/local/lib/python3.6/dist-packages (from jupyter->fastai==0.7.0) (4.7.3)\n",
            "Requirement already satisfied: jupyter-console in /usr/local/lib/python3.6/dist-packages (from jupyter->fastai==0.7.0) (5.2.0)\n",
            "Requirement already satisfied: mizani>=0.6.0 in /usr/local/lib/python3.6/dist-packages (from plotnine->fastai==0.7.0) (0.6.0)\n",
            "Requirement already satisfied: patsy>=0.4.1 in /usr/local/lib/python3.6/dist-packages (from plotnine->fastai==0.7.0) (0.5.1)\n",
            "Requirement already satisfied: descartes>=1.1.0 in /usr/local/lib/python3.6/dist-packages (from plotnine->fastai==0.7.0) (1.1.0)\n",
            "Requirement already satisfied: statsmodels>=0.9.0 in /usr/local/lib/python3.6/dist-packages (from plotnine->fastai==0.7.0) (0.10.2)\n",
            "Requirement already satisfied: pyasn1-modules>=0.0.5 in /usr/local/lib/python3.6/dist-packages (from oauth2client>=4.0.0->PyDrive) (0.2.8)\n",
            "Requirement already satisfied: httplib2>=0.9.1 in /usr/local/lib/python3.6/dist-packages (from oauth2client>=4.0.0->PyDrive) (0.17.3)\n",
            "Requirement already satisfied: rsa>=3.1.4 in /usr/local/lib/python3.6/dist-packages (from oauth2client>=4.0.0->PyDrive) (4.0)\n",
            "Requirement already satisfied: pyasn1>=0.1.7 in /usr/local/lib/python3.6/dist-packages (from oauth2client>=4.0.0->PyDrive) (0.4.8)\n",
            "Requirement already satisfied: google-auth-httplib2>=0.0.3 in /usr/local/lib/python3.6/dist-packages (from google-api-python-client>=1.2->PyDrive) (0.0.3)\n",
            "Requirement already satisfied: uritemplate<4dev,>=3.0.0 in /usr/local/lib/python3.6/dist-packages (from google-api-python-client>=1.2->PyDrive) (3.0.1)\n",
            "Requirement already satisfied: google-auth>=1.4.1 in /usr/local/lib/python3.6/dist-packages (from google-api-python-client>=1.2->PyDrive) (1.7.2)\n",
            "Requirement already satisfied: idna<3,>=2.5 in /usr/local/lib/python3.6/dist-packages (from requests->torchtext->fastai==0.7.0) (2.9)\n",
            "Requirement already satisfied: chardet<4,>=3.0.2 in /usr/local/lib/python3.6/dist-packages (from requests->torchtext->fastai==0.7.0) (3.0.4)\n",
            "Requirement already satisfied: urllib3!=1.25.0,!=1.25.1,<1.26,>=1.21.1 in /usr/local/lib/python3.6/dist-packages (from requests->torchtext->fastai==0.7.0) (1.24.3)\n",
            "Requirement already satisfied: joblib>=0.11 in /usr/local/lib/python3.6/dist-packages (from scikit-learn>=0.15.0->sklearn-pandas->fastai==0.7.0) (0.14.1)\n",
            "Requirement already satisfied: terminado>=0.3.3; sys_platform != \"win32\" in /usr/local/lib/python3.6/dist-packages (from notebook>=4.4.1->widgetsnbextension->fastai==0.7.0) (0.8.3)\n",
            "Requirement already satisfied: jupyter-core in /usr/local/lib/python3.6/dist-packages (from notebook>=4.4.1->widgetsnbextension->fastai==0.7.0) (4.6.3)\n",
            "Requirement already satisfied: mistune<2,>=0.8.1 in /usr/local/lib/python3.6/dist-packages (from nbconvert->jupyter->fastai==0.7.0) (0.8.4)\n",
            "Requirement already satisfied: pandocfilters>=1.4.1 in /usr/local/lib/python3.6/dist-packages (from nbconvert->jupyter->fastai==0.7.0) (1.4.2)\n",
            "Requirement already satisfied: defusedxml in /usr/local/lib/python3.6/dist-packages (from nbconvert->jupyter->fastai==0.7.0) (0.6.0)\n",
            "Requirement already satisfied: qtpy in /usr/local/lib/python3.6/dist-packages (from qtconsole->jupyter->fastai==0.7.0) (1.9.0)\n",
            "Requirement already satisfied: palettable in /usr/local/lib/python3.6/dist-packages (from mizani>=0.6.0->plotnine->fastai==0.7.0) (3.3.0)\n",
            "Requirement already satisfied: cachetools<3.2,>=2.0.0 in /usr/local/lib/python3.6/dist-packages (from google-auth>=1.4.1->google-api-python-client>=1.2->PyDrive) (3.1.1)\n",
            "Building wheels for collected packages: bcolz\n",
            "  Building wheel for bcolz (setup.py) ... \u001b[?25l\u001b[?25hdone\n",
            "  Created wheel for bcolz: filename=bcolz-1.2.1-cp36-cp36m-linux_x86_64.whl size=2664697 sha256=81142c42fd4cc7233da0b7f0e8bed450e34ae5dfa0dc7e15d52f146f7aaf8c60\n",
            "  Stored in directory: /root/.cache/pip/wheels/9f/78/26/fb8c0acb91a100dc8914bf236c4eaa4b207cb876893c40b745\n",
            "Successfully built bcolz\n",
            "\u001b[31mERROR: fastai 0.7.0 has requirement torch<0.4, but you'll have torch 1.5.0+cu101 which is incompatible.\u001b[0m\n",
            "Installing collected packages: bcolz, pandas-summary, isoweek, fastai\n",
            "  Found existing installation: fastai 1.0.60\n",
            "    Uninstalling fastai-1.0.60:\n",
            "      Successfully uninstalled fastai-1.0.60\n",
            "Successfully installed bcolz-1.2.1 fastai-0.7.0 isoweek-1.3.3 pandas-summary-0.0.7\n"
          ],
          "name": "stdout"
        }
      ]
    },
    {
      "cell_type": "markdown",
      "metadata": {
        "id": "UpZNW70Mp122",
        "colab_type": "text"
      },
      "source": [
        "# Library Imports"
      ]
    },
    {
      "cell_type": "code",
      "metadata": {
        "id": "y-gbdc6Np3aH",
        "colab_type": "code",
        "outputId": "7b2c68a7-688b-4e39-a7f2-8000034a86b1",
        "colab": {
          "base_uri": "https://localhost:8080/",
          "height": 70
        }
      },
      "source": [
        "%matplotlib inline\n",
        "from pydrive.auth import GoogleAuth\n",
        "from pydrive.drive import GoogleDrive\n",
        "from google.colab import auth\n",
        "from oauth2client.client import GoogleCredentials\n",
        "from pathlib import Path\n",
        "import os\n",
        "from collections import Counter\n",
        "import wave\n",
        "import struct\n",
        "import numpy as np\n",
        "import pandas as pd\n",
        "from pprint import pprint\n",
        "from scipy.io import wavfile\n",
        "from scipy.signal import decimate\n",
        "from scipy import signal\n",
        "from scipy import fft, arange\n",
        "from sklearn.model_selection import train_test_split\n",
        "from sklearn.metrics import confusion_matrix, accuracy_score, f1_score\n",
        "import matplotlib.pyplot as plt\n",
        "import matplotlib as mpl\n",
        "import seaborn as sns\n",
        "from pylab import *\n",
        "import torch\n",
        "import torch.nn as nn\n",
        "from fastai.imports import *\n",
        "from fastai.transforms import *\n",
        "from fastai.conv_learner import *\n",
        "from fastai.model import *\n",
        "from fastai.dataset import *\n",
        "from fastai.sgdr import *\n",
        "from fastai.plots import *\n",
        "from fastai.io import *\n",
        "from fastai.column_data import *\n",
        "import sys\n",
        "if not sys.warnoptions:\n",
        "    import warnings\n",
        "    warnings.simplefilter(\"ignore\")\n",
        "from functools import reduce   \n",
        "mpl.style.use('seaborn-ticks')\n",
        "plt.rcParams.update({'figure.max_open_warning': 0})\n",
        "np.set_printoptions(precision=2, suppress=True)"
      ],
      "execution_count": 0,
      "outputs": [
        {
          "output_type": "stream",
          "text": [
            "/usr/local/lib/python3.6/dist-packages/statsmodels/tools/_testing.py:19: FutureWarning: pandas.util.testing is deprecated. Use the functions in the public API at pandas.testing instead.\n",
            "  import pandas.util.testing as tm\n"
          ],
          "name": "stderr"
        }
      ]
    },
    {
      "cell_type": "markdown",
      "metadata": {
        "id": "otdKP3clA-9w",
        "colab_type": "text"
      },
      "source": [
        "# Terminal Colors Class (Aesthetics)."
      ]
    },
    {
      "cell_type": "code",
      "metadata": {
        "id": "ju7CfJu_BB4-",
        "colab_type": "code",
        "colab": {}
      },
      "source": [
        "class bcolors:\n",
        "    HEADER = '\\033[95m'\n",
        "    OKBLUE = '\\033[94m'\n",
        "    OKGREEN = '\\033[92m'\n",
        "    WARNING = '\\033[93m'\n",
        "    FAIL = '\\033[91m'\n",
        "    ENDC = '\\033[0m'\n",
        "    BOLD = '\\033[1m'\n",
        "    UNDERLINE = '\\033[4m'"
      ],
      "execution_count": 0,
      "outputs": []
    },
    {
      "cell_type": "markdown",
      "metadata": {
        "id": "bZeMT8mEqQTw",
        "colab_type": "text"
      },
      "source": [
        "# Google Drive Downloader Class"
      ]
    },
    {
      "cell_type": "code",
      "metadata": {
        "id": "8tBkKfH3qP0Z",
        "colab_type": "code",
        "colab": {}
      },
      "source": [
        "class Downloader:\n",
        "    def __init__(self):\n",
        "        auth.authenticate_user()\n",
        "        gauth = GoogleAuth()\n",
        "        gauth.credentials = GoogleCredentials.get_application_default()\n",
        "        self.drive = GoogleDrive(gauth)\n",
        "    def __call__(self, dataset_file_name, dataset_file_id):\n",
        "        downloaded = self.drive.CreateFile({'id': dataset_file_id})\n",
        "        downloaded.FetchContent()\n",
        "        with open(dataset_file_name,'wb') as f:\n",
        "            f.write(downloaded.content.read())\n",
        "        print(f'{bcolors.HEADER}Saved {dataset_file_name}{bcolors.ENDC}')"
      ],
      "execution_count": 0,
      "outputs": []
    },
    {
      "cell_type": "markdown",
      "metadata": {
        "id": "NSM6HsK2B-rP",
        "colab_type": "text"
      },
      "source": [
        "# Pre-processing Helpers"
      ]
    },
    {
      "cell_type": "code",
      "metadata": {
        "id": "ll-Mp_6WsavK",
        "colab_type": "code",
        "colab": {}
      },
      "source": [
        "def scan_dataset_folders(dataset_paths):\n",
        "    x_filenames = []\n",
        "    y_classes = []\n",
        "    print(f\"{bcolors.HEADER}Class Counts: {bcolors.ENDC}\")\n",
        "    for dataset_path in dataset_paths:\n",
        "        class_paths = sorted([x for x in list(dataset_path.iterdir()) if x.name[0] != '.'])\n",
        "        for class_path in class_paths:\n",
        "            samples_fn = sorted(list(class_path.iterdir()))\n",
        "            print(f\"\\t{bcolors.HEADER}{class_path.name}: {len(samples_fn)}{bcolors.ENDC}\")\n",
        "            for sample_fn in samples_fn:\n",
        "                x_filenames.append(sample_fn)\n",
        "                y_classes.append(class_path.name)\n",
        "    return x_filenames, y_classes\n",
        "\n",
        "def load_wav_file(path, sample_rate):\n",
        "    framerate, samples = wavfile.read(str(path))\n",
        "    assert framerate == sample_rate\n",
        "    duration = len(samples)/framerate\n",
        "    return samples, framerate, duration\n",
        "\n",
        "def repeat_to_length(arr, length):\n",
        "    \"\"\"Repeats the numpy 1D array to given length, and makes datatype float\"\"\"\n",
        "    result = np.empty((length, ), dtype = 'float32')\n",
        "    l = len(arr)\n",
        "    pos = 0\n",
        "    while pos + l <= length:\n",
        "        result[pos:pos+l] = arr\n",
        "        pos += l\n",
        "    if pos < length:\n",
        "        result[pos:length] = arr[:length-pos]\n",
        "    return result\n",
        "\n",
        "def downsample(samples, framerate, dfs=[8,8,4]):\n",
        "    '''dfs - downsampling factors'''\n",
        "    # TODO: make it work for multiple samples\n",
        "    s=np.array(samples)    \n",
        "    s=s[np.newaxis,:]\n",
        "\n",
        "    for df in dfs:\n",
        "        s = signal.decimate(s, df, axis=1, zero_phase=True)\n",
        "    s = s[0,:]\n",
        "    \n",
        "    #Scale each observation to unit variance, it should already have mean close to zero.\n",
        "    s = s / np.std(s)\n",
        "\n",
        "    return s\n",
        "\n",
        "def downsampled_framerate(framerate, dfs=[8,8,4]):\n",
        "    product = reduce((lambda x, y: x * y), dfs)\n",
        "    framerate2=framerate/product\n",
        "    return framerate2\n",
        "\n",
        "def times_array(s, framerate2):\n",
        "    t2 = [float(i)/framerate2 for i in range(len(s))]\n",
        "    return t2"
      ],
      "execution_count": 0,
      "outputs": []
    },
    {
      "cell_type": "code",
      "metadata": {
        "id": "TEOYdE0OseNX",
        "colab_type": "code",
        "colab": {}
      },
      "source": [
        "class DatasetSample:\n",
        "    # source data\n",
        "    fn_path = None\n",
        "    framerate = None \n",
        "    samples = None \n",
        "    duration = None\n",
        "    y_class = None\n",
        "    \n",
        "    # processed data\n",
        "    # samples_repeated = None\n",
        "    samples_9s = None\n",
        "    samples_downsampled = None\n",
        "    downsampled_framerate = None\n",
        "    y = None\n",
        "    \n",
        "    def __repr__(self):\n",
        "            \"\"\"\"\"\"\n",
        "            return \"<DatasetSample: %s>\" % self.__dict__\n",
        "    \n",
        "    def __init__(self, fn_path, framerate, samples, duration, y_class = None):\n",
        "        self.fn_path = fn_path\n",
        "        self.framerate = framerate\n",
        "        self.samples = samples\n",
        "        self.duration = duration\n",
        "        self.y_class = y_class"
      ],
      "execution_count": 0,
      "outputs": []
    },
    {
      "cell_type": "code",
      "metadata": {
        "id": "l-v_XDP3sfol",
        "colab_type": "code",
        "colab": {}
      },
      "source": [
        "def dataset_sample_from_file(fn_path, sample_rate):\n",
        "    samples, framerate, duration = load_wav_file(fn_path, sample_rate)\n",
        "    ds_sample = DatasetSample(fn_path, framerate, samples, duration)    \n",
        "    return ds_sample\n",
        "\n",
        "def load_all_dataset_samples(PATH, sample_rate, min_duration=None):\n",
        "    x_filenames, y_classes = scan_dataset_folders(PATH)    \n",
        "    all_ds_samples = [dataset_sample_from_file(fn_path, sample_rate) for fn_path in x_filenames]\n",
        "    \n",
        "    for ds_sample, y_class in zip(all_ds_samples, y_classes):\n",
        "        ds_sample.y_class = y_class\n",
        "    \n",
        "    if min_duration is not None:\n",
        "        ds_samples = [ds for ds in all_ds_samples if ds.duration>=min_duration]\n",
        "    else:\n",
        "        ds_samples = all_ds_samples\n",
        "    \n",
        "    return ds_samples\n",
        "\n",
        "def process_dataset_sample(CLASS2IDX, ds_sample, expected_length, downsampling_factors):\n",
        "    ds_sample.samples_9s = ds_sample.samples[:expected_length]\n",
        "    ds_sample.duration = len(ds_sample.samples_9s)/ds_sample.framerate\n",
        "    samples_repeated = repeat_to_length(ds_sample.samples_9s, expected_length)\n",
        "    samples_downsampled = downsample(samples_repeated, ds_sample.framerate, downsampling_factors)    \n",
        "    ds_sample.samples_downsampled = samples_downsampled\n",
        "    ds_sample.framerate_downsampled = downsampled_framerate(ds_sample.framerate, downsampling_factors)    \n",
        "    ds_sample.y = CLASS2IDX[ds_sample.y_class] if ds_sample.y_class is not None else None\n",
        "    return ds_sample\n",
        "\n",
        "def get_expected_length(ds_samples):\n",
        "    largest = 0\n",
        "    for ds_sample in tqdm(ds_samples, desc=f\"{bcolors.HEADER}getting expected length{bcolors.ENDC}\"):\n",
        "        full_length = len(ds_sample.samples)\n",
        "        largest = max(largest, full_length)\n",
        "    print(f\"{bcolors.OKBLUE}expected length: {largest}{bcolors.ENDC}\")\n",
        "    return largest\n",
        "\n",
        "def process_dataset_samples(CLASS2IDX, ds_samples, expected_length, downsampling_factors):\n",
        "    for ds in tqdm(ds_samples, desc=f\"{bcolors.HEADER}processing dataset samples{bcolors.ENDC}\"):\n",
        "        ds = process_dataset_sample(CLASS2IDX, ds, expected_length, downsampling_factors)\n",
        "    return ds_samples"
      ],
      "execution_count": 0,
      "outputs": []
    },
    {
      "cell_type": "markdown",
      "metadata": {
        "id": "pH4QT7iYOgov",
        "colab_type": "text"
      },
      "source": [
        "# Plotting Helpers"
      ]
    },
    {
      "cell_type": "code",
      "metadata": {
        "id": "wx3jHgQisi2X",
        "colab_type": "code",
        "colab": {}
      },
      "source": [
        "def plotSpectrogram(s, framerate2):\n",
        "    \"\"\"\n",
        "    https://docs.scipy.org/doc/scipy/reference/generated/scipy.signal.spectrogram.html\n",
        "    \"\"\"    \n",
        "    f, t, Sxx = signal.spectrogram(s, framerate2, nperseg=64, noverlap=32)\n",
        "    plt.pcolormesh(t, f, Sxx)\n",
        "    plt.ylabel('Frequency [Hz]')\n",
        "    plt.xlabel('Time [sec]')\n",
        "\n",
        "def plotSpectrum(y,Fs):\n",
        "    \"\"\"\n",
        "    Plots a Single-Sided Amplitude Spectrum of y(t)\n",
        "    https://glowingpython.blogspot.com/2011/08/how-to-plot-frequency-spectrum-with.html\n",
        "    \"\"\"\n",
        "    n = len(y) # length of the signal\n",
        "    k = arange(n)\n",
        "    T = n/Fs\n",
        "    frq = k/T # two sides frequency range\n",
        "    frq = frq[range(n//2)] # one side frequency range\n",
        "\n",
        "    Y = fft(y)/n # fft computing and normalization\n",
        "    Y = Y[range(n//2)]\n",
        "\n",
        "    plt.plot(frq,abs(Y),'r') # plotting the spectrum\n",
        "    plt.xlabel('Freq (Hz)')\n",
        "    plt.ylabel('|Y(freq)|')\n",
        "\n",
        "def plotWaveform(s, t2):\n",
        "    plt.plot(t2, s)\n",
        "    plt.xlabel('Time')\n",
        "    plt.ylabel('Amplitude')\n",
        "\n",
        "def plotWaveformSpectrogramAndSpectrum(s, framerate2, t2, title=\"\"):\n",
        "    plt.figure(figsize=(15,15))\n",
        "    plt.subplot(3,1,1)\n",
        "    plt.title(title)\n",
        "    plotWaveform(s, t2)\n",
        "    plt.subplot(3,1,2)\n",
        "    plotSpectrogram(s, framerate2)\n",
        "    plt.subplot(3,1,3)\n",
        "    plotSpectrum(s, framerate2)\n",
        "    plt.show()"
      ],
      "execution_count": 0,
      "outputs": []
    },
    {
      "cell_type": "markdown",
      "metadata": {
        "id": "0-yZhgbaCsuO",
        "colab_type": "text"
      },
      "source": [
        "# Custom Convolutional Neural Network for Heart Beat Sound Classification"
      ]
    },
    {
      "cell_type": "code",
      "metadata": {
        "id": "LH4ZBQLksrHG",
        "colab_type": "code",
        "colab": {}
      },
      "source": [
        "class HeartbeatSoundsConvNet(nn.Module):\n",
        "\n",
        "    def __init__(self, n_classes=2):\n",
        "        super(HeartbeatSoundsConvNet, self).__init__()\n",
        "\n",
        "        self.n_classes = n_classes\n",
        "\n",
        "        self.b1 = nn.Sequential(*[\n",
        "            # Conv1D(... kernel_regularizer = l2(0.025))\n",
        "            nn.Conv1d(in_channels=1, out_channels=4, kernel_size=9),\n",
        "            nn.ReLU(inplace=True),\n",
        "            nn.MaxPool1d(kernel_size=9, stride=4),\n",
        "            nn.BatchNorm1d(num_features=4),\n",
        "            nn.Dropout(p=0.2)\n",
        "            # nn.Dropout(p=0.025)\n",
        "        ])\n",
        "\n",
        "        self.b2 = nn.Sequential(*[\n",
        "            # Conv1D(... kernel_regularizer = l2(0.05))\n",
        "            nn.Conv1d(in_channels=4, out_channels=4, kernel_size=9, padding=1),\n",
        "            nn.ReLU(inplace=True),\n",
        "            nn.MaxPool1d(kernel_size=9, stride=4, padding=4),\n",
        "            nn.BatchNorm1d(num_features=4),\n",
        "            nn.Dropout(p=0.2)\n",
        "            # nn.Dropout(p=0.05)\n",
        "        ])\n",
        "\n",
        "        self.b3 = nn.Sequential(*[\n",
        "            # Conv1D(... kernel_regularizer = l2(0.1))\n",
        "            nn.Conv1d(in_channels=4, out_channels=8, kernel_size=9),\n",
        "            nn.ReLU(inplace=True),\n",
        "            nn.MaxPool1d(kernel_size=9, stride=4, padding=4),\n",
        "            nn.BatchNorm1d(num_features=8),\n",
        "            nn.Dropout(p=0.1)\n",
        "        ])\n",
        "\n",
        "        self.b4 = nn.Sequential(*[\n",
        "            nn.Conv1d(in_channels=8, out_channels=16, kernel_size=9),\n",
        "            nn.ReLU(inplace=True),\n",
        "            nn.MaxPool1d(kernel_size=9, stride=4, padding=4),\n",
        "            nn.BatchNorm1d(num_features=16),\n",
        "            nn.Dropout(p=0.25),\n",
        "        ])\n",
        "\n",
        "        self.b5 = nn.Sequential(*[\n",
        "            nn.Conv1d(in_channels=16, out_channels=64, kernel_size=4),\n",
        "            nn.ReLU(inplace=True),\n",
        "            nn.BatchNorm1d(num_features=64),\n",
        "            nn.Dropout(p=0.5),    \n",
        "        ])\n",
        "\n",
        "        self.b6 = nn.Sequential(*[\n",
        "            nn.Conv1d(in_channels=64, out_channels=32, kernel_size=1),\n",
        "            nn.ReLU(inplace=True),\n",
        "            nn.BatchNorm1d(num_features=32),\n",
        "            nn.Dropout(p=0.75),\n",
        "        ])\n",
        "\n",
        "        # https://discuss.pytorch.org/t/global-average-pooling-in-pytorch/6721/8\n",
        "        # jdhao: Also you can use adaptive_avg_pool2d 115 to achieve global average pooling, just set the output size to (1, 1),                \n",
        "        self.b7 = nn.AdaptiveAvgPool1d(output_size=1)  # GlobalAvgPool1D()\n",
        "\n",
        "        self.rest_b7 = nn.Sequential(*[\n",
        "            nn.Linear(in_features=32, out_features=n_classes),\n",
        "            nn.LogSoftmax(dim=1)\n",
        "        ])\n",
        "\n",
        "    def forward(self, V):\n",
        "        y = self.b1(V)\n",
        "        y = self.b2(y)\n",
        "        y = self.b3(y)\n",
        "        y = self.b4(y)\n",
        "        y = self.b5(y)\n",
        "        y = self.b6(y)\n",
        "        y = self.b7(y).squeeze()\n",
        "        y = self.rest_b7(y)\n",
        "        return y"
      ],
      "execution_count": 0,
      "outputs": []
    },
    {
      "cell_type": "markdown",
      "metadata": {
        "id": "kWTLUKqRstmA",
        "colab_type": "text"
      },
      "source": [
        "# Validation Helpers"
      ]
    },
    {
      "cell_type": "code",
      "metadata": {
        "id": "2Fn6XxwZsvZ4",
        "colab_type": "code",
        "colab": {}
      },
      "source": [
        "def plot_ep_vals(ep_vals):\n",
        "    plt.ylabel(\"loss\")\n",
        "    plt.xlabel(\"epoch\")\n",
        "    epochs = ep_vals.keys()\n",
        "    plt.xticks(np.asarray(list(epochs)))\n",
        "    trn_losses = [item[0] for item in list(ep_vals.values())]\n",
        "    val_losses = [item[1] for item in list(ep_vals.values())]\n",
        "    plt.plot(epochs, trn_losses, c='g', label='train')\n",
        "    plt.plot(epochs, val_losses, c='r', label='validation')\n",
        "    plt.legend(loc='upper right')\n",
        "\n",
        "def plot_ep_val_acc(ep_vals):\n",
        "    plt.ylabel(\"valit acc\")\n",
        "    epochs = ep_vals.keys()\n",
        "    plt.xticks(np.asarray(list(epochs)))\n",
        "    val_accs = [item[2] for item in list(ep_vals.values())]\n",
        "    plt.plot(epochs, val_accs, c='r', label='valid acc')\n",
        "    plt.legend(loc='upper right')"
      ],
      "execution_count": 0,
      "outputs": []
    },
    {
      "cell_type": "markdown",
      "metadata": {
        "id": "rwku0vX4sxF3",
        "colab_type": "text"
      },
      "source": [
        "# Prediction Helpers"
      ]
    },
    {
      "cell_type": "code",
      "metadata": {
        "id": "HOQmJmfXszTw",
        "colab_type": "code",
        "colab": {}
      },
      "source": [
        "def predict_all(model, x_data, n_classes, batch_size, use_cuda):\n",
        "    # outputs class probabilities\n",
        "    n_samples = x_data.shape[0]\n",
        "    n_iters = n_samples//batch_size\n",
        "    xt = x_data[:,np.newaxis, :]\n",
        "    yt = np.zeros((n_samples, n_classes))\n",
        "    for it in range(n_iters):\n",
        "        idx = it*batch_size\n",
        "        x_batch = Variable(torch.from_numpy(xt[idx:idx+batch_size]).float())\n",
        "\n",
        "        if use_cuda:\n",
        "          x_batch = x_batch.cuda()\n",
        "        \n",
        "        y_batch_pred = model(x_batch)\n",
        "        y_batch_pred = np.exp(y_batch_pred.data.cpu().numpy())\n",
        "        yt[idx:idx+batch_size] = y_batch_pred\n",
        "    return yt\n",
        "\n",
        "def predict_one(model, s, use_cuda, n_classes, classes):    \n",
        "    s_test = s[np.newaxis, :1551]\n",
        "    x_data = np.repeat(s_test, 2, axis=0)\n",
        "\n",
        "    yt = predict_all(model, x_data, n_classes=n_classes, batch_size=2, use_cuda=use_cuda)\n",
        "        \n",
        "    y_hat = yt[0,:]\n",
        "    y_pred = np.argmax(y_hat)\n",
        "    return y_hat, y_pred, classes[y_pred]"
      ],
      "execution_count": 0,
      "outputs": []
    },
    {
      "cell_type": "markdown",
      "metadata": {
        "id": "DIB3EhItC6IJ",
        "colab_type": "text"
      },
      "source": [
        "# Preprocessed Audio Dataset Loader Class"
      ]
    },
    {
      "cell_type": "code",
      "metadata": {
        "id": "x3H4rGzPs14Z",
        "colab_type": "code",
        "colab": {}
      },
      "source": [
        "class WavDataset(Dataset):\n",
        "    def __init__(self, x, y, rotate_samples=True, multi=1): \n",
        "        self.x = x\n",
        "        self.y = y\n",
        "        self.rotate_samples = rotate_samples\n",
        "        self.multi = multi\n",
        "\n",
        "    @classmethod\n",
        "    def rotate_sample(cls, x_sample):\n",
        "        \"\"\"\n",
        "        Rotates the time series randomly in time\n",
        "        \"\"\"\n",
        "        x_sample = x_sample.copy()    \n",
        "        sz = np.random.randint(x_sample.shape[0])\n",
        "        x_sample = np.roll(x_sample, sz, axis = 0)\n",
        "\n",
        "        return x_sample\n",
        "\n",
        "    def __getitem__(self, idx):\n",
        "        idx = idx % len(self.x)\n",
        "        if self.rotate_samples:\n",
        "            x = self.__class__.rotate_sample(self.x[idx])\n",
        "        else:\n",
        "            x = self.x[idx]\n",
        "        return A(x[np.newaxis,:], self.y[idx])\n",
        "    def __len__(self): return len(self.x) * self.multi"
      ],
      "execution_count": 0,
      "outputs": []
    },
    {
      "cell_type": "code",
      "metadata": {
        "id": "DgZL7ba1xPbz",
        "colab_type": "code",
        "colab": {}
      },
      "source": [
        "def count_parameters(model):\n",
        "  return sum(p.numel() for p in model.parameters() if p.requires_grad)"
      ],
      "execution_count": 0,
      "outputs": []
    },
    {
      "cell_type": "markdown",
      "metadata": {
        "id": "ptCNx0tFYXiJ",
        "colab_type": "text"
      },
      "source": [
        ""
      ]
    },
    {
      "cell_type": "code",
      "metadata": {
        "id": "gOLfpwscYXqt",
        "colab_type": "code",
        "colab": {}
      },
      "source": [
        "def find_appropriate_lr(model:Learner, lr_diff:int = 15, loss_threshold:float = .05, adjust_value:float = 1, plot:bool = False) -> float:\n",
        "    #Run the Learning Rate Finder\n",
        "    model.lr_find()\n",
        "    \n",
        "    #Get loss values and their corresponding gradients, and get lr values\n",
        "    losses = np.array(model.sched.losses)\n",
        "    assert(lr_diff < len(losses))\n",
        "    loss_grad = np.gradient(losses)\n",
        "    lrs = model.sched.lrs\n",
        "    \n",
        "    #Search for index in gradients where loss is lowest before the loss spike\n",
        "    #Initialize right and left idx using the lr_diff as a spacing unit\n",
        "    #Set the local min lr as -1 to signify if threshold is too low\n",
        "    r_idx = -1\n",
        "    l_idx = r_idx - lr_diff\n",
        "    local_min_lr = lrs[np.argmin(losses)]\n",
        "    while (l_idx >= -len(losses)) and (abs(loss_grad[r_idx] - loss_grad[l_idx]) > loss_threshold):\n",
        "        local_min_lr = lrs[l_idx]\n",
        "        r_idx -= 1\n",
        "        l_idx -= 1\n",
        "\n",
        "    lr_to_use = local_min_lr * adjust_value\n",
        "    \n",
        "    if plot:\n",
        "        # plots the gradients of the losses in respect to the learning rate change\n",
        "        plt.plot(loss_grad)\n",
        "        plt.plot(len(losses)+l_idx, loss_grad[l_idx],markersize=10,marker='o',color='red')\n",
        "        plt.ylabel(\"Loss\")\n",
        "        plt.xlabel(\"Index of LRs\")\n",
        "        plt.show()\n",
        "\n",
        "        plt.plot(np.log10(lrs), losses)\n",
        "        plt.ylabel(\"Loss\")\n",
        "        plt.xlabel(\"Log 10 Transform of Learning Rate\")\n",
        "        loss_coord = np.interp(np.log10(lr_to_use), np.log10(lrs), losses)\n",
        "        plt.plot(np.log10(lr_to_use), loss_coord, markersize=10,marker='o',color='red')\n",
        "        plt.show()\n",
        "        \n",
        "    return lr_to_use"
      ],
      "execution_count": 0,
      "outputs": []
    },
    {
      "cell_type": "code",
      "metadata": {
        "id": "_F2BOmZRYYKE",
        "colab_type": "code",
        "colab": {}
      },
      "source": [
        "def find_lr(model):\n",
        "    model.lr_find()\n",
        "    losses = np.array(model.sched.losses)\n",
        "    lrs = model.sched.lrs\n",
        "    losses_skipped = 5\n",
        "    trailing_losses_skipped = 5\n",
        "    losses = losses[losses_skipped:-trailing_losses_skipped]\n",
        "    lrs = lrs[losses_skipped:-trailing_losses_skipped]\n",
        "\n",
        "    n = len(losses)\n",
        "\n",
        "    max_start = 0\n",
        "    max_end = 0\n",
        "    \n",
        "    # finding the longest valley.\n",
        "    lds = [1] * n\n",
        "\n",
        "    for i in range(1, n):\n",
        "        for j in range(0, i):\n",
        "            if losses[i] < losses[j] and lds[i] < lds[j] + 1:\n",
        "                lds[i] = lds[j] + 1\n",
        "            if lds[max_end] < lds[i]:\n",
        "                max_end = i\n",
        "                max_start = max_end - lds[max_end]\n",
        "\n",
        "    sections = (max_end - max_start) / 3\n",
        "    final_index = max_start + int(sections) + int(sections/2) # pick something midway, or 2/3rd of the way to be more aggressive\n",
        "\n",
        "    fig, ax = plt.subplots(1, 1)\n",
        "    ax.plot(\n",
        "        lrs,\n",
        "        losses\n",
        "    )\n",
        "    ax.set_ylabel(\"Loss\")\n",
        "    ax.set_xlabel(\"Learning Rate\")\n",
        "    ax.set_xscale('log')\n",
        "    ax.xaxis.set_major_formatter(plt.FormatStrFormatter('%.0e'))\n",
        "    ax.plot(\n",
        "        lrs[final_index],\n",
        "        losses[final_index],\n",
        "        markersize=10,\n",
        "        marker='o',\n",
        "        color='red'\n",
        "    )\n",
        "\n",
        "    plt.show()\n",
        "    \n",
        "    return lrs[final_index]"
      ],
      "execution_count": 0,
      "outputs": []
    },
    {
      "cell_type": "markdown",
      "metadata": {
        "id": "ECEDWRyItBpP",
        "colab_type": "text"
      },
      "source": [
        "# ZTM05 Architecture Class"
      ]
    },
    {
      "cell_type": "code",
      "metadata": {
        "id": "zFKueqMrtHMd",
        "colab_type": "code",
        "colab": {}
      },
      "source": [
        "class ZTM05:\n",
        "    def __process_params__(self):\n",
        "        self.train_dirs            = [Path(f\"{self.dataset_path}/{x.strip()}\") for x in self.train_dirs.split(\",\")]\n",
        "        self.deploy_dirs           = [Path(f\"{self.dataset_path}/{x.strip()}\") for x in self.deploy_dirs.split(\",\")]\n",
        "        self.downsampling_factors  = [int(x.strip())   for x in self.downsampling_factors.split(\",\")]\n",
        "        self.learning_rates        = [float(x.strip()) for x in self.learning_rates.split(\",\") if x.isdigit()]\n",
        "        self.cycles                = [int(x.strip())   for x in self.cycles.split(\",\")]\n",
        "        self.cycle_lengths         = [int(x.strip())   for x in self.cycle_lengths.split(\",\")]\n",
        "        self.batch_sizes           = [int(x.strip())   for x in self.batch_sizes.split(\",\")]\n",
        "        self.classes               = self.classes.split(\",\")\n",
        "    def __download__(self):\n",
        "        predictions_filename = f\"{self.result_filename}_predictions.csv\"\n",
        "        probability_filename = f\"{self.result_filename}_probability.csv\"\n",
        "        !rm -rf $self.dataset_path $self.output_path $predictions_filename $probability_filename\n",
        "        self.dataset_path = Path(self.dataset_path)\n",
        "        self.output_path  = Path(self.output_path)\n",
        "        !mkdir -p $self.dataset_path\n",
        "        downloader = Downloader()\n",
        "        downloader(dataset_file_name = self.dataset_file_name, \n",
        "                   dataset_file_id   = self.dataset_file_id)\n",
        "        !unzip -qq $self.dataset_file_name -d $self.dataset_path\n",
        "        !rm -rf $self.dataset_file_name\n",
        "    def __prepare_dataset__(self):\n",
        "        self.class2idx  = {x:i for i,x in enumerate(self.classes)}\n",
        "        self.ds_samples = load_all_dataset_samples(self.train_dirs, self.sample_rate, self.min_duration)\n",
        "        self.expected_length = get_expected_length(self.ds_samples)\n",
        "        self.ds_samples = process_dataset_samples(self.class2idx, self.ds_samples, self.expected_length, self.downsampling_factors)\n",
        "        (self.ds_samples_train, \n",
        "         self.ds_samples_test) = train_test_split(self.ds_samples, test_size=0.25)\n",
        "        self.x_train           = np.stack([s.samples_downsampled for s in self.ds_samples_train])\n",
        "        self.x_test            = np.stack([s.samples_downsampled for s in self.ds_samples_test])\n",
        "        self.y_train           = [s.y for s in self.ds_samples_train]\n",
        "        self.y_test            = [s.y for s in self.ds_samples_test]\n",
        "        self.trn_ds     = WavDataset(self.x_train, self.y_train, rotate_samples=True,  multi=50)\n",
        "        self.val_ds     = WavDataset(self.x_test,  self.y_test,  rotate_samples=False, multi=1)\n",
        "        self.trn_dl     = DataLoader(self.trn_ds, batch_size=self.batch_sizes[0], num_workers=1)\n",
        "        self.val_dl     = DataLoader(self.val_ds, batch_size=self.batch_sizes[0], num_workers=1)\n",
        "        self.custom_model_data = ModelData(self.output_path, self.trn_dl, self.val_dl)\n",
        "    def __build_custom_learner__(self):\n",
        "        self.custom_model      = HeartbeatSoundsConvNet(n_classes=len(self.classes))\n",
        "        if self.use_cuda:\n",
        "          self.custom_model = self.custom_model.cuda()\n",
        "          count_parameters(self.custom_model)\n",
        "        self.custom_single_model   = SingleModel(self.custom_model)\n",
        "        self.custom_learner        = Learner(self.custom_model_data, \n",
        "                                             self.custom_single_model, \n",
        "                                             crit=self.loss_function)\n",
        "        self.custom_learner.unfreeze()\n",
        "    def find_lrf(self):\n",
        "        self.custom_learner.lr_find()\n",
        "        return self.custom_learner.sched.lrs[np.argmin(self.custom_learner.sched.losses)]\n",
        "    def fit(self):\n",
        "        print(f\"{bcolors.FAIL}selecting first learning rate{bcolors.ENDC}\")\n",
        "        if len(self.learning_rates) < 1:\n",
        "            lr = find_appropriate_lr(self.custom_learner)\n",
        "        else:\n",
        "            lr = self.learning_rates[0]\n",
        "        print(f\"{bcolors.FAIL}\\t lr = {lr}{bcolors.ENDC}\")\n",
        "        vals, ep_vals = self.custom_learner.fit(lr, \n",
        "                                                self.cycles[0], \n",
        "                                                cycle_len=self.cycle_lengths[0], \n",
        "                                                get_ep_vals=True)\n",
        "        print(f\"{bcolors.FAIL}selecting second learning rate{bcolors.ENDC}\")\n",
        "        if len(self.learning_rates) < 2:\n",
        "            lr = find_lr(self.custom_learner)\n",
        "        else:\n",
        "            lr = self.learning_rates[1]\n",
        "        print(f\"{bcolors.FAIL}\\t lr = {lr}{bcolors.ENDC}\")\n",
        "        vals, ep_vals = self.custom_learner.fit(lr, \n",
        "                                                self.cycles[1], \n",
        "                                                cycle_len=self.cycle_lengths[1], \n",
        "                                                get_ep_vals=True)\n",
        "    def evaluate(self):\n",
        "        custom_learner_y_hat = predict_all(self.custom_model, \n",
        "                                       self.x_test, \n",
        "                                       n_classes=len(self.classes), \n",
        "                                       batch_size=self.batch_sizes[1], \n",
        "                                       use_cuda=self.use_cuda)\n",
        "        custom_learner_y_pred = np.argmax(custom_learner_y_hat, axis=1)\n",
        "        custom_learner_num_samples = len(self.x_test)\n",
        "        for i in range(len(self.classes)):\n",
        "            plt.figure(figsize=(15,5))\n",
        "            plt.title(self.classes[i])\n",
        "            plt.plot(custom_learner_y_hat[:,i], c='r')\n",
        "            plt.plot([y==i for y in self.y_test], c='b')\n",
        "            plt.xticks(range(custom_learner_num_samples), \n",
        "                       range(custom_learner_num_samples))\n",
        "            plt.show()\n",
        "        print(f\"{bcolors.OKGREEN}f1_score: {f1_score(self.y_test, custom_learner_y_pred, average='micro')}{bcolors.ENDC}\")\n",
        "        print(f\"{bcolors.OKGREEN}accuracy_score: {accuracy_score(self.y_test, custom_learner_y_pred)}{bcolors.ENDC}\")\n",
        "        cm = confusion_matrix(self.y_test, custom_learner_y_pred)\n",
        "        plot_confusion_matrix(cm, self.classes)\n",
        "        plt.show()\n",
        "    def deploy(self):\n",
        "        for samples_path in self.deploy_dirs:\n",
        "            filenames = sorted(list(samples_path.iterdir())); filenames[:3]\n",
        "            for fn_path in tqdm(filenames, desc=f\"{bcolors.OKGREEN}Deploying Model on Unclassified Samples{bcolors.ENDC} {bcolors.OKBLUE}{samples_path}{bcolors.ENDC}\"):\n",
        "                ds_sample = dataset_sample_from_file(fn_path, self.sample_rate)\n",
        "                ds_sample = process_dataset_sample(self.class2idx, \n",
        "                                                   ds_sample, \n",
        "                                                   self.expected_length, \n",
        "                                                   self.downsampling_factors)\n",
        "                yt, y_pred, a_class = predict_one(self.custom_model, \n",
        "                                                  ds_sample.samples_downsampled, \n",
        "                                                  self.use_cuda, \n",
        "                                                  n_classes=len(self.classes), \n",
        "                                                  classes=self.classes)\n",
        "                self.predictions_dict['ID'].append(fn_path.name)\n",
        "                self.predictions_dict['Prediction'].append(y_pred)\n",
        "                self.probability_dict['ID'].append(fn_path.name)\n",
        "                self.probability_dict['Prediction'].append(round(yt[y_pred], 3))\n",
        "        self.predictions_df = pd.DataFrame(self.predictions_dict)\n",
        "        self.probability_df = pd.DataFrame(self.probability_dict)\n",
        "        self.predictions_df.to_csv(f\"{self.result_filename}_predictions.csv\", sep=';', index=False)\n",
        "        self.probability_df.to_csv(f\"{self.result_filename}_probability.csv\", sep=';', index=False)\n",
        "    def __init__(self, \n",
        "                 sample_rate, \n",
        "                 downsampling_factors, \n",
        "                 min_duration, \n",
        "                 classes, \n",
        "                 train_dirs,\n",
        "                 deploy_dirs,\n",
        "                 dataset_path,\n",
        "                 dataset_file_name,\n",
        "                 dataset_file_id,\n",
        "                 use_cuda,\n",
        "                 output_path,\n",
        "                 batch_sizes,\n",
        "                 learning_rates,\n",
        "                 cycles,\n",
        "                 cycle_lengths,\n",
        "                 result_filename,\n",
        "                 loss_function):\n",
        "        self.sample_rate          = sample_rate\n",
        "        self.downsampling_factors = downsampling_factors\n",
        "        self.min_duration         = min_duration\n",
        "        self.classes              = classes\n",
        "        self.train_dirs           = train_dirs\n",
        "        self.deploy_dirs          = deploy_dirs\n",
        "        self.dataset_path         = dataset_path\n",
        "        self.dataset_file_name    = dataset_file_name\n",
        "        self.dataset_file_id      = dataset_file_id\n",
        "        self.use_cuda             = use_cuda\n",
        "        self.output_path          = output_path\n",
        "        self.batch_sizes          = batch_sizes\n",
        "        self.learning_rates       = learning_rates\n",
        "        self.cycles               = cycles\n",
        "        self.cycle_lengths        = cycle_lengths\n",
        "        self.result_filename      = result_filename\n",
        "        self.loss_function        = loss_function\n",
        "        self.predictions_dict = {'ID':[], 'Prediction':[]}\n",
        "        self.probability_dict = {'ID':[], 'Prediction':[]}\n",
        "        self.__download__()\n",
        "        self.__process_params__()\n",
        "        self.__prepare_dataset__()\n",
        "        self.__build_custom_learner__()\n",
        "        self.fit()\n",
        "        self.evaluate()\n",
        "        self.deploy()"
      ],
      "execution_count": 0,
      "outputs": []
    },
    {
      "cell_type": "markdown",
      "metadata": {
        "id": "SJ2OJ8B8q0Uu",
        "colab_type": "text"
      },
      "source": [
        "# User Input: HeartBeats (Original Dataset)."
      ]
    },
    {
      "cell_type": "code",
      "metadata": {
        "id": "jAIz0AG-rHnn",
        "colab_type": "code",
        "cellView": "form",
        "colab": {}
      },
      "source": [
        "#@title User Input\n",
        "dataset_file_name_param    = \"heart_beats.zip\" #@param {type:\"string\"}\n",
        "dataset_file_id_param      = \"19YHLgnEcak7WZ7qawOXyNdT7WnTDcIGG\" #@param {type:\"string\"}\n",
        "dataset_path_param         = \"/content/heart_beats_raw\" #@param {type:\"string\"}\n",
        "use_cuda_param             = True    #@param {type:\"boolean\"}\n",
        "sample_rate_param          = 44100   #@param {type:\"integer\"}\n",
        "downsampling_factors_param = \"8,8,4\" #@param {type:\"string\"}\n",
        "min_duration_param         = None    #@param {type:\"raw\"}\n",
        "classes_param              = \"artifact,murmur,normal\" #@param {type:\"string\"}\n",
        "train_dirs_param           = \"train/heartbeat-sounds5\" #@param {type:\"string\"}\n",
        "deploy_dirs_param          = 'test/custom_samples'  #@param {type:\"string\"}\n",
        "output_path_param          = '/content/heart_beats_processed/'  #@param {type:\"string\"}\n",
        "batch_sizes_param          = \"32,2\" #@param {type:\"string\"}\n",
        "learning_rates_param       = \"0.01\" #@param {type:\"string\"}\n",
        "cycles_param               = \"2,2\" #@param {type:\"string\"}\n",
        "cycle_lengths_param        = \"4,4\" #@param {type:\"string\"}\n",
        "result_filename_param      = \"heart_beats_results\" #@param {type:\"string\"}\n",
        "loss_function_param = F.cross_entropy #@param [\"F.cross_entropy\", \"F.nll_loss\"] {type:\"raw\"}\n"
      ],
      "execution_count": 0,
      "outputs": []
    },
    {
      "cell_type": "code",
      "metadata": {
        "id": "ztXy3qqZyu_b",
        "colab_type": "code",
        "outputId": "2c754901-693c-4c41-a105-1c17019ac5d3",
        "colab": {
          "base_uri": "https://localhost:8080/",
          "height": 1000,
          "referenced_widgets": [
            "28547199ba0b44ac96ef7a4c5334c994",
            "cde7605ed848478c9993637db4f974d3",
            "053a7cadebf74b4fa9782e8cea7371ca",
            "b03426e2cb1b4eb8b142234da270ef31",
            "a441152810414329b853e8d8b1823886",
            "3710db5c4dbf4cb584afa91e901507c9",
            "03d7e3a322464540abce7ad4f1178d62",
            "79ca298b42164881ba80284cd3c9dfa1",
            "096d190a336543f99d163326f15180b4",
            "21afd10857ad4ef4a999af30d2460f23",
            "77bd9aec33ed41b3a3cbdf8d2ec1d196",
            "0126152aaa2c4738b72af97ebf868f3b",
            "e8f827afe2f64ebdbca6de04842afbf1",
            "e64fd594e36e450cba5a19a53842b377",
            "f7af43e39d0e43ddabef931d889b8903",
            "bbe788f61b2a4154ae1c3f15faaa11f2",
            "3e7f10aa292241bd9dbe9e0ae3ce6a85",
            "b0de7eb0f02040a1bcc252afa7bb1aa8",
            "53d392d4269f46a3bbf9aa00e7b0b904",
            "b4866aa7939a471b837a5863ac539bb6",
            "d365c8b1ca7e4ffa89c93f90d88fe7ed",
            "68337698fdd94115b385a364085840a1",
            "f82ce0f62b4d42d1bb0b68b6fbf87f93",
            "570eaf6175314100b34f0efe92d57b7b",
            "f1571ad6ed8149b4ab38939f13512a23",
            "3c984cc3ce7749b6baf93768f330c3db",
            "9d6a5843f4e64e158e2f43626dfb8c8a",
            "96d3fd33e6254e328e920a4659ae8524",
            "b4af035a126a43feb4d234560fd70ba0",
            "df5640392dbe4748a6853d98da937a82",
            "7ed7f1bebb324e64bcb43c5de361d6e0",
            "5d7c3bb773a146b198b3d5d5d1d7345c"
          ]
        }
      },
      "source": [
        "ZTM05(sample_rate_param, \n",
        "      downsampling_factors_param, \n",
        "      min_duration_param, \n",
        "      classes_param, \n",
        "      train_dirs_param,\n",
        "      deploy_dirs_param,\n",
        "      dataset_path_param,\n",
        "      dataset_file_name_param,\n",
        "      dataset_file_id_param,\n",
        "      use_cuda_param,\n",
        "      output_path_param,\n",
        "      batch_sizes_param,\n",
        "      learning_rates_param,\n",
        "      cycles_param,\n",
        "      cycle_lengths_param,\n",
        "      result_filename_param,\n",
        "      loss_function_param)"
      ],
      "execution_count": 0,
      "outputs": [
        {
          "output_type": "stream",
          "text": [
            "\u001b[95mSaved heart_beats.zip\u001b[0m\n",
            "\u001b[95mClass Counts: \u001b[0m\n",
            "\t\u001b[95martifact: 58\u001b[0m\n",
            "\t\u001b[95mmurmur: 53\u001b[0m\n",
            "\t\u001b[95mnormal: 65\u001b[0m\n",
            "\u001b[95mgetting expected length\u001b[0m: 100%|██████████| 176/176 [00:00<00:00, 509453.07it/s]\n",
            "\u001b[94mexpected length: 396900\u001b[0m\n",
            "\u001b[95mprocessing dataset samples\u001b[0m: 100%|██████████| 176/176 [00:02<00:00, 61.79it/s]\n",
            "\u001b[91mselecting first learning rate\u001b[0m\n"
          ],
          "name": "stdout"
        },
        {
          "output_type": "stream",
          "text": [
            "/usr/local/lib/python3.6/dist-packages/ipykernel_launcher.py:2: DeprecationWarning: Calling np.sum(generator) is deprecated, and in the future will give a different result. Use np.sum(np.fromiter(generator)) or the python sum builtin instead.\n",
            "  \n"
          ],
          "name": "stderr"
        },
        {
          "output_type": "display_data",
          "data": {
            "application/vnd.jupyter.widget-view+json": {
              "model_id": "28547199ba0b44ac96ef7a4c5334c994",
              "version_minor": 0,
              "version_major": 2
            },
            "text/plain": [
              "HBox(children=(IntProgress(value=0, description='Epoch', max=1, style=ProgressStyle(description_width='initial…"
            ]
          },
          "metadata": {
            "tags": []
          }
        },
        {
          "output_type": "stream",
          "text": [
            "\n",
            "\r  0%|          | 0/207 [00:00<?, ?it/s]"
          ],
          "name": "stdout"
        },
        {
          "output_type": "stream",
          "text": [
            "/pytorch/torch/csrc/utils/python_arg_parser.cpp:756: UserWarning: This overload of cuda is deprecated:\n",
            "\tcuda(torch.device device, bool async, *, torch.memory_format memory_format)\n",
            "Consider using one of the following signatures instead:\n",
            "\tcuda(torch.device device, bool non_blocking, *, torch.memory_format memory_format)\n"
          ],
          "name": "stderr"
        },
        {
          "output_type": "stream",
          "text": [
            "\u001b[91m\t lr = 0.3799357365039461\u001b[0m\n"
          ],
          "name": "stdout"
        },
        {
          "output_type": "display_data",
          "data": {
            "application/vnd.jupyter.widget-view+json": {
              "model_id": "096d190a336543f99d163326f15180b4",
              "version_minor": 0,
              "version_major": 2
            },
            "text/plain": [
              "HBox(children=(IntProgress(value=0, description='Epoch', max=8, style=ProgressStyle(description_width='initial…"
            ]
          },
          "metadata": {
            "tags": []
          }
        },
        {
          "output_type": "stream",
          "text": [
            "\n",
            "epoch      trn_loss   val_loss   \n",
            "    0      430.322197 493.701926\n",
            "    1      5856.665031 881.464378\n",
            "    2      412.043934 11.731245 \n",
            "    3      60.209658  0.925411  \n",
            "    4      84870.911655 159141.703125\n",
            "    5      2716947.609493 283489.676136\n",
            "    6      182533.141317 605.176847\n",
            "    7      23691.481443 99.546164 \n",
            "\u001b[91mselecting second learning rate\u001b[0m\n"
          ],
          "name": "stdout"
        },
        {
          "output_type": "display_data",
          "data": {
            "application/vnd.jupyter.widget-view+json": {
              "model_id": "3e7f10aa292241bd9dbe9e0ae3ce6a85",
              "version_minor": 0,
              "version_major": 2
            },
            "text/plain": [
              "HBox(children=(IntProgress(value=0, description='Epoch', max=1, style=ProgressStyle(description_width='initial…"
            ]
          },
          "metadata": {
            "tags": []
          }
        },
        {
          "output_type": "stream",
          "text": [
            "\n"
          ],
          "name": "stdout"
        },
        {
          "output_type": "display_data",
          "data": {
            "image/png": "[encoded data removed]",
            "text/plain": [
              "<Figure size 432x288 with 1 Axes>"
            ]
          },
          "metadata": {
            "tags": []
          }
        },
        {
          "output_type": "stream",
          "text": [
            "\u001b[91m\t lr = 0.002721338768375328\u001b[0m\n"
          ],
          "name": "stdout"
        },
        {
          "output_type": "display_data",
          "data": {
            "application/vnd.jupyter.widget-view+json": {
              "model_id": "f1571ad6ed8149b4ab38939f13512a23",
              "version_minor": 0,
              "version_major": 2
            },
            "text/plain": [
              "HBox(children=(IntProgress(value=0, description='Epoch', max=8, style=ProgressStyle(description_width='initial…"
            ]
          },
          "metadata": {
            "tags": []
          }
        },
        {
          "output_type": "stream",
          "text": [
            "\n",
            "epoch      trn_loss   val_loss   \n",
            "    0      28187.150068 66.804333 \n",
            "    1      13032.052207 369.692474\n",
            "    2      38479.728608 81.044744 \n",
            "    3      19532.421654 5.681463  \n",
            "    4      16832.207834 132.255325\n",
            "    5      15116.678181 5.381037  \n",
            "    6      11747.634947 10.054332 \n",
            "    7      13194.349179 2.830979  \n"
          ],
          "name": "stdout"
        },
        {
          "output_type": "display_data",
          "data": {
            "image/png": "[encoded data removed]",
            "text/plain": [
              "<Figure size 1080x360 with 1 Axes>"
            ]
          },
          "metadata": {
            "tags": []
          }
        },
        {
          "output_type": "display_data",
          "data": {
            "image/png": "[encoded data removed]",
            "text/plain": [
              "<Figure size 1080x360 with 1 Axes>"
            ]
          },
          "metadata": {
            "tags": []
          }
        },
        {
          "output_type": "display_data",
          "data": {
            "image/png": "[encoded data removed]",
            "text/plain": [
              "<Figure size 1080x360 with 1 Axes>"
            ]
          },
          "metadata": {
            "tags": []
          }
        },
        {
          "output_type": "stream",
          "text": [
            "\u001b[92mf1_score: 0.75\u001b[0m\n",
            "\u001b[92maccuracy_score: 0.75\u001b[0m\n",
            "[[17  0  0]\n",
            " [ 0  0 11]\n",
            " [ 0  0 16]]\n"
          ],
          "name": "stdout"
        },
        {
          "output_type": "display_data",
          "data": {
            "image/png": "[encoded data removed]",
            "text/plain": [
              "<Figure size 432x288 with 2 Axes>"
            ]
          },
          "metadata": {
            "tags": []
          }
        },
        {
          "output_type": "stream",
          "text": [
            "\u001b[92mDeploying Model on Unclassified Samples\u001b[0m \u001b[94m/content/heart_beats_raw/test/custom_samples\u001b[0m: 100%|██████████| 6/6 [00:00<00:00, 46.86it/s]\n"
          ],
          "name": "stdout"
        },
        {
          "output_type": "stream",
          "text": [
            "/usr/local/lib/python3.6/dist-packages/ipykernel_launcher.py:16: WavFileWarning: Chunk (non-data) not understood, skipping it.\n",
            "  app.launch_new_instance()\n"
          ],
          "name": "stderr"
        },
        {
          "output_type": "execute_result",
          "data": {
            "text/plain": [
              "<__main__.ZTM05 at 0x7fdb2c2b43c8>"
            ]
          },
          "metadata": {
            "tags": []
          },
          "execution_count": 18
        }
      ]
    },
    {
      "cell_type": "markdown",
      "metadata": {
        "id": "6ftPfHOTCcF2",
        "colab_type": "text"
      },
      "source": [
        "# User Input: Data (New Dataset).\n",
        "- Training on : Full_wave_enhanced_audio.\n",
        "- Testing on  : Full_wave_enhanced_audio & Normalised_audio-chunks.\n",
        "\n",
        "### How to Select Training/Testing Folders\n",
        "- to select training folder, change the parameter called **train_dirs_param**:\n",
        "  - `train/Full_wave_enhanced_audio` will select one folder called `Full_wave_enhanced_audio` from the training folder, however `train/Full_wave_enhanced_audio, train/Normalised_audio-chunks` will select both `Full_wave_enhanced_audio` folder and `Normalised_audio-chunks` from the training folder.\n",
        "- to select testing folder, change the parameter called **train_dirs_param**:\n",
        "  - `test/Full_wave_enhanced_audio` will select one folder called `Full_wave_enhanced_audio` from the testing folder, however `test/Full_wave_enhanced_audio, test/Normalised_audio-chunks` will select both `Full_wave_enhanced_audio` folder and `Normalised_audio-chunks` from the testing folder.\n",
        "\n",
        "### How To Specify Other Parameters\n",
        "all parameters are separated by commas when they represent a collection.\n",
        "for example `downsampling_factors_param` represents a collection of three downsampling factors:\n",
        " - 8\n",
        " - 8\n",
        " - 4\n",
        "\n",
        "### Parameters which can be specified:\n",
        "- `dataset_file_name_param`: what the file name of the dataset **zip** archive is.\n",
        "- `dataset_file_id_param`: the google drive id of the dataset archive.\n",
        "- `dataset_path_param`: the path you wish the model to unzip the dataset archive to.\n",
        "- `use_cuda_param`: whether or not to use GPU.\n",
        "- `classes_param`: what classes you have inside the dataset (e.g. cc & cd), **NOTE** if you use multiple training/testing folders, they should have the same classes.\n",
        "- `train_dirs_param`: where you wish the model to split and preprocess the training data.\n",
        "- `deploy_dirs_param`: where you wish the model to split and preprocess the testing data.\n",
        "- `learning_rates_param`: the desired learning rates of the model while training.\n",
        "  - the training process is repeated twice, therefore we need two learning rates.\n",
        "  - if only one learning rate is provided the other learning rate will be generated inside the model using an lr_finder function.\n",
        "  - if no learning rates are provided then both learning rates will be generated inside the model using an lr_finder function.\n",
        "- `cycles_param`: the number of training cycles (epochs).\n",
        "  - the training process is repeated twice, therefore we need two cycle params.\n",
        "- `cycle_lengths_param`: the number of training iterations per cycle (iterations).\n",
        "  - the training process is repeated twice, therefore we need two cycle length params.\n",
        "- `result_filename_param`: the name of the result csv files.\n",
        "- `loss_function_param`: \n",
        "  - nll_loss: Negative Log Likelyhood.\n",
        "  - cross_entropy.\n",
        "- `batch_sizes`: be careful while choosing this one, not all batch sizes could accomodate all data, \"32,2\" seems to be good for the provided datasets.\n",
        "  - the first batch size (32): training batch size.\n",
        "  - the second batch size (2): testing/deployment batch size.\n",
        "\n",
        "**The rest of the parameters seem to be locked by the original developer, they are hardcoded into the core neural network**"
      ]
    },
    {
      "cell_type": "code",
      "metadata": {
        "id": "SWABO5CVCccv",
        "colab_type": "code",
        "cellView": "form",
        "colab": {}
      },
      "source": [
        "#@title User Input\n",
        "dataset_file_name_param    = \"data.zip\" #@param {type:\"string\"}\n",
        "dataset_file_id_param      = \"1NV1fBbgXlxT8oLTxl0u4ZZp0XSPAUWkR\" #@param {type:\"string\"}\n",
        "dataset_path_param         = \"/content/data_raw\" #@param {type:\"string\"}\n",
        "use_cuda_param             = True    #@param {type:\"boolean\"}\n",
        "sample_rate_param          = 44100   #@param {type:\"integer\"}\n",
        "downsampling_factors_param = \"8,8,4\" #@param {type:\"string\"}\n",
        "min_duration_param         = None    #@param {type:\"raw\"}\n",
        "classes_param              = \"cc,cd\" #@param {type:\"string\"}\n",
        "train_dirs_param           = \"train/Full_wave_enhanced_audio\" #@param {type:\"string\"}\n",
        "deploy_dirs_param          = 'test/Full_wave_enhanced_audio, test/Normalised_audio-chunks'  #@param {type:\"string\"}\n",
        "output_path_param          = '/content/data_processed'  #@param {type:\"string\"}\n",
        "batch_sizes_param           = \"32,2\" #@param {type:\"string\"}\n",
        "learning_rates_param       = \"0.1\" #@param {type:\"string\"}\n",
        "cycles_param               = \"2,2\" #@param {type:\"string\"}\n",
        "cycle_lengths_param        = \"4,4\" #@param {type:\"string\"}\n",
        "result_filename_param      = \"data_results\" #@param {type:\"string\"}\n",
        "loss_function_param = F.cross_entropy #@param [\"F.cross_entropy\", \"F.nll_loss\"] {type:\"raw\"}\n"
      ],
      "execution_count": 0,
      "outputs": []
    },
    {
      "cell_type": "code",
      "metadata": {
        "id": "sOXM0MwmGxuh",
        "colab_type": "code",
        "outputId": "d2c3a5c1-a425-4289-a0bf-251867da5c49",
        "colab": {
          "base_uri": "https://localhost:8080/",
          "height": 1000,
          "referenced_widgets": [
            "1dc33676f5854e729fe26395e700b692",
            "ebcbcc47d1624abc866ec5c1b028be72",
            "2d65343ef6c7426a8fc5296d1d57855b",
            "d3c8998c085e4e01b0c06ff26d801313",
            "8c08a138a0fe441f83203a10853f675d",
            "7db1391645e5415cb17efa6805053de3",
            "8b59ac1d976b405e8d6cb948b9542770",
            "b721b4daca2240dba7d78f5d235de39d",
            "0c3dabcaebbe4e2d9cefbb1246f62cf0",
            "abfa1ee16caf4a8aadad571d8e56654c",
            "53dadf47a6114c6e846e016594d3af21",
            "af4dcf8ac980489a88198ad9e1c30557",
            "f294ae5e7ee546d7b45a1f582f9be771",
            "200e339896674b5e94280b7a6caced61",
            "e14cc84cd698472a94c94d420072f25d",
            "886168c138e64281ad4357d84de50b55",
            "daec08204830472fbb45c5ae05e3d4c3",
            "d73745f914704000865daa9b3874a71b",
            "1a1224821a2145d3b582be9577686ec1",
            "3a2c98238067433ea1215f7fedcef3f5",
            "8667a0da0618402fab4f49652d27c5ea",
            "bf942d0a2c7d40078f757f978b6bfbe4",
            "98cdb064144949a9a72f5f587928da9c",
            "ecd020fb67ba4220b7de4fdf30afc0f9",
            "9c04ef9425754228a0e48d61a9f16ad8",
            "506ea5e05cdf4a3aa0582e62a961e91b",
            "ac7f279466534693ac1ea64a071aad7b",
            "7240836b49b04e29981621a6b3f1c6d4",
            "fc74caff64e345718f73b1b08b6baa4d",
            "41052467f908499396d502d7a504d5ca",
            "66b0b289a26946b98d4c5cc6c2d9c8c0",
            "6156bfe0a0c94724bb7181384b630d40"
          ]
        }
      },
      "source": [
        "ZTM05(sample_rate_param, \n",
        "      downsampling_factors_param, \n",
        "      min_duration_param, \n",
        "      classes_param, \n",
        "      train_dirs_param,\n",
        "      deploy_dirs_param,\n",
        "      dataset_path_param,\n",
        "      dataset_file_name_param,\n",
        "      dataset_file_id_param,\n",
        "      use_cuda_param,\n",
        "      output_path_param,\n",
        "      batch_sizes_param,\n",
        "      learning_rates_param,\n",
        "      cycles_param,\n",
        "      cycle_lengths_param,\n",
        "      result_filename_param,\n",
        "      loss_function_param)"
      ],
      "execution_count": 0,
      "outputs": [
        {
          "output_type": "stream",
          "text": [
            "\u001b[95mSaved data.zip\u001b[0m\n",
            "\u001b[95mClass Counts: \u001b[0m\n",
            "\t\u001b[95mcc: 54\u001b[0m\n",
            "\t\u001b[95mcd: 54\u001b[0m\n",
            "\u001b[95mgetting expected length\u001b[0m: 100%|██████████| 108/108 [00:00<00:00, 300986.60it/s]\n",
            "\u001b[94mexpected length: 9903316\u001b[0m\n",
            "\u001b[95mprocessing dataset samples\u001b[0m: 100%|██████████| 108/108 [00:36<00:00,  2.93it/s]\n",
            "\u001b[91mselecting first learning rate\u001b[0m\n"
          ],
          "name": "stdout"
        },
        {
          "output_type": "stream",
          "text": [
            "/usr/local/lib/python3.6/dist-packages/ipykernel_launcher.py:2: DeprecationWarning: Calling np.sum(generator) is deprecated, and in the future will give a different result. Use np.sum(np.fromiter(generator)) or the python sum builtin instead.\n",
            "  \n"
          ],
          "name": "stderr"
        },
        {
          "output_type": "display_data",
          "data": {
            "application/vnd.jupyter.widget-view+json": {
              "model_id": "1dc33676f5854e729fe26395e700b692",
              "version_minor": 0,
              "version_major": 2
            },
            "text/plain": [
              "HBox(children=(IntProgress(value=0, description='Epoch', max=1, style=ProgressStyle(description_width='initial…"
            ]
          },
          "metadata": {
            "tags": []
          }
        },
        {
          "output_type": "stream",
          "text": [
            "\n",
            "\u001b[91m\t lr = 0.7347536163492214\u001b[0m\n"
          ],
          "name": "stdout"
        },
        {
          "output_type": "display_data",
          "data": {
            "application/vnd.jupyter.widget-view+json": {
              "model_id": "0c3dabcaebbe4e2d9cefbb1246f62cf0",
              "version_minor": 0,
              "version_major": 2
            },
            "text/plain": [
              "HBox(children=(IntProgress(value=0, description='Epoch', max=8, style=ProgressStyle(description_width='initial…"
            ]
          },
          "metadata": {
            "tags": []
          }
        },
        {
          "output_type": "stream",
          "text": [
            "\n",
            "epoch      trn_loss   val_loss   \n",
            "    0      0.639804   1.498814  \n",
            "    1      0.458549   1.257851  \n",
            "    2      0.260232   3.793682  \n",
            "    3      0.154423   4.5042    \n",
            "    4      0.514024   3.254586  \n",
            "    5      0.273782   3.691773  \n",
            "    6      0.128066   6.110228  \n",
            "    7      0.107728   6.385784  \n",
            "\u001b[91mselecting second learning rate\u001b[0m\n"
          ],
          "name": "stdout"
        },
        {
          "output_type": "display_data",
          "data": {
            "application/vnd.jupyter.widget-view+json": {
              "model_id": "daec08204830472fbb45c5ae05e3d4c3",
              "version_minor": 0,
              "version_major": 2
            },
            "text/plain": [
              "HBox(children=(IntProgress(value=0, description='Epoch', max=1, style=ProgressStyle(description_width='initial…"
            ]
          },
          "metadata": {
            "tags": []
          }
        },
        {
          "output_type": "stream",
          "text": [
            "\n"
          ],
          "name": "stdout"
        },
        {
          "output_type": "display_data",
          "data": {
            "image/png": "[encoded data removed]",
            "text/plain": [
              "<Figure size 432x288 with 1 Axes>"
            ]
          },
          "metadata": {
            "tags": []
          }
        },
        {
          "output_type": "stream",
          "text": [
            "\u001b[91m\t lr = 0.002862153445389284\u001b[0m\n"
          ],
          "name": "stdout"
        },
        {
          "output_type": "display_data",
          "data": {
            "application/vnd.jupyter.widget-view+json": {
              "model_id": "9c04ef9425754228a0e48d61a9f16ad8",
              "version_minor": 0,
              "version_major": 2
            },
            "text/plain": [
              "HBox(children=(IntProgress(value=0, description='Epoch', max=8, style=ProgressStyle(description_width='initial…"
            ]
          },
          "metadata": {
            "tags": []
          }
        },
        {
          "output_type": "stream",
          "text": [
            "\n",
            "epoch      trn_loss   val_loss   \n",
            "    0      0.099849   6.539397  \n",
            "    1      0.094031   6.399417  \n",
            "    2      0.077374   6.400056  \n",
            "    3      0.09439    6.408828  \n",
            "    4      0.090545   6.472477  \n",
            "    5      0.098298   6.403931  \n",
            "    6      0.083781   6.407783  \n",
            "    7      0.090038   6.420762  \n"
          ],
          "name": "stdout"
        },
        {
          "output_type": "display_data",
          "data": {
            "image/png": "[encoded data removed]",
            "text/plain": [
              "<Figure size 1080x360 with 1 Axes>"
            ]
          },
          "metadata": {
            "tags": []
          }
        },
        {
          "output_type": "display_data",
          "data": {
            "image/png": "[encoded data removed]",
            "text/plain": [
              "<Figure size 1080x360 with 1 Axes>"
            ]
          },
          "metadata": {
            "tags": []
          }
        },
        {
          "output_type": "stream",
          "text": [
            "\u001b[92mf1_score: 0.5185185185185185\u001b[0m\n",
            "\u001b[92maccuracy_score: 0.5185185185185185\u001b[0m\n",
            "[[14  3]\n",
            " [10  0]]\n"
          ],
          "name": "stdout"
        },
        {
          "output_type": "display_data",
          "data": {
            "image/png": "[encoded data removed]",
            "text/plain": [
              "<Figure size 432x288 with 2 Axes>"
            ]
          },
          "metadata": {
            "tags": []
          }
        },
        {
          "output_type": "stream",
          "text": [
            "\u001b[92mDeploying Model on Unclassified Samples\u001b[0m \u001b[94m/content/data_raw/test/Full_wave_enhanced_audio\u001b[0m: 100%|██████████| 48/48 [00:16<00:00,  2.90it/s]\n",
            "\u001b[92mDeploying Model on Unclassified Samples\u001b[0m \u001b[94m/content/data_raw/test/Normalised_audio-chunks\u001b[0m: 100%|██████████| 1243/1243 [06:46<00:00,  3.06it/s]\n"
          ],
          "name": "stdout"
        },
        {
          "output_type": "execute_result",
          "data": {
            "text/plain": [
              "<__main__.ZTM05 at 0x7fdb2c2b4f60>"
            ]
          },
          "metadata": {
            "tags": []
          },
          "execution_count": 20
        }
      ]
    },
    {
      "cell_type": "markdown",
      "metadata": {
        "id": "a_SgvCRCjC0_",
        "colab_type": "text"
      },
      "source": [
        "# User Input: Data (New Dataset).\n",
        "- Training on : Full_wave_enhanced_audio & Normalised_audio-chunks.\n",
        "- Testing on  : Full_wave_enhanced_audio & Normalised_audio-chunks.\n",
        "\n",
        "\n",
        "### How to Select Training/Testing Folders\n",
        "- to select training folder, change the parameter called **train_dirs_param**:\n",
        "  - `train/Full_wave_enhanced_audio` will select one folder called `Full_wave_enhanced_audio` from the training folder, however `train/Full_wave_enhanced_audio, train/Normalised_audio-chunks` will select both `Full_wave_enhanced_audio` folder and `Normalised_audio-chunks` from the training folder.\n",
        "- to select testing folder, change the parameter called **train_dirs_param**:\n",
        "  - `test/Full_wave_enhanced_audio` will select one folder called `Full_wave_enhanced_audio` from the testing folder, however `test/Full_wave_enhanced_audio, test/Normalised_audio-chunks` will select both `Full_wave_enhanced_audio` folder and `Normalised_audio-chunks` from the testing folder.\n",
        "\n",
        "### How To Specify Other Parameters\n",
        "all parameters are separated by commas when they represent a collection.\n",
        "for example `downsampling_factors_param` represents a collection of three downsampling factors:\n",
        " - 8\n",
        " - 8\n",
        " - 4\n",
        "\n",
        "### Parameters which can be specified:\n",
        "- `dataset_file_name_param`: what the file name of the dataset **zip** archive is.\n",
        "- `dataset_file_id_param`: the google drive id of the dataset archive.\n",
        "- `dataset_path_param`: the path you wish the model to unzip the dataset archive to.\n",
        "- `use_cuda_param`: whether or not to use GPU.\n",
        "- `classes_param`: what classes you have inside the dataset (e.g. cc & cd), **NOTE** if you use multiple training/testing folders, they should have the same classes.\n",
        "- `train_dirs_param`: where you wish the model to split and preprocess the training data.\n",
        "- `deploy_dirs_param`: where you wish the model to split and preprocess the testing data.\n",
        "- `learning_rates_param`: the desired learning rates of the model while training.\n",
        "  - the training process is repeated twice, therefore we need two learning rates.\n",
        "  - if only one learning rate is provided the other learning rate will be generated inside the model using an lr_finder function.\n",
        "  - if no learning rates are provided then both learning rates will be generated inside the model using an lr_finder function.\n",
        "- `cycles_param`: the number of training cycles (epochs).\n",
        "  - the training process is repeated twice, therefore we need two cycle params.\n",
        "- `cycle_lengths_param`: the number of training iterations per cycle (iterations).\n",
        "  - the training process is repeated twice, therefore we need two cycle length params.\n",
        "- `result_filename_param`: the name of the result csv files.\n",
        "- `loss_function_param`: \n",
        "  - nll_loss: Negative Log Likelyhood.\n",
        "  - cross_entropy.\n",
        "- `batch_sizes`: be careful while choosing this one, not all batch sizes could accomodate all data, \"32,2\" seems to be good for the provided datasets.\n",
        "  - the first batch size (32): training batch size.\n",
        "  - the second batch size (2): testing/deployment batch size.\n",
        "\n",
        "**The rest of the parameters seem to be locked by the original developer, they are hardcoded into the core neural network**"
      ]
    },
    {
      "cell_type": "code",
      "metadata": {
        "id": "Qm7L2TRkjED5",
        "colab_type": "code",
        "cellView": "form",
        "colab": {}
      },
      "source": [
        "#@title User Input\n",
        "dataset_file_name_param    = \"data.zip\" #@param {type:\"string\"}\n",
        "dataset_file_id_param      = \"1NV1fBbgXlxT8oLTxl0u4ZZp0XSPAUWkR\" #@param {type:\"string\"}\n",
        "dataset_path_param         = \"/content/data_raw\" #@param {type:\"string\"}\n",
        "use_cuda_param             = True    #@param {type:\"boolean\"}\n",
        "sample_rate_param          = 44100   #@param {type:\"integer\"}\n",
        "downsampling_factors_param = \"8,8,4\" #@param {type:\"string\"}\n",
        "min_duration_param         = None    #@param {type:\"raw\"}\n",
        "classes_param              = \"cc,cd\" #@param {type:\"string\"}\n",
        "train_dirs_param           = \"train/Full_wave_enhanced_audio, train/Normalised_audio-chunks\" #@param {type:\"string\"}\n",
        "deploy_dirs_param          = 'test/Full_wave_enhanced_audio, test/Normalised_audio-chunks'  #@param {type:\"string\"}\n",
        "output_path_param          = '/content/data_processed'  #@param {type:\"string\"}\n",
        "batch_sizes_param           = \"32,2\" #@param {type:\"string\"}\n",
        "learning_rates_param       = \"0.1\" #@param {type:\"string\"}\n",
        "cycles_param               = \"2,2\" #@param {type:\"string\"}\n",
        "cycle_lengths_param        = \"4,4\" #@param {type:\"string\"}\n",
        "result_filename_param      = \"data_full_and_normalized_training_results\" #@param {type:\"string\"}\n",
        "loss_function_param = F.cross_entropy #@param [\"F.cross_entropy\", \"F.nll_loss\"] {type:\"raw\"}\n"
      ],
      "execution_count": 0,
      "outputs": []
    },
    {
      "cell_type": "code",
      "metadata": {
        "id": "-oQhzfeNkTC2",
        "colab_type": "code",
        "outputId": "3c0e6492-27f3-49ef-a9bf-165e1931b49e",
        "colab": {
          "base_uri": "https://localhost:8080/",
          "height": 1000,
          "referenced_widgets": [
            "fc7a8070f9cd4cd9a25c8db3c3787feb",
            "6954b047b8204e828400b0d981b49d6b",
            "afa237787dc443eba67f406738671b2b",
            "2a476351cd404bd197a0525337f16e6f",
            "57e3ba6d87af492185b3e040cdc7b4e3",
            "6889553346b54c488c1a1a63264a504d",
            "00d5271f69134ce39be52e4f25afe2b6",
            "860c3262bb744c678638017d1dbab41d",
            "f8510d494759438282dd7c3e9b393c05",
            "deb01f57d97c4b54ae806e3275a926b4",
            "03f8a2d692784b30b7582b9b8b15f23b",
            "a1c53e6a146846bea58f5562c58ca05d",
            "f3b5b29bf9744234a897582e2e5afcde",
            "1e9d5deb89044a378bde74d4c1a8c16b",
            "0bbc82035e71438098ef5a959cc1d9fd",
            "6c5efac84bd74854a5d20473317708e1",
            "4c2f4053875b4cbc94621ae6c2bc1d85",
            "4fdeaebd90ea4a488803c1bd6e6ef3eb",
            "ae2d732e01e44d3db28131576f515c83",
            "a130dc73c23542a2b0e3f87939541fda",
            "60a2d96d2ecc444dbd528b4317d5b1c6",
            "e9554cd55c5141c384bf716d9cd93593",
            "d160e88e56124c968e558079394752cf",
            "f4617868a31f42c09cd3c349b4058458",
            "4bd2065d6bcd42cbbcacfda927b5ae88",
            "41812ffe4081438faa0f705dd5a41626",
            "28ae93c3742e426da3ff84adebfffab7",
            "98c83f66bc28477bb95c93a55bdc4128",
            "fcd511c49a8541bea4eee1990081b2fd",
            "8b3f10c2c9d1404f960dfa5d2c3677a2",
            "98e306471b504aeea147fc66620a066c",
            "c540a95dc86f47b381e8e9dcffed9c43"
          ]
        }
      },
      "source": [
        "ZTM05(sample_rate_param, \n",
        "      downsampling_factors_param, \n",
        "      min_duration_param, \n",
        "      classes_param, \n",
        "      train_dirs_param,\n",
        "      deploy_dirs_param,\n",
        "      dataset_path_param,\n",
        "      dataset_file_name_param,\n",
        "      dataset_file_id_param,\n",
        "      use_cuda_param,\n",
        "      output_path_param,\n",
        "      batch_sizes_param,\n",
        "      learning_rates_param,\n",
        "      cycles_param,\n",
        "      cycle_lengths_param,\n",
        "      result_filename_param,\n",
        "      loss_function_param)"
      ],
      "execution_count": 0,
      "outputs": [
        {
          "output_type": "stream",
          "text": [
            "\u001b[95mSaved data.zip\u001b[0m\n",
            "\u001b[95mClass Counts: \u001b[0m\n",
            "\t\u001b[95mcc: 54\u001b[0m\n",
            "\t\u001b[95mcd: 54\u001b[0m\n",
            "\t\u001b[95mcc: 1358\u001b[0m\n",
            "\t\u001b[95mcd: 1476\u001b[0m\n",
            "\u001b[95mgetting expected length\u001b[0m: 100%|██████████| 2942/2942 [00:00<00:00, 1276206.68it/s]\n",
            "\u001b[94mexpected length: 9903316\u001b[0m\n",
            "\u001b[95mprocessing dataset samples\u001b[0m: 100%|██████████| 2942/2942 [16:32<00:00,  2.96it/s]\n",
            "\u001b[91mselecting first learning rate\u001b[0m\n"
          ],
          "name": "stdout"
        },
        {
          "output_type": "stream",
          "text": [
            "/usr/local/lib/python3.6/dist-packages/ipykernel_launcher.py:2: DeprecationWarning: Calling np.sum(generator) is deprecated, and in the future will give a different result. Use np.sum(np.fromiter(generator)) or the python sum builtin instead.\n",
            "  \n"
          ],
          "name": "stderr"
        },
        {
          "output_type": "display_data",
          "data": {
            "application/vnd.jupyter.widget-view+json": {
              "model_id": "fc7a8070f9cd4cd9a25c8db3c3787feb",
              "version_minor": 0,
              "version_major": 2
            },
            "text/plain": [
              "HBox(children=(IntProgress(value=0, description='Epoch', max=1, style=ProgressStyle(description_width='initial…"
            ]
          },
          "metadata": {
            "tags": []
          }
        },
        {
          "output_type": "stream",
          "text": [
            "\n",
            " 86%|████████▋ | 2981/3447 [01:28<00:13, 33.70it/s, loss=3]   \u001b[91m\t lr = 0.014604640181798207\u001b[0m\n"
          ],
          "name": "stdout"
        },
        {
          "output_type": "display_data",
          "data": {
            "application/vnd.jupyter.widget-view+json": {
              "model_id": "f8510d494759438282dd7c3e9b393c05",
              "version_minor": 0,
              "version_major": 2
            },
            "text/plain": [
              "HBox(children=(IntProgress(value=0, description='Epoch', max=8, style=ProgressStyle(description_width='initial…"
            ]
          },
          "metadata": {
            "tags": []
          }
        },
        {
          "output_type": "stream",
          "text": [
            "\n",
            "epoch      trn_loss   val_loss   \n",
            "    0      0.577108   1.055627  \n",
            "    1      0.505565   1.193063  \n",
            "    2      0.447406   1.261072  \n",
            "    3      0.415099   1.316529  \n",
            "    4      0.451606   1.192289  \n",
            "    5      0.396086   1.294683  \n",
            "    6      0.368898   1.436696  \n",
            "    7      0.343247   1.545355  \n",
            "\u001b[91mselecting second learning rate\u001b[0m\n"
          ],
          "name": "stdout"
        },
        {
          "output_type": "display_data",
          "data": {
            "application/vnd.jupyter.widget-view+json": {
              "model_id": "4c2f4053875b4cbc94621ae6c2bc1d85",
              "version_minor": 0,
              "version_major": 2
            },
            "text/plain": [
              "HBox(children=(IntProgress(value=0, description='Epoch', max=1, style=ProgressStyle(description_width='initial…"
            ]
          },
          "metadata": {
            "tags": []
          }
        },
        {
          "output_type": "stream",
          "text": [
            "\n",
            " 85%|████████▌ | 2935/3447 [01:26<00:15, 33.60it/s, loss=1.3] "
          ],
          "name": "stdout"
        },
        {
          "output_type": "display_data",
          "data": {
            "image/png": "[encoded data removed]",
            "text/plain": [
              "<Figure size 432x288 with 1 Axes>"
            ]
          },
          "metadata": {
            "tags": []
          }
        },
        {
          "output_type": "stream",
          "text": [
            "\u001b[91m\t lr = 0.0002740135098532942\u001b[0m\n"
          ],
          "name": "stdout"
        },
        {
          "output_type": "display_data",
          "data": {
            "application/vnd.jupyter.widget-view+json": {
              "model_id": "4bd2065d6bcd42cbbcacfda927b5ae88",
              "version_minor": 0,
              "version_major": 2
            },
            "text/plain": [
              "HBox(children=(IntProgress(value=0, description='Epoch', max=8, style=ProgressStyle(description_width='initial…"
            ]
          },
          "metadata": {
            "tags": []
          }
        },
        {
          "output_type": "stream",
          "text": [
            "\n",
            "epoch      trn_loss   val_loss   \n",
            "    0      0.342543   1.579072  \n",
            "    1      0.337305   1.557042  \n",
            "    2      0.341461   1.570715  \n",
            "    3      0.34791    1.585756  \n",
            "    4      0.332362   1.59068   \n",
            "    5      0.333906   1.608335  \n",
            "    6      0.333011   1.613587  \n",
            "    7      0.330775   1.614042  \n"
          ],
          "name": "stdout"
        },
        {
          "output_type": "display_data",
          "data": {
            "image/png": "[encoded data removed]",
            "text/plain": [
              "<Figure size 1080x360 with 1 Axes>"
            ]
          },
          "metadata": {
            "tags": []
          }
        },
        {
          "output_type": "display_data",
          "data": {
            "image/png": "[encoded data removed]",
            "text/plain": [
              "<Figure size 1080x360 with 1 Axes>"
            ]
          },
          "metadata": {
            "tags": []
          }
        },
        {
          "output_type": "stream",
          "text": [
            "\u001b[92mf1_score: 0.5258152173913043\u001b[0m\n",
            "\u001b[92maccuracy_score: 0.5258152173913043\u001b[0m\n",
            "[[193 157]\n",
            " [192 194]]\n"
          ],
          "name": "stdout"
        },
        {
          "output_type": "display_data",
          "data": {
            "image/png": "[encoded data removed]",
            "text/plain": [
              "<Figure size 432x288 with 2 Axes>"
            ]
          },
          "metadata": {
            "tags": []
          }
        },
        {
          "output_type": "stream",
          "text": [
            "\u001b[92mDeploying Model on Unclassified Samples\u001b[0m \u001b[94m/content/data_raw/test/Full_wave_enhanced_audio\u001b[0m: 100%|██████████| 48/48 [00:14<00:00,  3.20it/s]\n",
            "\u001b[92mDeploying Model on Unclassified Samples\u001b[0m \u001b[94m/content/data_raw/test/Normalised_audio-chunks\u001b[0m: 100%|██████████| 1243/1243 [06:23<00:00,  3.24it/s]\n"
          ],
          "name": "stdout"
        },
        {
          "output_type": "execute_result",
          "data": {
            "text/plain": [
              "<__main__.ZTM05 at 0x7fdb235afa90>"
            ]
          },
          "metadata": {
            "tags": []
          },
          "execution_count": 23
        }
      ]
    },
    {
      "cell_type": "markdown",
      "metadata": {
        "id": "Tic6cCNjrdjA",
        "colab_type": "text"
      },
      "source": [
        "# New Section"
      ]
    }
  ]
}
