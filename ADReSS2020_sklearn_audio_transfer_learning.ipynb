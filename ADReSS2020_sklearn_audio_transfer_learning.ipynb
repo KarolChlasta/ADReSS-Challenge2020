{
  "nbformat": 4,
  "nbformat_minor": 0,
  "metadata": {
    "colab": {
      "name": "ADReSS2020-sklearn-audio-transfer-learning.ipynb",
      "provenance": [],
      "include_colab_link": true
    },
    "kernelspec": {
      "name": "python3",
      "display_name": "Python 3"
    }
  },
  "cells": [
    {
      "cell_type": "markdown",
      "metadata": {
        "id": "view-in-github",
        "colab_type": "text"
      },
      "source": [
        "<a href=\"https://colab.research.google.com/github/KarolChlasta/ADReSS-Challenge2020/blob/master/ADReSS2020_sklearn_audio_transfer_learning.ipynb\" target=\"_parent\"><img src=\"https://colab.research.google.com/assets/colab-badge.svg\" alt=\"Open In Colab\"/></a>"
      ]
    },
    {
      "cell_type": "markdown",
      "metadata": {
        "id": "nfSMqbv-y0jv",
        "colab_type": "text"
      },
      "source": [
        "# Optional"
      ]
    },
    {
      "cell_type": "code",
      "metadata": {
        "id": "qyVAqdxiwHJk",
        "colab_type": "code",
        "outputId": "011cb715-534a-496a-a50b-3d7ab9af5693",
        "colab": {
          "base_uri": "https://localhost:8080/",
          "height": 248
        }
      },
      "source": [
        "# Downgrade Tensorflow from 2.1 to 1.3 in order to avoid \"module tensorflow has no attribute contrib\"\n",
        "import tensorflow as tf\n",
        "\n",
        "print(tf.__version__)"
      ],
      "execution_count": 18,
      "outputs": [
        {
          "output_type": "stream",
          "text": [
            "/usr/local/lib/python3.6/dist-packages/tensorflow/python/framework/dtypes.py:526: FutureWarning: Passing (type, 1) or '1type' as a synonym of type is deprecated; in a future version of numpy, it will be understood as (type, (1,)) / '(1,)type'.\n",
            "  _np_qint8 = np.dtype([(\"qint8\", np.int8, 1)])\n",
            "/usr/local/lib/python3.6/dist-packages/tensorflow/python/framework/dtypes.py:527: FutureWarning: Passing (type, 1) or '1type' as a synonym of type is deprecated; in a future version of numpy, it will be understood as (type, (1,)) / '(1,)type'.\n",
            "  _np_quint8 = np.dtype([(\"quint8\", np.uint8, 1)])\n",
            "/usr/local/lib/python3.6/dist-packages/tensorflow/python/framework/dtypes.py:528: FutureWarning: Passing (type, 1) or '1type' as a synonym of type is deprecated; in a future version of numpy, it will be understood as (type, (1,)) / '(1,)type'.\n",
            "  _np_qint16 = np.dtype([(\"qint16\", np.int16, 1)])\n",
            "/usr/local/lib/python3.6/dist-packages/tensorflow/python/framework/dtypes.py:529: FutureWarning: Passing (type, 1) or '1type' as a synonym of type is deprecated; in a future version of numpy, it will be understood as (type, (1,)) / '(1,)type'.\n",
            "  _np_quint16 = np.dtype([(\"quint16\", np.uint16, 1)])\n",
            "/usr/local/lib/python3.6/dist-packages/tensorflow/python/framework/dtypes.py:530: FutureWarning: Passing (type, 1) or '1type' as a synonym of type is deprecated; in a future version of numpy, it will be understood as (type, (1,)) / '(1,)type'.\n",
            "  _np_qint32 = np.dtype([(\"qint32\", np.int32, 1)])\n",
            "/usr/local/lib/python3.6/dist-packages/tensorflow/python/framework/dtypes.py:535: FutureWarning: Passing (type, 1) or '1type' as a synonym of type is deprecated; in a future version of numpy, it will be understood as (type, (1,)) / '(1,)type'.\n",
            "  np_resource = np.dtype([(\"resource\", np.ubyte, 1)])\n"
          ],
          "name": "stderr"
        },
        {
          "output_type": "stream",
          "text": [
            "1.13.1\n"
          ],
          "name": "stdout"
        }
      ]
    },
    {
      "cell_type": "code",
      "metadata": {
        "id": "g0Il-wOFw6l6",
        "colab_type": "code",
        "outputId": "9e941c0f-637e-443d-cb95-85a1b9d6bf09",
        "colab": {
          "base_uri": "https://localhost:8080/",
          "height": 818
        }
      },
      "source": [
        "!pip install tensorflow==1.15"
      ],
      "execution_count": 19,
      "outputs": [
        {
          "output_type": "stream",
          "text": [
            "Collecting tensorflow==1.15\n",
            "\u001b[?25l  Downloading https://files.pythonhosted.org/packages/3f/98/5a99af92fb911d7a88a0005ad55005f35b4c1ba8d75fba02df726cd936e6/tensorflow-1.15.0-cp36-cp36m-manylinux2010_x86_64.whl (412.3MB)\n",
            "\u001b[K     |████████████████████████████████| 412.3MB 21kB/s \n",
            "\u001b[?25hRequirement already satisfied: six>=1.10.0 in /usr/local/lib/python3.6/dist-packages (from tensorflow==1.15) (1.12.0)\n",
            "Collecting tensorflow-estimator==1.15.1\n",
            "\u001b[?25l  Downloading https://files.pythonhosted.org/packages/de/62/2ee9cd74c9fa2fa450877847ba560b260f5d0fb70ee0595203082dafcc9d/tensorflow_estimator-1.15.1-py2.py3-none-any.whl (503kB)\n",
            "\u001b[K     |████████████████████████████████| 512kB 47.4MB/s \n",
            "\u001b[?25hRequirement already satisfied: termcolor>=1.1.0 in /usr/local/lib/python3.6/dist-packages (from tensorflow==1.15) (1.1.0)\n",
            "Requirement already satisfied: absl-py>=0.7.0 in /usr/local/lib/python3.6/dist-packages (from tensorflow==1.15) (0.7.1)\n",
            "Requirement already satisfied: astor>=0.6.0 in /usr/local/lib/python3.6/dist-packages (from tensorflow==1.15) (0.7.1)\n",
            "Requirement already satisfied: wheel>=0.26 in /usr/local/lib/python3.6/dist-packages (from tensorflow==1.15) (0.34.2)\n",
            "Collecting tensorboard<1.16.0,>=1.15.0\n",
            "\u001b[?25l  Downloading https://files.pythonhosted.org/packages/1e/e9/d3d747a97f7188f48aa5eda486907f3b345cd409f0a0850468ba867db246/tensorboard-1.15.0-py3-none-any.whl (3.8MB)\n",
            "\u001b[K     |████████████████████████████████| 3.8MB 49.0MB/s \n",
            "\u001b[?25hRequirement already satisfied: gast==0.2.2 in /usr/local/lib/python3.6/dist-packages (from tensorflow==1.15) (0.2.2)\n",
            "Requirement already satisfied: keras-preprocessing>=1.0.5 in /usr/local/lib/python3.6/dist-packages (from tensorflow==1.15) (1.0.9)\n",
            "Requirement already satisfied: google-pasta>=0.1.6 in /usr/local/lib/python3.6/dist-packages (from tensorflow==1.15) (0.2.0)\n",
            "Requirement already satisfied: opt-einsum>=2.3.2 in /usr/local/lib/python3.6/dist-packages (from tensorflow==1.15) (3.2.1)\n",
            "Requirement already satisfied: grpcio>=1.8.6 in /usr/local/lib/python3.6/dist-packages (from tensorflow==1.15) (1.20.1)\n",
            "Collecting keras-applications>=1.0.8\n",
            "\u001b[?25l  Downloading https://files.pythonhosted.org/packages/71/e3/19762fdfc62877ae9102edf6342d71b28fbfd9dea3d2f96a882ce099b03f/Keras_Applications-1.0.8-py3-none-any.whl (50kB)\n",
            "\u001b[K     |████████████████████████████████| 51kB 7.0MB/s \n",
            "\u001b[?25hRequirement already satisfied: protobuf>=3.6.1 in /usr/local/lib/python3.6/dist-packages (from tensorflow==1.15) (3.7.1)\n",
            "Requirement already satisfied: wrapt>=1.11.1 in /usr/local/lib/python3.6/dist-packages (from tensorflow==1.15) (1.12.1)\n",
            "Requirement already satisfied: numpy<2.0,>=1.16.0 in /usr/local/lib/python3.6/dist-packages (from tensorflow==1.15) (1.16.3)\n",
            "Requirement already satisfied: setuptools>=41.0.0 in /usr/local/lib/python3.6/dist-packages (from tensorboard<1.16.0,>=1.15.0->tensorflow==1.15) (46.1.3)\n",
            "Requirement already satisfied: werkzeug>=0.11.15 in /usr/local/lib/python3.6/dist-packages (from tensorboard<1.16.0,>=1.15.0->tensorflow==1.15) (0.15.2)\n",
            "Requirement already satisfied: markdown>=2.6.8 in /usr/local/lib/python3.6/dist-packages (from tensorboard<1.16.0,>=1.15.0->tensorflow==1.15) (3.1)\n",
            "Requirement already satisfied: h5py in /usr/local/lib/python3.6/dist-packages (from keras-applications>=1.0.8->tensorflow==1.15) (2.9.0)\n",
            "Installing collected packages: tensorflow-estimator, tensorboard, keras-applications, tensorflow\n",
            "  Found existing installation: tensorflow-estimator 1.13.0\n",
            "    Uninstalling tensorflow-estimator-1.13.0:\n",
            "      Successfully uninstalled tensorflow-estimator-1.13.0\n",
            "  Found existing installation: tensorboard 1.13.1\n",
            "    Uninstalling tensorboard-1.13.1:\n",
            "      Successfully uninstalled tensorboard-1.13.1\n",
            "  Found existing installation: Keras-Applications 1.0.7\n",
            "    Uninstalling Keras-Applications-1.0.7:\n",
            "      Successfully uninstalled Keras-Applications-1.0.7\n",
            "  Found existing installation: tensorflow 1.13.1\n",
            "    Uninstalling tensorflow-1.13.1:\n",
            "      Successfully uninstalled tensorflow-1.13.1\n",
            "Successfully installed keras-applications-1.0.8 tensorboard-1.15.0 tensorflow-1.15.0 tensorflow-estimator-1.15.1\n"
          ],
          "name": "stdout"
        },
        {
          "output_type": "display_data",
          "data": {
            "application/vnd.colab-display-data+json": {
              "pip_warning": {
                "packages": [
                  "keras_applications",
                  "tensorflow",
                  "tensorflow_estimator"
                ]
              }
            }
          },
          "metadata": {
            "tags": []
          }
        }
      ]
    },
    {
      "cell_type": "markdown",
      "metadata": {
        "id": "r8XiuOt1kTWz",
        "colab_type": "text"
      },
      "source": [
        "# Music genre classification: a toy example"
      ]
    },
    {
      "cell_type": "code",
      "metadata": {
        "id": "f09XGO3Akeg_",
        "colab_type": "code",
        "outputId": "a3085eb7-4d54-45fc-cc69-1c1a425edde7",
        "colab": {
          "base_uri": "https://localhost:8080/",
          "height": 212
        }
      },
      "source": [
        "!wget http://opihi.cs.uvic.ca/sound/genres.tar.gz"
      ],
      "execution_count": 0,
      "outputs": [
        {
          "output_type": "stream",
          "text": [
            "--2020-05-02 09:13:37--  http://opihi.cs.uvic.ca/sound/genres.tar.gz\n",
            "Resolving opihi.cs.uvic.ca (opihi.cs.uvic.ca)... 142.104.68.135\n",
            "Connecting to opihi.cs.uvic.ca (opihi.cs.uvic.ca)|142.104.68.135|:80... connected.\n",
            "HTTP request sent, awaiting response... 200 OK\n",
            "Length: 1225571541 (1.1G) [application/x-gzip]\n",
            "Saving to: ‘genres.tar.gz.1’\n",
            "\n",
            "genres.tar.gz.1     100%[===================>]   1.14G   988KB/s    in 21m 19s \n",
            "\n",
            "2020-05-02 09:34:57 (936 KB/s) - ‘genres.tar.gz.1’ saved [1225571541/1225571541]\n",
            "\n"
          ],
          "name": "stdout"
        }
      ]
    },
    {
      "cell_type": "code",
      "metadata": {
        "id": "3zTM9k_nllxA",
        "colab_type": "code",
        "outputId": "bd61e36b-3fb7-41a6-c9db-dffcaaffdaa6",
        "colab": {
          "base_uri": "https://localhost:8080/",
          "height": 1000
        }
      },
      "source": [
        "!tar -zxvf genres.tar.gz -C /content/sklearn-audio-transfer-learning/data/audio/GTZAN/"
      ],
      "execution_count": 0,
      "outputs": [
        {
          "output_type": "stream",
          "text": [
            "genres/\n",
            "genres/bextract_single.mf\n",
            "genres/bl.mf\n",
            "genres/blues/\n",
            "genres/cl.mf\n",
            "genres/classical/\n",
            "genres/co.mf\n",
            "genres/country/\n",
            "genres/di.mf\n",
            "genres/disco/\n",
            "genres/hi.mf\n",
            "genres/hiphop/\n",
            "genres/input.mf\n",
            "genres/ja.mf\n",
            "genres/jazz/\n",
            "genres/me.mf\n",
            "genres/metal/\n",
            "genres/po.mf\n",
            "genres/pop/\n",
            "genres/re.mf\n",
            "genres/reggae/\n",
            "genres/ro.mf\n",
            "genres/rock/\n",
            "genres/rock/rock.00000.wav\n",
            "genres/rock/rock.00001.wav\n",
            "genres/rock/rock.00002.wav\n",
            "genres/rock/rock.00003.wav\n",
            "genres/rock/rock.00004.wav\n",
            "genres/rock/rock.00005.wav\n",
            "genres/rock/rock.00006.wav\n",
            "genres/rock/rock.00007.wav\n",
            "genres/rock/rock.00008.wav\n",
            "genres/rock/rock.00009.wav\n",
            "genres/rock/rock.00010.wav\n",
            "genres/rock/rock.00011.wav\n",
            "genres/rock/rock.00012.wav\n",
            "genres/rock/rock.00013.wav\n",
            "genres/rock/rock.00014.wav\n",
            "genres/rock/rock.00015.wav\n",
            "genres/rock/rock.00016.wav\n",
            "genres/rock/rock.00017.wav\n",
            "genres/rock/rock.00018.wav\n",
            "genres/rock/rock.00019.wav\n",
            "genres/rock/rock.00020.wav\n",
            "genres/rock/rock.00021.wav\n",
            "genres/rock/rock.00022.wav\n",
            "genres/rock/rock.00023.wav\n",
            "genres/rock/rock.00024.wav\n",
            "genres/rock/rock.00025.wav\n",
            "genres/rock/rock.00026.wav\n",
            "genres/rock/rock.00027.wav\n",
            "genres/rock/rock.00028.wav\n",
            "genres/rock/rock.00029.wav\n",
            "genres/rock/rock.00030.wav\n",
            "genres/rock/rock.00031.wav\n",
            "genres/rock/rock.00032.wav\n",
            "genres/rock/rock.00033.wav\n",
            "genres/rock/rock.00034.wav\n",
            "genres/rock/rock.00035.wav\n",
            "genres/rock/rock.00036.wav\n",
            "genres/rock/rock.00037.wav\n",
            "genres/rock/rock.00038.wav\n",
            "genres/rock/rock.00039.wav\n",
            "genres/rock/rock.00040.wav\n",
            "genres/rock/rock.00041.wav\n",
            "genres/rock/rock.00042.wav\n",
            "genres/rock/rock.00043.wav\n",
            "genres/rock/rock.00044.wav\n",
            "genres/rock/rock.00045.wav\n",
            "genres/rock/rock.00046.wav\n",
            "genres/rock/rock.00047.wav\n",
            "genres/rock/rock.00048.wav\n",
            "genres/rock/rock.00049.wav\n",
            "genres/rock/rock.00050.wav\n",
            "genres/rock/rock.00051.wav\n",
            "genres/rock/rock.00052.wav\n",
            "genres/rock/rock.00053.wav\n",
            "genres/rock/rock.00054.wav\n",
            "genres/rock/rock.00055.wav\n",
            "genres/rock/rock.00056.wav\n",
            "genres/rock/rock.00057.wav\n",
            "genres/rock/rock.00058.wav\n",
            "genres/rock/rock.00059.wav\n",
            "genres/rock/rock.00060.wav\n",
            "genres/rock/rock.00061.wav\n",
            "genres/rock/rock.00062.wav\n",
            "genres/rock/rock.00063.wav\n",
            "genres/rock/rock.00064.wav\n",
            "genres/rock/rock.00065.wav\n",
            "genres/rock/rock.00066.wav\n",
            "\n",
            "gzip: stdin: unexpected end of file\n",
            "tar: Unexpected EOF in archive\n",
            "tar: Unexpected EOF in archive\n",
            "tar: Error is not recoverable: exiting now\n"
          ],
          "name": "stdout"
        }
      ]
    },
    {
      "cell_type": "code",
      "metadata": {
        "id": "Tx_mv5_UnKO9",
        "colab_type": "code",
        "outputId": "9f5a8828-2b9e-482b-919b-7b413a620b12",
        "colab": {
          "base_uri": "https://localhost:8080/",
          "height": 517
        }
      },
      "source": [
        "# change DATA_FOLDER = '/content/sklearn-audio-transfer-learning/data/' before running\n",
        "!python /content/sklearn-audio-transfer-learning/src/audio_transfer_learning.py\n"
      ],
      "execution_count": 0,
      "outputs": [
        {
          "output_type": "stream",
          "text": [
            "Using TensorFlow backend.\n",
            "Warning: you did not install MusiCNN, you cannot use this feature extractor (but you can use the pre-computed features).\n",
            "Train examples: 443\n",
            "Test examples: 290\n",
            "{'dataset': 'GTZAN', 'num_classes_dataset': 10, 'audio_folder': '/content/sklearn-audio-transfer-learning/data/audio/GTZAN/genres/', 'audio_paths_train': '/content/sklearn-audio-transfer-learning/data/index/GTZAN/train_filtered.txt', 'audio_paths_test': '/content/sklearn-audio-transfer-learning/data/index/GTZAN/test_filtered.txt', 'batch_size': 8, 'features_type': 'musicnn', 'pca': 128, 'model_type': 'SVM', 'load_training_data': 'training_data_GTZAN_MSDmusicnn_max_pool.npz', 'load_evaluation_data': 'evaluation_data_GTZAN_MSDmusicnn_max_pool.npz'}\n",
            "Loading training features..\n",
            "(12415, 753)\n",
            "(12415,)\n",
            "Shape after PCA:  (12415, 128)\n",
            "Fitting model..\n",
            "Evaluating model..\n",
            "Loading evaluation features..\n",
            "Shape after PCA:  (8127, 128)\n",
            "Predict labels on evaluation data\n",
            "{'dataset': 'GTZAN', 'num_classes_dataset': 10, 'audio_folder': '/content/sklearn-audio-transfer-learning/data/audio/GTZAN/genres/', 'audio_paths_train': '/content/sklearn-audio-transfer-learning/data/index/GTZAN/train_filtered.txt', 'audio_paths_test': '/content/sklearn-audio-transfer-learning/data/index/GTZAN/test_filtered.txt', 'batch_size': 8, 'features_type': 'musicnn', 'pca': 128, 'model_type': 'SVM', 'load_training_data': 'training_data_GTZAN_MSDmusicnn_max_pool.npz', 'load_evaluation_data': 'evaluation_data_GTZAN_MSDmusicnn_max_pool.npz'}\n",
            "Confusion matrix:\n",
            "[[10  0  0  2  0 17  0  0  0  2]\n",
            " [ 0 31  0  0  0  0  0  0  0  0]\n",
            " [ 2  0 25  0  0  0  0  2  1  0]\n",
            " [ 0  0  0 25  0  0  0  1  3  0]\n",
            " [ 0  0  0  1 24  0  0  1  0  1]\n",
            " [ 0  0  0  0  0 27  0  0  0  0]\n",
            " [ 0  0  0  0  0  0 26  0  0  1]\n",
            " [ 0  0  0  2  7  0  0 19  0  2]\n",
            " [ 0  0  0  1  5  1  0  0 18  1]\n",
            " [ 1  0  2  3  3  1  1  2  0 19]]\n",
            "Accuracy: 0.7724137931034483\n"
          ],
          "name": "stdout"
        }
      ]
    },
    {
      "cell_type": "markdown",
      "metadata": {
        "id": "SEhgrbEDkL9x",
        "colab_type": "text"
      },
      "source": [
        "# Installation"
      ]
    },
    {
      "cell_type": "code",
      "metadata": {
        "id": "qqiLw2ing80E",
        "colab_type": "code",
        "outputId": "a561a635-f11d-4852-cf5b-0c43b8c27a17",
        "colab": {
          "base_uri": "https://localhost:8080/",
          "height": 141
        }
      },
      "source": [
        "!git clone https://github.com/jordipons/sklearn-audio-transfer-learning.git"
      ],
      "execution_count": 0,
      "outputs": [
        {
          "output_type": "stream",
          "text": [
            "Cloning into 'sklearn-audio-transfer-learning'...\n",
            "remote: Enumerating objects: 154, done.\u001b[K\n",
            "remote: Counting objects: 100% (154/154), done.\u001b[K\n",
            "remote: Compressing objects: 100% (143/143), done.\u001b[K\n",
            "remote: Total 577 (delta 86), reused 32 (delta 8), pack-reused 423\u001b[K\n",
            "Receiving objects: 100% (577/577), 64.13 MiB | 27.06 MiB/s, done.\n",
            "Resolving deltas: 100% (344/344), done.\n"
          ],
          "name": "stdout"
        }
      ]
    },
    {
      "cell_type": "code",
      "metadata": {
        "id": "W8oB9QlmnESP",
        "colab_type": "code",
        "outputId": "b99d05ce-871a-46f9-e1c6-0cb4490b5329",
        "colab": {
          "base_uri": "https://localhost:8080/",
          "height": 118
        }
      },
      "source": [
        "from google.colab import drive\n",
        "drive.mount('/content/drive')"
      ],
      "execution_count": 1,
      "outputs": [
        {
          "output_type": "stream",
          "text": [
            "Go to this URL in a browser: https://accounts.google.com/o/oauth2/auth?client_id=947318989803-6bn6qk8qdgf4n4g3pfee6491hc0brc4i.apps.googleusercontent.com&redirect_uri=urn%3aietf%3awg%3aoauth%3a2.0%3aoob&response_type=code&scope=email%20https%3a%2f%2fwww.googleapis.com%2fauth%2fdocs.test%20https%3a%2f%2fwww.googleapis.com%2fauth%2fdrive%20https%3a%2f%2fwww.googleapis.com%2fauth%2fdrive.photos.readonly%20https%3a%2f%2fwww.googleapis.com%2fauth%2fpeopleapi.readonly\n",
            "\n",
            "Enter your authorization code:\n",
            "··········\n",
            "Mounted at /content/drive\n"
          ],
          "name": "stdout"
        }
      ]
    },
    {
      "cell_type": "code",
      "metadata": {
        "id": "phlfC6b4hfQ4",
        "colab_type": "code",
        "outputId": "5655b35b-fece-4b51-d527-752e4bf23d5a",
        "colab": {
          "base_uri": "https://localhost:8080/",
          "height": 456
        }
      },
      "source": [
        "!sudo apt-get update"
      ],
      "execution_count": 2,
      "outputs": [
        {
          "output_type": "stream",
          "text": [
            "\r0% [Working]\r            \rIgn:1 https://developer.download.nvidia.com/compute/cuda/repos/ubuntu1804/x86_64  InRelease\n",
            "\r0% [Waiting for headers] [Waiting for headers] [Waiting for headers] [Waiting f\r                                                                               \rGet:2 https://cloud.r-project.org/bin/linux/ubuntu bionic-cran35/ InRelease [3,626 B]\n",
            "\r0% [Waiting for headers] [Waiting for headers] [2 InRelease 3,626 B/3,626 B 100\r0% [Waiting for headers] [Waiting for headers] [Waiting for headers] [Waiting f\r0% [2 InRelease gpgv 3,626 B] [Waiting for headers] [Waiting for headers] [Wait\r                                                                               \rGet:3 http://security.ubuntu.com/ubuntu bionic-security InRelease [88.7 kB]\n",
            "\r0% [2 InRelease gpgv 3,626 B] [Waiting for headers] [3 InRelease 2,586 B/88.7 k\r                                                                               \rGet:4 http://ppa.launchpad.net/graphics-drivers/ppa/ubuntu bionic InRelease [21.3 kB]\n",
            "\r0% [2 InRelease gpgv 3,626 B] [Waiting for headers] [3 InRelease 2,586 B/88.7 k\r                                                                               \rIgn:5 https://developer.download.nvidia.com/compute/machine-learning/repos/ubuntu1804/x86_64  InRelease\n",
            "\r0% [2 InRelease gpgv 3,626 B] [Waiting for headers] [3 InRelease 5,482 B/88.7 k\r                                                                               \rHit:6 https://developer.download.nvidia.com/compute/cuda/repos/ubuntu1804/x86_64  Release\n",
            "\r0% [2 InRelease gpgv 3,626 B] [Waiting for headers] [3 InRelease 11.3 kB/88.7 k\r                                                                               \rHit:7 http://archive.ubuntu.com/ubuntu bionic InRelease\n",
            "\r0% [2 InRelease gpgv 3,626 B] [Waiting for headers] [3 InRelease 14.2 kB/88.7 k\r                                                                               \rHit:8 https://developer.download.nvidia.com/compute/machine-learning/repos/ubuntu1804/x86_64  Release\n",
            "\r0% [2 InRelease gpgv 3,626 B] [Waiting for headers] [3 InRelease 14.2 kB/88.7 k\r0% [2 InRelease gpgv 3,626 B] [Waiting for headers] [3 InRelease 22.9 kB/88.7 k\r                                                                               \rGet:9 http://archive.ubuntu.com/ubuntu bionic-updates InRelease [88.7 kB]\n",
            "\r0% [2 InRelease gpgv 3,626 B] [9 InRelease 2,602 B/88.7 kB 3%] [3 InRelease 28.\r0% [9 InRelease 5,498 B/88.7 kB 6%] [3 InRelease 31.5 kB/88.7 kB 36%] [Connecti\r0% [Release.gpg gpgv 564 B] [9 InRelease 5,498 B/88.7 kB 6%] [3 InRelease 31.5 \r0% [9 InRelease 21.4 kB/88.7 kB 24%] [3 InRelease 66.3 kB/88.7 kB 75%] [Waiting\r0% [7 InRelease gpgv 242 kB] [9 InRelease 21.4 kB/88.7 kB 24%] [3 InRelease 66.\r                                                                               \rGet:11 https://cloud.r-project.org/bin/linux/ubuntu bionic-cran35/ Packages [91.7 kB]\n",
            "\r0% [7 InRelease gpgv 242 kB] [9 InRelease 27.2 kB/88.7 kB 31%] [3 InRelease 77.\r0% [7 InRelease gpgv 242 kB] [9 InRelease 33.0 kB/88.7 kB 37%] [11 Packages 32.\r                                                                               \rGet:12 http://ppa.launchpad.net/marutter/c2d4u3.5/ubuntu bionic InRelease [15.4 kB]\n",
            "Get:14 http://archive.ubuntu.com/ubuntu bionic-backports InRelease [74.6 kB]\n",
            "Get:15 http://security.ubuntu.com/ubuntu bionic-security/main amd64 Packages [908 kB]\n",
            "Get:16 http://ppa.launchpad.net/graphics-drivers/ppa/ubuntu bionic/main amd64 Packages [37.4 kB]\n",
            "Get:17 http://archive.ubuntu.com/ubuntu bionic-updates/multiverse amd64 Packages [19.8 kB]\n",
            "Get:18 http://archive.ubuntu.com/ubuntu bionic-updates/main amd64 Packages [1,205 kB]\n",
            "Get:19 http://ppa.launchpad.net/marutter/c2d4u3.5/ubuntu bionic/main Sources [1,814 kB]\n",
            "Get:20 http://security.ubuntu.com/ubuntu bionic-security/universe amd64 Packages [844 kB]\n",
            "Get:21 http://security.ubuntu.com/ubuntu bionic-security/restricted amd64 Packages [52.4 kB]\n",
            "Get:22 http://security.ubuntu.com/ubuntu bionic-security/multiverse amd64 Packages [8,505 B]\n",
            "Get:23 http://archive.ubuntu.com/ubuntu bionic-updates/universe amd64 Packages [1,376 kB]\n",
            "Get:24 http://archive.ubuntu.com/ubuntu bionic-updates/restricted amd64 Packages [66.6 kB]\n",
            "Get:25 http://archive.ubuntu.com/ubuntu bionic-backports/main amd64 Packages [8,286 B]\n",
            "Get:26 http://archive.ubuntu.com/ubuntu bionic-backports/universe amd64 Packages [8,158 B]\n",
            "Get:27 http://ppa.launchpad.net/marutter/c2d4u3.5/ubuntu bionic/main amd64 Packages [875 kB]\n",
            "Fetched 7,607 kB in 3s (2,897 kB/s)\n",
            "Reading package lists... Done\n"
          ],
          "name": "stdout"
        }
      ]
    },
    {
      "cell_type": "code",
      "metadata": {
        "id": "xD8JIBhhhVGS",
        "colab_type": "code",
        "outputId": "2c7d0789-9f24-4162-b4cd-62701a52e54b",
        "colab": {
          "base_uri": "https://localhost:8080/",
          "height": 1000
        }
      },
      "source": [
        "!apt-get install python3-venv"
      ],
      "execution_count": 3,
      "outputs": [
        {
          "output_type": "stream",
          "text": [
            "Reading package lists... Done\n",
            "Building dependency tree       \n",
            "Reading state information... Done\n",
            "The following additional packages will be installed:\n",
            "  libpython3.6 libpython3.6-dev libpython3.6-minimal libpython3.6-stdlib\n",
            "  python-pip-whl python3.6 python3.6-dev python3.6-minimal python3.6-venv\n",
            "Suggested packages:\n",
            "  python3.6-doc binfmt-support\n",
            "The following NEW packages will be installed:\n",
            "  python-pip-whl python3-venv python3.6-venv\n",
            "The following packages will be upgraded:\n",
            "  libpython3.6 libpython3.6-dev libpython3.6-minimal libpython3.6-stdlib\n",
            "  python3.6 python3.6-dev python3.6-minimal\n",
            "7 upgraded, 3 newly installed, 0 to remove and 105 not upgraded.\n",
            "Need to get 52.5 MB of archives.\n",
            "After this operation, 1,957 kB of additional disk space will be used.\n",
            "Get:1 http://archive.ubuntu.com/ubuntu bionic-updates/main amd64 python3.6-dev amd64 3.6.9-1~18.04ubuntu1 [508 kB]\n",
            "Get:2 http://archive.ubuntu.com/ubuntu bionic-updates/main amd64 libpython3.6-dev amd64 3.6.9-1~18.04ubuntu1 [44.9 MB]\n",
            "Get:3 http://archive.ubuntu.com/ubuntu bionic-updates/main amd64 libpython3.6 amd64 3.6.9-1~18.04ubuntu1 [1,414 kB]\n",
            "Get:4 http://archive.ubuntu.com/ubuntu bionic-updates/main amd64 python3.6 amd64 3.6.9-1~18.04ubuntu1 [203 kB]\n",
            "Get:5 http://archive.ubuntu.com/ubuntu bionic-updates/main amd64 libpython3.6-stdlib amd64 3.6.9-1~18.04ubuntu1 [1,710 kB]\n",
            "Get:6 http://archive.ubuntu.com/ubuntu bionic-updates/main amd64 python3.6-minimal amd64 3.6.9-1~18.04ubuntu1 [1,609 kB]\n",
            "Get:7 http://archive.ubuntu.com/ubuntu bionic-updates/main amd64 libpython3.6-minimal amd64 3.6.9-1~18.04ubuntu1 [533 kB]\n",
            "Get:8 http://archive.ubuntu.com/ubuntu bionic-updates/universe amd64 python-pip-whl all 9.0.1-2.3~ubuntu1.18.04.1 [1,653 kB]\n",
            "Get:9 http://archive.ubuntu.com/ubuntu bionic-updates/universe amd64 python3.6-venv amd64 3.6.9-1~18.04ubuntu1 [6,188 B]\n",
            "Get:10 http://archive.ubuntu.com/ubuntu bionic-updates/universe amd64 python3-venv amd64 3.6.7-1~18.04 [1,208 B]\n",
            "Fetched 52.5 MB in 2s (21.2 MB/s)\n",
            "(Reading database ... 144568 files and directories currently installed.)\n",
            "Preparing to unpack .../0-python3.6-dev_3.6.9-1~18.04ubuntu1_amd64.deb ...\n",
            "Unpacking python3.6-dev (3.6.9-1~18.04ubuntu1) over (3.6.9-1~18.04) ...\n",
            "Preparing to unpack .../1-libpython3.6-dev_3.6.9-1~18.04ubuntu1_amd64.deb ...\n",
            "Unpacking libpython3.6-dev:amd64 (3.6.9-1~18.04ubuntu1) over (3.6.9-1~18.04) ...\n",
            "Preparing to unpack .../2-libpython3.6_3.6.9-1~18.04ubuntu1_amd64.deb ...\n",
            "Unpacking libpython3.6:amd64 (3.6.9-1~18.04ubuntu1) over (3.6.9-1~18.04) ...\n",
            "Preparing to unpack .../3-python3.6_3.6.9-1~18.04ubuntu1_amd64.deb ...\n",
            "Unpacking python3.6 (3.6.9-1~18.04ubuntu1) over (3.6.9-1~18.04) ...\n",
            "Preparing to unpack .../4-libpython3.6-stdlib_3.6.9-1~18.04ubuntu1_amd64.deb ...\n",
            "Unpacking libpython3.6-stdlib:amd64 (3.6.9-1~18.04ubuntu1) over (3.6.9-1~18.04) ...\n",
            "Preparing to unpack .../5-python3.6-minimal_3.6.9-1~18.04ubuntu1_amd64.deb ...\n",
            "Unpacking python3.6-minimal (3.6.9-1~18.04ubuntu1) over (3.6.9-1~18.04) ...\n",
            "Preparing to unpack .../6-libpython3.6-minimal_3.6.9-1~18.04ubuntu1_amd64.deb ...\n",
            "Unpacking libpython3.6-minimal:amd64 (3.6.9-1~18.04ubuntu1) over (3.6.9-1~18.04) ...\n",
            "Selecting previously unselected package python-pip-whl.\n",
            "Preparing to unpack .../7-python-pip-whl_9.0.1-2.3~ubuntu1.18.04.1_all.deb ...\n",
            "Unpacking python-pip-whl (9.0.1-2.3~ubuntu1.18.04.1) ...\n",
            "Selecting previously unselected package python3.6-venv.\n",
            "Preparing to unpack .../8-python3.6-venv_3.6.9-1~18.04ubuntu1_amd64.deb ...\n",
            "Unpacking python3.6-venv (3.6.9-1~18.04ubuntu1) ...\n",
            "Selecting previously unselected package python3-venv.\n",
            "Preparing to unpack .../9-python3-venv_3.6.7-1~18.04_amd64.deb ...\n",
            "Unpacking python3-venv (3.6.7-1~18.04) ...\n",
            "Setting up python-pip-whl (9.0.1-2.3~ubuntu1.18.04.1) ...\n",
            "Setting up libpython3.6-minimal:amd64 (3.6.9-1~18.04ubuntu1) ...\n",
            "Setting up libpython3.6-stdlib:amd64 (3.6.9-1~18.04ubuntu1) ...\n",
            "Setting up python3.6-minimal (3.6.9-1~18.04ubuntu1) ...\n",
            "Setting up libpython3.6:amd64 (3.6.9-1~18.04ubuntu1) ...\n",
            "Setting up python3.6 (3.6.9-1~18.04ubuntu1) ...\n",
            "Setting up python3.6-venv (3.6.9-1~18.04ubuntu1) ...\n",
            "Setting up libpython3.6-dev:amd64 (3.6.9-1~18.04ubuntu1) ...\n",
            "Setting up python3.6-dev (3.6.9-1~18.04ubuntu1) ...\n",
            "Setting up python3-venv (3.6.7-1~18.04) ...\n",
            "Processing triggers for libc-bin (2.27-3ubuntu1) ...\n",
            "/sbin/ldconfig.real: /usr/local/lib/python3.6/dist-packages/ideep4py/lib/libmkldnn.so.0 is not a symbolic link\n",
            "\n",
            "Processing triggers for man-db (2.8.3-2ubuntu0.1) ...\n",
            "Processing triggers for mime-support (3.60ubuntu1) ...\n"
          ],
          "name": "stdout"
        }
      ]
    },
    {
      "cell_type": "code",
      "metadata": {
        "id": "BaiaNlmWhNbv",
        "colab_type": "code",
        "colab": {}
      },
      "source": [
        "!python3 -m venv env"
      ],
      "execution_count": 0,
      "outputs": []
    },
    {
      "cell_type": "code",
      "metadata": {
        "id": "1KcDckjfh3EC",
        "colab_type": "code",
        "colab": {}
      },
      "source": [
        "!source ./env/bin/activate"
      ],
      "execution_count": 0,
      "outputs": []
    },
    {
      "cell_type": "code",
      "metadata": {
        "id": "BY6UQ6vDa6SP",
        "colab_type": "code",
        "colab": {}
      },
      "source": [
        "!mkdir /content/sklearn-audio-transfer-learning-0504/"
      ],
      "execution_count": 0,
      "outputs": []
    },
    {
      "cell_type": "code",
      "metadata": {
        "id": "pMahTwbmcjJS",
        "colab_type": "code",
        "colab": {}
      },
      "source": [
        "!rm -rf /content/sklearn-audio-transfer-learning/"
      ],
      "execution_count": 0,
      "outputs": []
    },
    {
      "cell_type": "code",
      "metadata": {
        "id": "pYf2_DH3VHqt",
        "colab_type": "code",
        "colab": {}
      },
      "source": [
        "!cp -r /content/drive/My\\ Drive/ADReSS2020/sklearn-audio-transfer-learning-0503/* /content/sklearn-audio-transfer-learning-0504/"
      ],
      "execution_count": 0,
      "outputs": []
    },
    {
      "cell_type": "code",
      "metadata": {
        "id": "MuWP8FdSh7wE",
        "colab_type": "code",
        "outputId": "394ad420-30a0-4722-8f4e-cf5e3c16f16f",
        "colab": {
          "base_uri": "https://localhost:8080/",
          "height": 817
        }
      },
      "source": [
        "!pip install -r /content/sklearn-audio-transfer-learning-0504/requirements.txt"
      ],
      "execution_count": 15,
      "outputs": [
        {
          "output_type": "stream",
          "text": [
            "Requirement already satisfied: absl-py==0.7.1 in /usr/local/lib/python3.6/dist-packages (from -r /content/sklearn-audio-transfer-learning-0504/requirements.txt (line 1)) (0.7.1)\n",
            "Requirement already satisfied: astor==0.7.1 in /usr/local/lib/python3.6/dist-packages (from -r /content/sklearn-audio-transfer-learning-0504/requirements.txt (line 2)) (0.7.1)\n",
            "Requirement already satisfied: backcall==0.1.0 in /usr/local/lib/python3.6/dist-packages (from -r /content/sklearn-audio-transfer-learning-0504/requirements.txt (line 3)) (0.1.0)\n",
            "Requirement already satisfied: cffi==1.12.3 in /usr/local/lib/python3.6/dist-packages (from -r /content/sklearn-audio-transfer-learning-0504/requirements.txt (line 4)) (1.12.3)\n",
            "Requirement already satisfied: cycler==0.10.0 in /usr/local/lib/python3.6/dist-packages (from -r /content/sklearn-audio-transfer-learning-0504/requirements.txt (line 5)) (0.10.0)\n",
            "Requirement already satisfied: decorator==4.4.0 in /usr/local/lib/python3.6/dist-packages (from -r /content/sklearn-audio-transfer-learning-0504/requirements.txt (line 6)) (4.4.0)\n",
            "Requirement already satisfied: gast==0.2.2 in /usr/local/lib/python3.6/dist-packages (from -r /content/sklearn-audio-transfer-learning-0504/requirements.txt (line 7)) (0.2.2)\n",
            "Requirement already satisfied: grpcio==1.20.1 in /usr/local/lib/python3.6/dist-packages (from -r /content/sklearn-audio-transfer-learning-0504/requirements.txt (line 8)) (1.20.1)\n",
            "Requirement already satisfied: h5py==2.9.0 in /usr/local/lib/python3.6/dist-packages (from -r /content/sklearn-audio-transfer-learning-0504/requirements.txt (line 9)) (2.9.0)\n",
            "Requirement already satisfied: ipdb==0.12 in /usr/local/lib/python3.6/dist-packages (from -r /content/sklearn-audio-transfer-learning-0504/requirements.txt (line 10)) (0.12)\n",
            "Requirement already satisfied: ipython==7.5.0 in /usr/local/lib/python3.6/dist-packages (from -r /content/sklearn-audio-transfer-learning-0504/requirements.txt (line 11)) (7.5.0)\n",
            "Requirement already satisfied: ipython-genutils==0.2.0 in /usr/local/lib/python3.6/dist-packages (from -r /content/sklearn-audio-transfer-learning-0504/requirements.txt (line 12)) (0.2.0)\n",
            "Requirement already satisfied: jedi==0.13.3 in /usr/local/lib/python3.6/dist-packages (from -r /content/sklearn-audio-transfer-learning-0504/requirements.txt (line 13)) (0.13.3)\n",
            "Requirement already satisfied: Keras-Applications==1.0.7 in /usr/local/lib/python3.6/dist-packages (from -r /content/sklearn-audio-transfer-learning-0504/requirements.txt (line 14)) (1.0.7)\n",
            "Requirement already satisfied: Keras-Preprocessing==1.0.9 in /usr/local/lib/python3.6/dist-packages (from -r /content/sklearn-audio-transfer-learning-0504/requirements.txt (line 15)) (1.0.9)\n",
            "Requirement already satisfied: kiwisolver==1.1.0 in /usr/local/lib/python3.6/dist-packages (from -r /content/sklearn-audio-transfer-learning-0504/requirements.txt (line 16)) (1.1.0)\n",
            "Requirement already satisfied: llvmlite==0.28.0 in /usr/local/lib/python3.6/dist-packages (from -r /content/sklearn-audio-transfer-learning-0504/requirements.txt (line 17)) (0.28.0)\n",
            "Requirement already satisfied: Markdown==3.1 in /usr/local/lib/python3.6/dist-packages (from -r /content/sklearn-audio-transfer-learning-0504/requirements.txt (line 18)) (3.1)\n",
            "Requirement already satisfied: matplotlib==3.0.3 in /usr/local/lib/python3.6/dist-packages (from -r /content/sklearn-audio-transfer-learning-0504/requirements.txt (line 19)) (3.0.3)\n",
            "Requirement already satisfied: mock==3.0.5 in /usr/local/lib/python3.6/dist-packages (from -r /content/sklearn-audio-transfer-learning-0504/requirements.txt (line 20)) (3.0.5)\n",
            "Requirement already satisfied: numba==0.43.1 in /usr/local/lib/python3.6/dist-packages (from -r /content/sklearn-audio-transfer-learning-0504/requirements.txt (line 21)) (0.43.1)\n",
            "Requirement already satisfied: numpy==1.16.3 in /usr/local/lib/python3.6/dist-packages (from -r /content/sklearn-audio-transfer-learning-0504/requirements.txt (line 22)) (1.16.3)\n",
            "Requirement already satisfied: parso==0.4.0 in /usr/local/lib/python3.6/dist-packages (from -r /content/sklearn-audio-transfer-learning-0504/requirements.txt (line 23)) (0.4.0)\n",
            "Requirement already satisfied: pexpect==4.7.0 in /usr/local/lib/python3.6/dist-packages (from -r /content/sklearn-audio-transfer-learning-0504/requirements.txt (line 24)) (4.7.0)\n",
            "Requirement already satisfied: pickleshare==0.7.5 in /usr/local/lib/python3.6/dist-packages (from -r /content/sklearn-audio-transfer-learning-0504/requirements.txt (line 25)) (0.7.5)\n",
            "Requirement already satisfied: prompt-toolkit==2.0.9 in /usr/local/lib/python3.6/dist-packages (from -r /content/sklearn-audio-transfer-learning-0504/requirements.txt (line 26)) (2.0.9)\n",
            "Requirement already satisfied: protobuf==3.7.1 in /usr/local/lib/python3.6/dist-packages (from -r /content/sklearn-audio-transfer-learning-0504/requirements.txt (line 27)) (3.7.1)\n",
            "Requirement already satisfied: ptyprocess==0.6.0 in /usr/local/lib/python3.6/dist-packages (from -r /content/sklearn-audio-transfer-learning-0504/requirements.txt (line 28)) (0.6.0)\n",
            "Requirement already satisfied: pycparser==2.19 in /usr/local/lib/python3.6/dist-packages (from -r /content/sklearn-audio-transfer-learning-0504/requirements.txt (line 29)) (2.19)\n",
            "Requirement already satisfied: Pygments==2.4.0 in /usr/local/lib/python3.6/dist-packages (from -r /content/sklearn-audio-transfer-learning-0504/requirements.txt (line 30)) (2.4.0)\n",
            "Requirement already satisfied: pyparsing==2.4.0 in /usr/local/lib/python3.6/dist-packages (from -r /content/sklearn-audio-transfer-learning-0504/requirements.txt (line 31)) (2.4.0)\n",
            "Requirement already satisfied: python-dateutil==2.8.0 in /usr/local/lib/python3.6/dist-packages (from -r /content/sklearn-audio-transfer-learning-0504/requirements.txt (line 32)) (2.8.0)\n",
            "Requirement already satisfied: resampy==0.2.1 in /usr/local/lib/python3.6/dist-packages (from -r /content/sklearn-audio-transfer-learning-0504/requirements.txt (line 33)) (0.2.1)\n",
            "Requirement already satisfied: scikit-learn==0.20.3 in /usr/local/lib/python3.6/dist-packages (from -r /content/sklearn-audio-transfer-learning-0504/requirements.txt (line 34)) (0.20.3)\n",
            "Requirement already satisfied: scipy==1.2.1 in /usr/local/lib/python3.6/dist-packages (from -r /content/sklearn-audio-transfer-learning-0504/requirements.txt (line 35)) (1.2.1)\n",
            "Requirement already satisfied: six==1.12.0 in /usr/local/lib/python3.6/dist-packages (from -r /content/sklearn-audio-transfer-learning-0504/requirements.txt (line 36)) (1.12.0)\n",
            "Requirement already satisfied: sklearn==0.0 in /usr/local/lib/python3.6/dist-packages (from -r /content/sklearn-audio-transfer-learning-0504/requirements.txt (line 37)) (0.0)\n",
            "Requirement already satisfied: SoundFile==0.10.2 in /usr/local/lib/python3.6/dist-packages (from -r /content/sklearn-audio-transfer-learning-0504/requirements.txt (line 38)) (0.10.2)\n",
            "Requirement already satisfied: tensorboard==1.13.1 in /usr/local/lib/python3.6/dist-packages (from -r /content/sklearn-audio-transfer-learning-0504/requirements.txt (line 39)) (1.13.1)\n",
            "Requirement already satisfied: tensorflow==1.13.1 in /usr/local/lib/python3.6/dist-packages (from -r /content/sklearn-audio-transfer-learning-0504/requirements.txt (line 40)) (1.13.1)\n",
            "Requirement already satisfied: tensorflow-estimator==1.13.0 in /usr/local/lib/python3.6/dist-packages (from -r /content/sklearn-audio-transfer-learning-0504/requirements.txt (line 41)) (1.13.0)\n",
            "Requirement already satisfied: termcolor==1.1.0 in /usr/local/lib/python3.6/dist-packages (from -r /content/sklearn-audio-transfer-learning-0504/requirements.txt (line 42)) (1.1.0)\n",
            "Requirement already satisfied: tqdm==4.31.1 in /usr/local/lib/python3.6/dist-packages (from -r /content/sklearn-audio-transfer-learning-0504/requirements.txt (line 43)) (4.31.1)\n",
            "Requirement already satisfied: traitlets==4.3.2 in /usr/local/lib/python3.6/dist-packages (from -r /content/sklearn-audio-transfer-learning-0504/requirements.txt (line 44)) (4.3.2)\n",
            "Requirement already satisfied: wcwidth==0.1.7 in /usr/local/lib/python3.6/dist-packages (from -r /content/sklearn-audio-transfer-learning-0504/requirements.txt (line 45)) (0.1.7)\n",
            "Requirement already satisfied: Werkzeug==0.15.2 in /usr/local/lib/python3.6/dist-packages (from -r /content/sklearn-audio-transfer-learning-0504/requirements.txt (line 46)) (0.15.2)\n",
            "Requirement already satisfied: setuptools in /usr/local/lib/python3.6/dist-packages (from ipdb==0.12->-r /content/sklearn-audio-transfer-learning-0504/requirements.txt (line 10)) (46.1.3)\n",
            "Requirement already satisfied: wheel>=0.26; python_version >= \"3\" in /usr/local/lib/python3.6/dist-packages (from tensorboard==1.13.1->-r /content/sklearn-audio-transfer-learning-0504/requirements.txt (line 39)) (0.34.2)\n"
          ],
          "name": "stdout"
        }
      ]
    },
    {
      "cell_type": "code",
      "metadata": {
        "id": "3j5z2cvYipUb",
        "colab_type": "code",
        "outputId": "dd09d51e-576f-4a28-fe23-feeaa4f05da6",
        "colab": {
          "base_uri": "https://localhost:8080/",
          "height": 212
        }
      },
      "source": [
        "# VGGish: download the pre-trained model\n",
        "!wget https://storage.googleapis.com/audioset/vggish_model.ckpt -P /content/sklearn-audio-transfer-learning/src/"
      ],
      "execution_count": 0,
      "outputs": [
        {
          "output_type": "stream",
          "text": [
            "--2020-05-02 14:29:38--  https://storage.googleapis.com/audioset/vggish_model.ckpt\n",
            "Resolving storage.googleapis.com (storage.googleapis.com)... 74.125.203.128, 2404:6800:4008:c01::80\n",
            "Connecting to storage.googleapis.com (storage.googleapis.com)|74.125.203.128|:443... connected.\n",
            "HTTP request sent, awaiting response... 200 OK\n",
            "Length: 291108469 (278M) [application/octet-stream]\n",
            "Saving to: ‘/content/sklearn-audio-transfer-learning/src/vggish_model.ckpt.1’\n",
            "\n",
            "vggish_model.ckpt.1 100%[===================>] 277.62M   114MB/s    in 2.4s    \n",
            "\n",
            "2020-05-02 14:29:41 (114 MB/s) - ‘/content/sklearn-audio-transfer-learning/src/vggish_model.ckpt.1’ saved [291108469/291108469]\n",
            "\n"
          ],
          "name": "stdout"
        }
      ]
    },
    {
      "cell_type": "code",
      "metadata": {
        "id": "_tGAhmvjjkCg",
        "colab_type": "code",
        "outputId": "b4bead35-4e03-4f82-a07a-34571d440a1d",
        "colab": {
          "base_uri": "https://localhost:8080/",
          "height": 1000
        }
      },
      "source": [
        "!pip install --timeout 100000000 openl3"
      ],
      "execution_count": 0,
      "outputs": [
        {
          "output_type": "stream",
          "text": [
            "Collecting openl3\n",
            "  Downloading https://files.pythonhosted.org/packages/e2/88/8536723b81c47ada614d008a75e71923932f22e35ab89d4bf5fe441b58fc/openl3-0.3.1.tar.gz\n",
            "Collecting keras<2.3.0,>=2.0.9\n",
            "\u001b[?25l  Downloading https://files.pythonhosted.org/packages/f8/ba/2d058dcf1b85b9c212cc58264c98a4a7dd92c989b798823cc5690d062bb2/Keras-2.2.5-py2.py3-none-any.whl (336kB)\n",
            "\u001b[K     |████████████████████████████████| 337kB 4.2MB/s \n",
            "\u001b[?25hRequirement already satisfied: numpy>=1.13.0 in /usr/local/lib/python3.6/dist-packages (from openl3) (1.16.3)\n",
            "Requirement already satisfied: scipy>=0.19.1 in /usr/local/lib/python3.6/dist-packages (from openl3) (1.2.1)\n",
            "Collecting kapre==0.1.4\n",
            "  Downloading https://files.pythonhosted.org/packages/3f/2e/f540d1d1f05c764686163fdb5bb1e5c703f1528076d2829bfc3900683f06/kapre-0.1.4-py3-none-any.whl\n",
            "Collecting PySoundFile>=0.9.0.post1\n",
            "  Downloading https://files.pythonhosted.org/packages/2a/b3/0b871e5fd31b9a8e54b4ee359384e705a1ca1e2870706d2f081dc7cc1693/PySoundFile-0.9.0.post1-py2.py3-none-any.whl\n",
            "Requirement already satisfied: resampy<0.3.0,>=0.2.1 in /usr/local/lib/python3.6/dist-packages (from openl3) (0.2.1)\n",
            "Requirement already satisfied: h5py<3.0.0,>=2.7.0 in /usr/local/lib/python3.6/dist-packages (from openl3) (2.9.0)\n",
            "Collecting moviepy>=1.0.0\n",
            "\u001b[?25l  Downloading https://files.pythonhosted.org/packages/71/64/e7f0876716d5c35612bf8e9e49299d0f491285f10f36cbb481556ab0062b/moviepy-1.0.2.tar.gz (7.8MB)\n",
            "\u001b[K     |████████████████████████████████| 7.9MB 29.5MB/s \n",
            "\u001b[?25hCollecting scikit-image<0.15.0,>=0.14.3\n",
            "\u001b[?25l  Downloading https://files.pythonhosted.org/packages/27/78/cfb15cdb3f63eea16946a42d0dbf7ef17be79d30858aa8efd5f6757bd106/scikit_image-0.14.5-cp36-cp36m-manylinux1_x86_64.whl (25.4MB)\n",
            "\u001b[K     |████████████████████████████████| 25.4MB 120kB/s \n",
            "\u001b[?25hRequirement already satisfied: six>=1.9.0 in /usr/local/lib/python3.6/dist-packages (from keras<2.3.0,>=2.0.9->openl3) (1.12.0)\n",
            "Collecting keras-applications>=1.0.8\n",
            "\u001b[?25l  Downloading https://files.pythonhosted.org/packages/71/e3/19762fdfc62877ae9102edf6342d71b28fbfd9dea3d2f96a882ce099b03f/Keras_Applications-1.0.8-py3-none-any.whl (50kB)\n",
            "\u001b[K     |████████████████████████████████| 51kB 7.1MB/s \n",
            "\u001b[?25hCollecting keras-preprocessing>=1.1.0\n",
            "\u001b[?25l  Downloading https://files.pythonhosted.org/packages/28/6a/8c1f62c37212d9fc441a7e26736df51ce6f0e38455816445471f10da4f0a/Keras_Preprocessing-1.1.0-py2.py3-none-any.whl (41kB)\n",
            "\u001b[K     |████████████████████████████████| 51kB 7.1MB/s \n",
            "\u001b[?25hRequirement already satisfied: pyyaml in /usr/local/lib/python3.6/dist-packages (from keras<2.3.0,>=2.0.9->openl3) (3.13)\n",
            "Requirement already satisfied: librosa>=0.5 in /usr/local/lib/python3.6/dist-packages (from kapre==0.1.4->openl3) (0.6.3)\n",
            "Requirement already satisfied: future in /usr/local/lib/python3.6/dist-packages (from kapre==0.1.4->openl3) (0.16.0)\n",
            "Requirement already satisfied: cffi>=0.6 in /usr/local/lib/python3.6/dist-packages (from PySoundFile>=0.9.0.post1->openl3) (1.12.3)\n",
            "Requirement already satisfied: numba>=0.32 in /usr/local/lib/python3.6/dist-packages (from resampy<0.3.0,>=0.2.1->openl3) (0.43.1)\n",
            "Requirement already satisfied: decorator<5.0,>=4.0.2 in /usr/local/lib/python3.6/dist-packages (from moviepy>=1.0.0->openl3) (4.4.0)\n",
            "Requirement already satisfied: tqdm<5.0,>=4.11.2 in /usr/local/lib/python3.6/dist-packages (from moviepy>=1.0.0->openl3) (4.31.1)\n",
            "Requirement already satisfied: requests<3.0,>=2.8.1 in /usr/local/lib/python3.6/dist-packages (from moviepy>=1.0.0->openl3) (2.23.0)\n",
            "Collecting proglog<=1.0.0\n",
            "  Downloading https://files.pythonhosted.org/packages/fe/ab/4cb19b578e1364c0b2d6efd6521a8b4b4e5c4ae6528041d31a2a951dd991/proglog-0.1.9.tar.gz\n",
            "Collecting imageio<3.0,>=2.5\n",
            "\u001b[?25l  Downloading https://files.pythonhosted.org/packages/4c/2b/9dd19644f871b10f7e32eb2dbd6b45149c350b4d5f2893e091b882e03ab7/imageio-2.8.0-py3-none-any.whl (3.3MB)\n",
            "\u001b[K     |████████████████████████████████| 3.3MB 44.7MB/s \n",
            "\u001b[?25hCollecting imageio_ffmpeg>=0.2.0\n",
            "\u001b[?25l  Downloading https://files.pythonhosted.org/packages/0a/45/2472071095310b3e92010c051cbd2e3c655247ad9090851a86b8bfdcfbc5/imageio_ffmpeg-0.4.1-py3-none-manylinux2010_x86_64.whl (22.2MB)\n",
            "\u001b[K     |████████████████████████████████| 22.2MB 2.0MB/s \n",
            "\u001b[?25hRequirement already satisfied: cloudpickle>=0.2.1 in /usr/local/lib/python3.6/dist-packages (from scikit-image<0.15.0,>=0.14.3->openl3) (1.3.0)\n",
            "Requirement already satisfied: networkx>=1.8 in /usr/local/lib/python3.6/dist-packages (from scikit-image<0.15.0,>=0.14.3->openl3) (2.4)\n",
            "Requirement already satisfied: pillow>=4.3.0 in /usr/local/lib/python3.6/dist-packages (from scikit-image<0.15.0,>=0.14.3->openl3) (7.0.0)\n",
            "Requirement already satisfied: matplotlib>=2.0.0 in /usr/local/lib/python3.6/dist-packages (from scikit-image<0.15.0,>=0.14.3->openl3) (3.0.3)\n",
            "Requirement already satisfied: PyWavelets>=0.4.0 in /usr/local/lib/python3.6/dist-packages (from scikit-image<0.15.0,>=0.14.3->openl3) (1.1.1)\n",
            "Requirement already satisfied: scikit-learn!=0.19.0,>=0.14.0 in /usr/local/lib/python3.6/dist-packages (from librosa>=0.5->kapre==0.1.4->openl3) (0.20.3)\n",
            "Requirement already satisfied: audioread>=2.0.0 in /usr/local/lib/python3.6/dist-packages (from librosa>=0.5->kapre==0.1.4->openl3) (2.1.8)\n",
            "Requirement already satisfied: joblib>=0.12 in /usr/local/lib/python3.6/dist-packages (from librosa>=0.5->kapre==0.1.4->openl3) (0.14.1)\n",
            "Requirement already satisfied: pycparser in /usr/local/lib/python3.6/dist-packages (from cffi>=0.6->PySoundFile>=0.9.0.post1->openl3) (2.19)\n",
            "Requirement already satisfied: llvmlite>=0.28.0dev0 in /usr/local/lib/python3.6/dist-packages (from numba>=0.32->resampy<0.3.0,>=0.2.1->openl3) (0.28.0)\n",
            "Requirement already satisfied: urllib3!=1.25.0,!=1.25.1,<1.26,>=1.21.1 in /usr/local/lib/python3.6/dist-packages (from requests<3.0,>=2.8.1->moviepy>=1.0.0->openl3) (1.24.3)\n",
            "Requirement already satisfied: chardet<4,>=3.0.2 in /usr/local/lib/python3.6/dist-packages (from requests<3.0,>=2.8.1->moviepy>=1.0.0->openl3) (3.0.4)\n",
            "Requirement already satisfied: idna<3,>=2.5 in /usr/local/lib/python3.6/dist-packages (from requests<3.0,>=2.8.1->moviepy>=1.0.0->openl3) (2.9)\n",
            "Requirement already satisfied: certifi>=2017.4.17 in /usr/local/lib/python3.6/dist-packages (from requests<3.0,>=2.8.1->moviepy>=1.0.0->openl3) (2020.4.5.1)\n",
            "Requirement already satisfied: pyparsing!=2.0.4,!=2.1.2,!=2.1.6,>=2.0.1 in /usr/local/lib/python3.6/dist-packages (from matplotlib>=2.0.0->scikit-image<0.15.0,>=0.14.3->openl3) (2.4.0)\n",
            "Requirement already satisfied: cycler>=0.10 in /usr/local/lib/python3.6/dist-packages (from matplotlib>=2.0.0->scikit-image<0.15.0,>=0.14.3->openl3) (0.10.0)\n",
            "Requirement already satisfied: kiwisolver>=1.0.1 in /usr/local/lib/python3.6/dist-packages (from matplotlib>=2.0.0->scikit-image<0.15.0,>=0.14.3->openl3) (1.1.0)\n",
            "Requirement already satisfied: python-dateutil>=2.1 in /usr/local/lib/python3.6/dist-packages (from matplotlib>=2.0.0->scikit-image<0.15.0,>=0.14.3->openl3) (2.8.0)\n",
            "Requirement already satisfied: setuptools in /usr/local/lib/python3.6/dist-packages (from kiwisolver>=1.0.1->matplotlib>=2.0.0->scikit-image<0.15.0,>=0.14.3->openl3) (46.1.3)\n",
            "Building wheels for collected packages: openl3, moviepy, proglog\n",
            "  Building wheel for openl3 (setup.py) ... \u001b[?25l\u001b[?25hdone\n",
            "  Created wheel for openl3: filename=openl3-0.3.1-py2.py3-none-any.whl size=249323247 sha256=0561ccff6cd9ddbe89083b4dc593cf5bd4b91ea6179d6be7b11925ad06c1566b\n",
            "  Stored in directory: /root/.cache/pip/wheels/13/63/c9/35868f3dd3b466909e73178db8566430da2d093cc055b932b1\n",
            "  Building wheel for moviepy (setup.py) ... \u001b[?25l\u001b[?25hdone\n",
            "  Created wheel for moviepy: filename=moviepy-1.0.2-cp36-none-any.whl size=110730 sha256=b55c848c677f3c449ba2a10fdb94587e373852c5f401d01d864cbcd4601844aa\n",
            "  Stored in directory: /root/.cache/pip/wheels/20/49/a9/770a9a22e7a020d796ab3784d2dc4839e38450a1ac87e6106f\n",
            "  Building wheel for proglog (setup.py) ... \u001b[?25l\u001b[?25hdone\n",
            "  Created wheel for proglog: filename=proglog-0.1.9-cp36-none-any.whl size=6149 sha256=9e30f007e203a26650063545fd2447ae9a1be3b87faaf7c33e578236c5ab2c55\n",
            "  Stored in directory: /root/.cache/pip/wheels/65/56/60/1d0306a8d90b188af393c1812ddb502a8821b70917f82dcc00\n",
            "Successfully built openl3 moviepy proglog\n",
            "\u001b[31mERROR: moviepy 1.0.2 has requirement numpy>=1.17.3; python_version != \"2.7\", but you'll have numpy 1.16.3 which is incompatible.\u001b[0m\n",
            "\u001b[31mERROR: albumentations 0.1.12 has requirement imgaug<0.2.7,>=0.2.5, but you'll have imgaug 0.2.9 which is incompatible.\u001b[0m\n",
            "Installing collected packages: keras-applications, keras-preprocessing, keras, kapre, PySoundFile, proglog, imageio, imageio-ffmpeg, moviepy, scikit-image, openl3\n",
            "  Found existing installation: Keras-Applications 1.0.7\n",
            "    Uninstalling Keras-Applications-1.0.7:\n",
            "      Successfully uninstalled Keras-Applications-1.0.7\n",
            "  Found existing installation: Keras-Preprocessing 1.0.9\n",
            "    Uninstalling Keras-Preprocessing-1.0.9:\n",
            "      Successfully uninstalled Keras-Preprocessing-1.0.9\n",
            "  Found existing installation: Keras 2.3.1\n",
            "    Uninstalling Keras-2.3.1:\n",
            "      Successfully uninstalled Keras-2.3.1\n",
            "  Found existing installation: kapre 0.1.3.1\n",
            "    Uninstalling kapre-0.1.3.1:\n",
            "      Successfully uninstalled kapre-0.1.3.1\n",
            "  Found existing installation: imageio 2.4.1\n",
            "    Uninstalling imageio-2.4.1:\n",
            "      Successfully uninstalled imageio-2.4.1\n",
            "  Found existing installation: moviepy 0.2.3.5\n",
            "    Uninstalling moviepy-0.2.3.5:\n",
            "      Successfully uninstalled moviepy-0.2.3.5\n",
            "  Found existing installation: scikit-image 0.16.2\n",
            "    Uninstalling scikit-image-0.16.2:\n",
            "      Successfully uninstalled scikit-image-0.16.2\n",
            "Successfully installed PySoundFile-0.9.0.post1 imageio-2.8.0 imageio-ffmpeg-0.4.1 kapre-0.1.4 keras-2.2.5 keras-applications-1.0.8 keras-preprocessing-1.1.0 moviepy-1.0.2 openl3-0.3.1 proglog-0.1.9 scikit-image-0.14.5\n"
          ],
          "name": "stdout"
        }
      ]
    },
    {
      "cell_type": "code",
      "metadata": {
        "id": "oOaLZvREj4DQ",
        "colab_type": "code",
        "outputId": "a1f16370-f311-4919-d797-b22f4561beae",
        "colab": {
          "base_uri": "https://localhost:8080/",
          "height": 979
        }
      },
      "source": [
        "!pip install musicnn"
      ],
      "execution_count": 0,
      "outputs": [
        {
          "output_type": "stream",
          "text": [
            "Requirement already satisfied: musicnn in /usr/local/lib/python3.6/dist-packages (0.1.0)\n",
            "Requirement already satisfied: numpy<1.17,>=1.14.5 in /usr/local/lib/python3.6/dist-packages (from musicnn) (1.16.3)\n",
            "Requirement already satisfied: librosa>=0.7.0 in /usr/local/lib/python3.6/dist-packages (from musicnn) (0.7.2)\n",
            "Collecting tensorflow>=1.14\n",
            "  Using cached https://files.pythonhosted.org/packages/85/d4/c0cd1057b331bc38b65478302114194bd8e1b9c2bbc06e300935c0e93d90/tensorflow-2.1.0-cp36-cp36m-manylinux2010_x86_64.whl\n",
            "Requirement already satisfied: scikit-learn!=0.19.0,>=0.14.0 in /usr/local/lib/python3.6/dist-packages (from librosa>=0.7.0->musicnn) (0.20.3)\n",
            "Requirement already satisfied: decorator>=3.0.0 in /usr/local/lib/python3.6/dist-packages (from librosa>=0.7.0->musicnn) (4.4.0)\n",
            "Requirement already satisfied: six>=1.3 in /usr/local/lib/python3.6/dist-packages (from librosa>=0.7.0->musicnn) (1.12.0)\n",
            "Requirement already satisfied: resampy>=0.2.2 in /usr/local/lib/python3.6/dist-packages (from librosa>=0.7.0->musicnn) (0.2.2)\n",
            "Requirement already satisfied: soundfile>=0.9.0 in /usr/local/lib/python3.6/dist-packages (from librosa>=0.7.0->musicnn) (0.10.2)\n",
            "Requirement already satisfied: audioread>=2.0.0 in /usr/local/lib/python3.6/dist-packages (from librosa>=0.7.0->musicnn) (2.1.8)\n",
            "Requirement already satisfied: scipy>=1.0.0 in /usr/local/lib/python3.6/dist-packages (from librosa>=0.7.0->musicnn) (1.4.1)\n",
            "Requirement already satisfied: numba>=0.43.0 in /usr/local/lib/python3.6/dist-packages (from librosa>=0.7.0->musicnn) (0.43.1)\n",
            "Requirement already satisfied: joblib>=0.12 in /usr/local/lib/python3.6/dist-packages (from librosa>=0.7.0->musicnn) (0.14.1)\n",
            "Requirement already satisfied: protobuf>=3.8.0 in /usr/local/lib/python3.6/dist-packages (from tensorflow>=1.14->musicnn) (3.11.3)\n",
            "Requirement already satisfied: wheel>=0.26; python_version >= \"3\" in /usr/local/lib/python3.6/dist-packages (from tensorflow>=1.14->musicnn) (0.34.2)\n",
            "Requirement already satisfied: gast==0.2.2 in /usr/local/lib/python3.6/dist-packages (from tensorflow>=1.14->musicnn) (0.2.2)\n",
            "Requirement already satisfied: keras-preprocessing>=1.1.0 in /usr/local/lib/python3.6/dist-packages (from tensorflow>=1.14->musicnn) (1.1.0)\n",
            "Requirement already satisfied: wrapt>=1.11.1 in /usr/local/lib/python3.6/dist-packages (from tensorflow>=1.14->musicnn) (1.12.1)\n",
            "Requirement already satisfied: google-pasta>=0.1.6 in /usr/local/lib/python3.6/dist-packages (from tensorflow>=1.14->musicnn) (0.2.0)\n",
            "Requirement already satisfied: astor>=0.6.0 in /usr/local/lib/python3.6/dist-packages (from tensorflow>=1.14->musicnn) (0.7.1)\n",
            "Requirement already satisfied: grpcio>=1.8.6 in /usr/local/lib/python3.6/dist-packages (from tensorflow>=1.14->musicnn) (1.20.1)\n",
            "Requirement already satisfied: opt-einsum>=2.3.2 in /usr/local/lib/python3.6/dist-packages (from tensorflow>=1.14->musicnn) (3.2.1)\n",
            "Requirement already satisfied: keras-applications>=1.0.8 in /usr/local/lib/python3.6/dist-packages (from tensorflow>=1.14->musicnn) (1.0.8)\n",
            "Requirement already satisfied: tensorflow-estimator<2.2.0,>=2.1.0rc0 in /usr/local/lib/python3.6/dist-packages (from tensorflow>=1.14->musicnn) (2.1.0)\n",
            "Requirement already satisfied: tensorboard<2.2.0,>=2.1.0 in /usr/local/lib/python3.6/dist-packages (from tensorflow>=1.14->musicnn) (2.1.1)\n",
            "Requirement already satisfied: absl-py>=0.7.0 in /usr/local/lib/python3.6/dist-packages (from tensorflow>=1.14->musicnn) (0.7.1)\n",
            "Requirement already satisfied: termcolor>=1.1.0 in /usr/local/lib/python3.6/dist-packages (from tensorflow>=1.14->musicnn) (1.1.0)\n",
            "Requirement already satisfied: cffi>=1.0 in /usr/local/lib/python3.6/dist-packages (from soundfile>=0.9.0->librosa>=0.7.0->musicnn) (1.12.3)\n",
            "Requirement already satisfied: llvmlite>=0.28.0dev0 in /usr/local/lib/python3.6/dist-packages (from numba>=0.43.0->librosa>=0.7.0->musicnn) (0.28.0)\n",
            "Requirement already satisfied: setuptools in /usr/local/lib/python3.6/dist-packages (from protobuf>=3.8.0->tensorflow>=1.14->musicnn) (46.1.3)\n",
            "Requirement already satisfied: h5py in /usr/local/lib/python3.6/dist-packages (from keras-applications>=1.0.8->tensorflow>=1.14->musicnn) (2.9.0)\n",
            "Requirement already satisfied: markdown>=2.6.8 in /usr/local/lib/python3.6/dist-packages (from tensorboard<2.2.0,>=2.1.0->tensorflow>=1.14->musicnn) (3.1)\n",
            "Requirement already satisfied: requests<3,>=2.21.0 in /usr/local/lib/python3.6/dist-packages (from tensorboard<2.2.0,>=2.1.0->tensorflow>=1.14->musicnn) (2.23.0)\n",
            "Requirement already satisfied: werkzeug>=0.11.15 in /usr/local/lib/python3.6/dist-packages (from tensorboard<2.2.0,>=2.1.0->tensorflow>=1.14->musicnn) (0.15.2)\n",
            "Requirement already satisfied: google-auth<2,>=1.6.3 in /usr/local/lib/python3.6/dist-packages (from tensorboard<2.2.0,>=2.1.0->tensorflow>=1.14->musicnn) (1.7.2)\n",
            "Requirement already satisfied: google-auth-oauthlib<0.5,>=0.4.1 in /usr/local/lib/python3.6/dist-packages (from tensorboard<2.2.0,>=2.1.0->tensorflow>=1.14->musicnn) (0.4.1)\n",
            "Requirement already satisfied: pycparser in /usr/local/lib/python3.6/dist-packages (from cffi>=1.0->soundfile>=0.9.0->librosa>=0.7.0->musicnn) (2.19)\n",
            "Requirement already satisfied: urllib3!=1.25.0,!=1.25.1,<1.26,>=1.21.1 in /usr/local/lib/python3.6/dist-packages (from requests<3,>=2.21.0->tensorboard<2.2.0,>=2.1.0->tensorflow>=1.14->musicnn) (1.24.3)\n",
            "Requirement already satisfied: idna<3,>=2.5 in /usr/local/lib/python3.6/dist-packages (from requests<3,>=2.21.0->tensorboard<2.2.0,>=2.1.0->tensorflow>=1.14->musicnn) (2.9)\n",
            "Requirement already satisfied: certifi>=2017.4.17 in /usr/local/lib/python3.6/dist-packages (from requests<3,>=2.21.0->tensorboard<2.2.0,>=2.1.0->tensorflow>=1.14->musicnn) (2020.4.5.1)\n",
            "Requirement already satisfied: chardet<4,>=3.0.2 in /usr/local/lib/python3.6/dist-packages (from requests<3,>=2.21.0->tensorboard<2.2.0,>=2.1.0->tensorflow>=1.14->musicnn) (3.0.4)\n",
            "Requirement already satisfied: rsa<4.1,>=3.1.4 in /usr/local/lib/python3.6/dist-packages (from google-auth<2,>=1.6.3->tensorboard<2.2.0,>=2.1.0->tensorflow>=1.14->musicnn) (4.0)\n",
            "Requirement already satisfied: cachetools<3.2,>=2.0.0 in /usr/local/lib/python3.6/dist-packages (from google-auth<2,>=1.6.3->tensorboard<2.2.0,>=2.1.0->tensorflow>=1.14->musicnn) (3.1.1)\n",
            "Requirement already satisfied: pyasn1-modules>=0.2.1 in /usr/local/lib/python3.6/dist-packages (from google-auth<2,>=1.6.3->tensorboard<2.2.0,>=2.1.0->tensorflow>=1.14->musicnn) (0.2.8)\n",
            "Requirement already satisfied: requests-oauthlib>=0.7.0 in /usr/local/lib/python3.6/dist-packages (from google-auth-oauthlib<0.5,>=0.4.1->tensorboard<2.2.0,>=2.1.0->tensorflow>=1.14->musicnn) (1.3.0)\n",
            "Requirement already satisfied: pyasn1>=0.1.3 in /usr/local/lib/python3.6/dist-packages (from rsa<4.1,>=3.1.4->google-auth<2,>=1.6.3->tensorboard<2.2.0,>=2.1.0->tensorflow>=1.14->musicnn) (0.4.8)\n",
            "Requirement already satisfied: oauthlib>=3.0.0 in /usr/local/lib/python3.6/dist-packages (from requests-oauthlib>=0.7.0->google-auth-oauthlib<0.5,>=0.4.1->tensorboard<2.2.0,>=2.1.0->tensorflow>=1.14->musicnn) (3.1.0)\n",
            "Installing collected packages: tensorflow\n",
            "  Found existing installation: tensorflow 1.3.0\n",
            "    Uninstalling tensorflow-1.3.0:\n",
            "      Successfully uninstalled tensorflow-1.3.0\n",
            "Successfully installed tensorflow-2.1.0\n"
          ],
          "name": "stdout"
        }
      ]
    },
    {
      "cell_type": "markdown",
      "metadata": {
        "id": "DJhJyWexxrtM",
        "colab_type": "text"
      },
      "source": [
        "# ADReSS 2020 - AD Classification Task"
      ]
    },
    {
      "cell_type": "code",
      "metadata": {
        "id": "20mpjnv8x-b2",
        "colab_type": "code",
        "colab": {}
      },
      "source": [
        "!mkdir /content/sklearn-audio-transfer-learning/data/audio/ADReSSF"
      ],
      "execution_count": 0,
      "outputs": []
    },
    {
      "cell_type": "code",
      "metadata": {
        "id": "O2Nd59vz0FLS",
        "colab_type": "code",
        "colab": {}
      },
      "source": [
        "!cp -r /content/drive/My\\ Drive/ADReSS2020/ADReSS-IS2020-data/train/Full_wave_enhanced_audio/* /content/sklearn-audio-transfer-learning/data/audio/ADReSSF"
      ],
      "execution_count": 0,
      "outputs": []
    },
    {
      "cell_type": "code",
      "metadata": {
        "id": "iyvt8koW2dgN",
        "colab_type": "code",
        "colab": {}
      },
      "source": [
        "!mkdir /content/sklearn-audio-transfer-learning/data/index/ADReSSF"
      ],
      "execution_count": 0,
      "outputs": []
    },
    {
      "cell_type": "code",
      "metadata": {
        "id": "nHfFLwZr4Djr",
        "colab_type": "code",
        "colab": {}
      },
      "source": [
        "# Trzeba dodać cc/ przed nazwą pliku\n",
        "!ls /content/sklearn-audio-transfer-learning/data/audio/ADReSSF/cc/ > /content/sklearn-audio-transfer-learning/data/index/ADReSSF/train_set.txt"
      ],
      "execution_count": 0,
      "outputs": []
    },
    {
      "cell_type": "code",
      "metadata": {
        "id": "cZ_xL6jN8pvD",
        "colab_type": "code",
        "colab": {}
      },
      "source": [
        "# Trzeba dodać cd/ przed nazwą pliku\n",
        "!ls /content/sklearn-audio-transfer-learning/data/audio/ADReSSF/cd/ >> /content/sklearn-audio-transfer-learning/data/index/ADReSSF/train_set.txt"
      ],
      "execution_count": 0,
      "outputs": []
    },
    {
      "cell_type": "code",
      "metadata": {
        "id": "3sWccbaH-kmZ",
        "colab_type": "code",
        "colab": {}
      },
      "source": [
        "# zmieniłen nazwę train_set.txt na valid.txt - podział zrobiłem ręcznie"
      ],
      "execution_count": 0,
      "outputs": []
    },
    {
      "cell_type": "code",
      "metadata": {
        "id": "TiZ-w3UTLS_7",
        "colab_type": "code",
        "outputId": "3d8307e5-19a8-4be6-f158-e76c63409077",
        "colab": {
          "base_uri": "https://localhost:8080/",
          "height": 590
        }
      },
      "source": [
        "# change DATA_FOLDER = '/content/sklearn-audio-transfer-learning/data/' before running\n",
        "!python /content/sklearn-audio-transfer-learning-0504/src/audio_transfer_learning.py"
      ],
      "execution_count": 99,
      "outputs": [
        {
          "output_type": "stream",
          "text": [
            "WARNING: Logging before flag parsing goes to stderr.\n",
            "W0505 00:50:08.126606 140356113794944 lazy_loader.py:50] \n",
            "The TensorFlow contrib module will not be included in TensorFlow 2.0.\n",
            "For more information, please see:\n",
            "  * https://github.com/tensorflow/community/blob/master/rfcs/20180907-contrib-sunset.md\n",
            "  * https://github.com/tensorflow/addons\n",
            "  * https://github.com/tensorflow/io (for I/O related ops)\n",
            "If you depend on functionality not listed there, please file an issue.\n",
            "\n",
            "Warning: you did not install openl3, you cannot use this feature extractor (but you can use the pre-computed features).\n",
            "Warning: you did not install MusiCNN, you cannot use this feature extractor (but you can use the pre-computed features).\n",
            "Train examples: 86\n",
            "Test examples: 22\n",
            "{'dataset': 'ADReSSF', 'num_classes_dataset': 2, 'audio_folder': '/content/sklearn-audio-transfer-learning-0504/data/audio/ADReSSF/', 'audio_paths_train': '/content/sklearn-audio-transfer-learning-0504/data/index/ADReSSF/train.txt', 'audio_paths_test': '/content/sklearn-audio-transfer-learning-0504/data/index/ADReSSF/train.txt', 'batch_size': 8, 'features_type': 'vggish', 'pca': 128, 'model_type': 'kNN', 'load_training_data': 'training_data_ADReSSF_vggish.npz', 'load_evaluation_data': 'evaluation_data_ADReSSF_vggish.npz'}\n",
            "Loading training features..\n",
            "(8055, 128)\n",
            "(8055,)\n",
            "Shape after PCA:  (8055, 128)\n",
            "Fitting model..\n",
            "Evaluating model..\n",
            "Loading evaluation features..\n",
            "Shape after PCA:  (1157, 128)\n",
            "Predict labels on evaluation data\n",
            "Print predicted labels on evaluation data:\n",
            "[0 0 0 ... 1 1 1]\n",
            "For loop starts..\n",
            "Traceback (most recent call last):\n",
            "  File \"/content/sklearn-audio-transfer-learning-0504/src/audio_transfer_learning.py\", line 300, in <module>\n",
            "    y_pred.append(np.argmax(np.bincount(pred[np.where(IDS==pt_extension)]))) # majority voting\n",
            "  File \"/usr/local/lib/python3.6/dist-packages/numpy/core/fromnumeric.py\", line 1103, in argmax\n",
            "    return _wrapfunc(a, 'argmax', axis=axis, out=out)\n",
            "  File \"/usr/local/lib/python3.6/dist-packages/numpy/core/fromnumeric.py\", line 56, in _wrapfunc\n",
            "    return getattr(obj, method)(*args, **kwds)\n",
            "ValueError: attempt to get argmax of an empty sequence\n"
          ],
          "name": "stdout"
        }
      ]
    },
    {
      "cell_type": "code",
      "metadata": {
        "id": "2dGDll6X_OGA",
        "colab_type": "code",
        "colab": {}
      },
      "source": [
        "!mkdir /content/drive/My\\ Drive/ADReSS2020/sklearn-audio-transfer-learning-0505"
      ],
      "execution_count": 0,
      "outputs": []
    },
    {
      "cell_type": "code",
      "metadata": {
        "id": "t9fqMmb8_CTD",
        "colab_type": "code",
        "colab": {}
      },
      "source": [
        "!cp -r /content/sklearn-audio-transfer-learning-0504/* /content/drive/My\\ Drive/ADReSS2020/sklearn-audio-transfer-learning-0505"
      ],
      "execution_count": 0,
      "outputs": []
    },
    {
      "cell_type": "code",
      "metadata": {
        "id": "yJ0P4TnbA_gq",
        "colab_type": "code",
        "colab": {}
      },
      "source": [
        "drive.flush_and_unmount()"
      ],
      "execution_count": 0,
      "outputs": []
    }
  ]
}