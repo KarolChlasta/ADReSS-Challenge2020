{
  "nbformat": 4,
  "nbformat_minor": 0,
  "metadata": {
    "colab": {
      "name": "ADReSS2020-sklearn-audio-transfer-learning.ipynb",
      "provenance": [],
      "toc_visible": true,
      "include_colab_link": true
    },
    "kernelspec": {
      "name": "python3",
      "display_name": "Python 3"
    }
  },
  "cells": [
    {
      "cell_type": "markdown",
      "metadata": {
        "id": "view-in-github",
        "colab_type": "text"
      },
      "source": [
        "<a href=\"https://colab.research.google.com/github/KarolChlasta/ADReSS-Challenge2020/blob/master/ADReSS2020_sklearn_audio_transfer_learning.ipynb\" target=\"_parent\"><img src=\"https://colab.research.google.com/assets/colab-badge.svg\" alt=\"Open In Colab\"/></a>"
      ]
    },
    {
      "cell_type": "markdown",
      "metadata": {
        "id": "nfSMqbv-y0jv",
        "colab_type": "text"
      },
      "source": [
        "# Optional"
      ]
    },
    {
      "cell_type": "code",
      "metadata": {
        "id": "qyVAqdxiwHJk",
        "colab_type": "code",
        "outputId": "47e163f3-095d-4ef5-e5ea-4bddd53beca0",
        "colab": {
          "base_uri": "https://localhost:8080/",
          "height": 35
        }
      },
      "source": [
        "# Downgrade Tensorflow from 2.1 to 1.3 in order to avoid \"module tensorflow has no attribute contrib\"\n",
        "import tensorflow as tf\n",
        "\n",
        "print(tf.__version__)"
      ],
      "execution_count": 4,
      "outputs": [
        {
          "output_type": "stream",
          "text": [
            "2.1.0\n"
          ],
          "name": "stdout"
        }
      ]
    },
    {
      "cell_type": "code",
      "metadata": {
        "id": "g0Il-wOFw6l6",
        "colab_type": "code",
        "outputId": "d3ca9ab5-739b-423e-c05f-ffa19376bb54",
        "colab": {
          "base_uri": "https://localhost:8080/",
          "height": 747
        }
      },
      "source": [
        "!pip install tensorflow==1.3"
      ],
      "execution_count": 7,
      "outputs": [
        {
          "output_type": "stream",
          "text": [
            "Collecting tensorflow==1.3\n",
            "\u001b[?25l  Downloading https://files.pythonhosted.org/packages/7c/9f/57e1404fc9345759e4a732c4ab48ab4dd78fd1e60ee1270442b8850fa75f/tensorflow-1.3.0-cp36-cp36m-manylinux1_x86_64.whl (43.5MB)\n",
            "\u001b[K     |████████████████████████████████| 43.6MB 88kB/s \n",
            "\u001b[?25hCollecting tensorflow-tensorboard<0.2.0,>=0.1.0\n",
            "\u001b[?25l  Downloading https://files.pythonhosted.org/packages/93/31/bb4111c3141d22bd7b2b553a26aa0c1863c86cb723919e5bd7847b3de4fc/tensorflow_tensorboard-0.1.8-py3-none-any.whl (1.6MB)\n",
            "\u001b[K     |████████████████████████████████| 1.6MB 33.7MB/s \n",
            "\u001b[?25hRequirement already satisfied: six>=1.10.0 in /usr/local/lib/python3.6/dist-packages (from tensorflow==1.3) (1.12.0)\n",
            "Requirement already satisfied: numpy>=1.11.0 in /usr/local/lib/python3.6/dist-packages (from tensorflow==1.3) (1.16.3)\n",
            "Requirement already satisfied: wheel>=0.26 in /usr/local/lib/python3.6/dist-packages (from tensorflow==1.3) (0.34.2)\n",
            "Requirement already satisfied: protobuf>=3.3.0 in /usr/local/lib/python3.6/dist-packages (from tensorflow==1.3) (3.11.3)\n",
            "Collecting bleach==1.5.0\n",
            "  Downloading https://files.pythonhosted.org/packages/33/70/86c5fec937ea4964184d4d6c4f0b9551564f821e1c3575907639036d9b90/bleach-1.5.0-py2.py3-none-any.whl\n",
            "Collecting html5lib==0.9999999\n",
            "\u001b[?25l  Downloading https://files.pythonhosted.org/packages/ae/ae/bcb60402c60932b32dfaf19bb53870b29eda2cd17551ba5639219fb5ebf9/html5lib-0.9999999.tar.gz (889kB)\n",
            "\u001b[K     |████████████████████████████████| 890kB 47.8MB/s \n",
            "\u001b[?25hRequirement already satisfied: werkzeug>=0.11.10 in /usr/local/lib/python3.6/dist-packages (from tensorflow-tensorboard<0.2.0,>=0.1.0->tensorflow==1.3) (0.15.2)\n",
            "Requirement already satisfied: markdown>=2.6.8 in /usr/local/lib/python3.6/dist-packages (from tensorflow-tensorboard<0.2.0,>=0.1.0->tensorflow==1.3) (3.1)\n",
            "Requirement already satisfied: setuptools in /usr/local/lib/python3.6/dist-packages (from protobuf>=3.3.0->tensorflow==1.3) (46.1.3)\n",
            "Building wheels for collected packages: html5lib\n",
            "  Building wheel for html5lib (setup.py) ... \u001b[?25l\u001b[?25hdone\n",
            "  Created wheel for html5lib: filename=html5lib-0.9999999-cp36-none-any.whl size=107220 sha256=589c898cd0597731c269613bfd318f87edb125af2bc2889cf38754cc303195f2\n",
            "  Stored in directory: /root/.cache/pip/wheels/50/ae/f9/d2b189788efcf61d1ee0e36045476735c838898eef1cad6e29\n",
            "Successfully built html5lib\n",
            "\u001b[31mERROR: musicnn 0.1.0 has requirement tensorflow>=1.14, but you'll have tensorflow 1.3.0 which is incompatible.\u001b[0m\n",
            "Installing collected packages: html5lib, bleach, tensorflow-tensorboard, tensorflow\n",
            "  Found existing installation: html5lib 1.0.1\n",
            "    Uninstalling html5lib-1.0.1:\n",
            "      Successfully uninstalled html5lib-1.0.1\n",
            "  Found existing installation: bleach 3.1.4\n",
            "    Uninstalling bleach-3.1.4:\n",
            "      Successfully uninstalled bleach-3.1.4\n",
            "  Found existing installation: tensorflow 2.1.0\n",
            "    Uninstalling tensorflow-2.1.0:\n",
            "      Successfully uninstalled tensorflow-2.1.0\n",
            "Successfully installed bleach-1.5.0 html5lib-0.9999999 tensorflow-1.3.0 tensorflow-tensorboard-0.1.8\n"
          ],
          "name": "stdout"
        },
        {
          "output_type": "display_data",
          "data": {
            "application/vnd.colab-display-data+json": {
              "pip_warning": {
                "packages": [
                  "tensorboard",
                  "tensorflow"
                ]
              }
            }
          },
          "metadata": {
            "tags": []
          }
        }
      ]
    },
    {
      "cell_type": "markdown",
      "metadata": {
        "id": "SEhgrbEDkL9x",
        "colab_type": "text"
      },
      "source": [
        "# Installation"
      ]
    },
    {
      "cell_type": "code",
      "metadata": {
        "id": "W8oB9QlmnESP",
        "colab_type": "code",
        "colab": {
          "base_uri": "https://localhost:8080/",
          "height": 126
        },
        "outputId": "c2bb7ef8-a5e8-4e1c-e8a8-e08cc6e1f5ec"
      },
      "source": [
        "from google.colab import drive\n",
        "drive.mount('/content/drive')"
      ],
      "execution_count": 1,
      "outputs": [
        {
          "output_type": "stream",
          "text": [
            "Go to this URL in a browser: https://accounts.google.com/o/oauth2/auth?client_id=947318989803-6bn6qk8qdgf4n4g3pfee6491hc0brc4i.apps.googleusercontent.com&redirect_uri=urn%3aietf%3awg%3aoauth%3a2.0%3aoob&response_type=code&scope=email%20https%3a%2f%2fwww.googleapis.com%2fauth%2fdocs.test%20https%3a%2f%2fwww.googleapis.com%2fauth%2fdrive%20https%3a%2f%2fwww.googleapis.com%2fauth%2fdrive.photos.readonly%20https%3a%2f%2fwww.googleapis.com%2fauth%2fpeopleapi.readonly\n",
            "\n",
            "Enter your authorization code:\n",
            "··········\n",
            "Mounted at /content/drive\n"
          ],
          "name": "stdout"
        }
      ]
    },
    {
      "cell_type": "code",
      "metadata": {
        "id": "qqiLw2ing80E",
        "colab_type": "code",
        "outputId": "05e6490f-c567-4095-a08d-9b6bcef1c469",
        "colab": {
          "base_uri": "https://localhost:8080/",
          "height": 141
        }
      },
      "source": [
        "!git clone https://github.com/jordipons/sklearn-audio-transfer-learning.git"
      ],
      "execution_count": 2,
      "outputs": [
        {
          "output_type": "stream",
          "text": [
            "Cloning into 'sklearn-audio-transfer-learning'...\n",
            "remote: Enumerating objects: 154, done.\u001b[K\n",
            "remote: Counting objects: 100% (154/154), done.\u001b[K\n",
            "remote: Compressing objects: 100% (143/143), done.\u001b[K\n",
            "remote: Total 577 (delta 86), reused 32 (delta 8), pack-reused 423\u001b[K\n",
            "Receiving objects: 100% (577/577), 64.13 MiB | 11.54 MiB/s, done.\n",
            "Resolving deltas: 100% (344/344), done.\n"
          ],
          "name": "stdout"
        }
      ]
    },
    {
      "cell_type": "code",
      "metadata": {
        "id": "xD8JIBhhhVGS",
        "colab_type": "code",
        "outputId": "b6351b40-5fb7-42ea-8bc3-0b87d0b9d56c",
        "colab": {
          "base_uri": "https://localhost:8080/",
          "height": 339
        }
      },
      "source": [
        "!apt-get install python3-venv"
      ],
      "execution_count": 3,
      "outputs": [
        {
          "output_type": "stream",
          "text": [
            "Reading package lists... Done\n",
            "Building dependency tree       \n",
            "Reading state information... Done\n",
            "The following additional packages will be installed:\n",
            "  python-pip-whl python3.6-venv\n",
            "The following NEW packages will be installed:\n",
            "  python-pip-whl python3-venv python3.6-venv\n",
            "0 upgraded, 3 newly installed, 0 to remove and 25 not upgraded.\n",
            "Need to get 1,660 kB of archives.\n",
            "After this operation, 1,901 kB of additional disk space will be used.\n",
            "Get:1 http://archive.ubuntu.com/ubuntu bionic-updates/universe amd64 python-pip-whl all 9.0.1-2.3~ubuntu1.18.04.1 [1,653 kB]\n",
            "Err:2 http://archive.ubuntu.com/ubuntu bionic-updates/universe amd64 python3.6-venv amd64 3.6.9-1~18.04\n",
            "  404  Not Found [IP: 91.189.88.152 80]\n",
            "Get:3 http://archive.ubuntu.com/ubuntu bionic-updates/universe amd64 python3-venv amd64 3.6.7-1~18.04 [1,208 B]\n",
            "Fetched 1,654 kB in 3s (589 kB/s)\n",
            "E: Failed to fetch http://archive.ubuntu.com/ubuntu/pool/universe/p/python3.6/python3.6-venv_3.6.9-1~18.04_amd64.deb  404  Not Found [IP: 91.189.88.152 80]\n",
            "E: Unable to fetch some archives, maybe run apt-get update or try with --fix-missing?\n"
          ],
          "name": "stdout"
        }
      ]
    },
    {
      "cell_type": "code",
      "metadata": {
        "id": "phlfC6b4hfQ4",
        "colab_type": "code",
        "outputId": "ad61722d-fc65-4bfe-f1a3-3ccc2a034f9c",
        "colab": {
          "base_uri": "https://localhost:8080/",
          "height": 517
        }
      },
      "source": [
        "!sudo apt-get update"
      ],
      "execution_count": 4,
      "outputs": [
        {
          "output_type": "stream",
          "text": [
            "\r0% [Working]\r            \rGet:1 https://cloud.r-project.org/bin/linux/ubuntu bionic-cran35/ InRelease [3,626 B]\n",
            "\r0% [Connecting to archive.ubuntu.com] [Connecting to security.ubuntu.com (91.18\r0% [Connecting to archive.ubuntu.com] [Connecting to security.ubuntu.com (91.18\r0% [1 InRelease gpgv 3,626 B] [Connecting to archive.ubuntu.com] [Connecting to\r                                                                               \rIgn:2 https://developer.download.nvidia.com/compute/cuda/repos/ubuntu1804/x86_64  InRelease\n",
            "\r0% [1 InRelease gpgv 3,626 B] [Connecting to archive.ubuntu.com] [Connecting to\r0% [Connecting to archive.ubuntu.com] [Connecting to security.ubuntu.com (91.18\r                                                                               \rGet:3 https://cloud.r-project.org/bin/linux/ubuntu bionic-cran35/ Packages [91.7 kB]\n",
            "\r0% [Connecting to archive.ubuntu.com] [Waiting for headers] [3 Packages 15.8 kB\r0% [Connecting to archive.ubuntu.com (91.189.88.142)] [Waiting for headers] [Wa\r0% [3 Packages store 0 B] [Connecting to archive.ubuntu.com (91.189.88.142)] [W\r0% [Connecting to archive.ubuntu.com (91.189.88.142)] [Waiting for headers] [Wa\r                                                                               \rIgn:4 https://developer.download.nvidia.com/compute/machine-learning/repos/ubuntu1804/x86_64  InRelease\n",
            "\r0% [Connecting to archive.ubuntu.com (91.189.88.142)] [Waiting for headers] [Co\r                                                                               \rHit:5 https://developer.download.nvidia.com/compute/cuda/repos/ubuntu1804/x86_64  Release\n",
            "\r0% [Connecting to archive.ubuntu.com (91.189.88.142)] [Waiting for headers] [Co\r0% [Release.gpg gpgv 564 B] [Connecting to archive.ubuntu.com (91.189.88.142)] \r                                                                               \rHit:6 https://developer.download.nvidia.com/compute/machine-learning/repos/ubuntu1804/x86_64  Release\n",
            "\r0% [Release.gpg gpgv 564 B] [Connecting to archive.ubuntu.com (91.189.88.142)] \r0% [Connecting to archive.ubuntu.com (91.189.88.142)] [Waiting for headers] [Co\r                                                                               \rGet:8 http://security.ubuntu.com/ubuntu bionic-security InRelease [88.7 kB]\n",
            "\r0% [Connecting to archive.ubuntu.com (91.189.88.152)] [8 InRelease 2,586 B/88.7\r0% [Release.gpg gpgv 564 B] [Connecting to archive.ubuntu.com (91.189.88.152)] \r0% [Waiting for headers] [8 InRelease 14.2 kB/88.7 kB 16%] [Waiting for headers\r                                                                               \rHit:10 http://archive.ubuntu.com/ubuntu bionic InRelease\n",
            "\r0% [Waiting for headers] [8 InRelease 17.1 kB/88.7 kB 19%] [Waiting for headers\r                                                                               \rGet:11 http://ppa.launchpad.net/graphics-drivers/ppa/ubuntu bionic InRelease [21.3 kB]\n",
            "Get:12 http://archive.ubuntu.com/ubuntu bionic-updates InRelease [88.7 kB]\n",
            "Get:13 http://ppa.launchpad.net/marutter/c2d4u3.5/ubuntu bionic InRelease [15.4 kB]\n",
            "Get:14 http://security.ubuntu.com/ubuntu bionic-security/restricted amd64 Packages [52.4 kB]\n",
            "Get:15 http://security.ubuntu.com/ubuntu bionic-security/multiverse amd64 Packages [8,505 B]\n",
            "Get:16 http://archive.ubuntu.com/ubuntu bionic-backports InRelease [74.6 kB]\n",
            "Get:17 http://security.ubuntu.com/ubuntu bionic-security/main amd64 Packages [908 kB]\n",
            "Get:18 http://ppa.launchpad.net/graphics-drivers/ppa/ubuntu bionic/main amd64 Packages [37.4 kB]\n",
            "Get:19 http://archive.ubuntu.com/ubuntu bionic-updates/universe amd64 Packages [1,376 kB]\n",
            "Get:20 http://security.ubuntu.com/ubuntu bionic-security/universe amd64 Packages [844 kB]\n",
            "Get:21 http://ppa.launchpad.net/marutter/c2d4u3.5/ubuntu bionic/main Sources [1,813 kB]\n",
            "Get:22 http://archive.ubuntu.com/ubuntu bionic-updates/main amd64 Packages [1,205 kB]\n",
            "Get:23 http://archive.ubuntu.com/ubuntu bionic-updates/restricted amd64 Packages [66.8 kB]\n",
            "Get:24 http://archive.ubuntu.com/ubuntu bionic-updates/multiverse amd64 Packages [19.8 kB]\n",
            "Get:25 http://archive.ubuntu.com/ubuntu bionic-backports/main amd64 Packages [8,286 B]\n",
            "Get:26 http://archive.ubuntu.com/ubuntu bionic-backports/universe amd64 Packages [8,158 B]\n",
            "Get:27 http://ppa.launchpad.net/marutter/c2d4u3.5/ubuntu bionic/main amd64 Packages [875 kB]\n",
            "Fetched 7,606 kB in 7s (1,080 kB/s)\n",
            "Reading package lists... Done\n"
          ],
          "name": "stdout"
        }
      ]
    },
    {
      "cell_type": "code",
      "metadata": {
        "id": "BaiaNlmWhNbv",
        "colab_type": "code",
        "colab": {
          "base_uri": "https://localhost:8080/",
          "height": 232
        },
        "outputId": "349f8871-39ee-457d-a7da-4145906bd623"
      },
      "source": [
        "!python3 -m venv env"
      ],
      "execution_count": 5,
      "outputs": [
        {
          "output_type": "stream",
          "text": [
            "The virtual environment was not created successfully because ensurepip is not\n",
            "available.  On Debian/Ubuntu systems, you need to install the python3-venv\n",
            "package using the following command.\n",
            "\n",
            "    apt-get install python3-venv\n",
            "\n",
            "You may need to use sudo with that command.  After installing the python3-venv\n",
            "package, recreate your virtual environment.\n",
            "\n",
            "Failing command: ['/content/env/bin/python3', '-Im', 'ensurepip', '--upgrade', '--default-pip']\n",
            "\n"
          ],
          "name": "stdout"
        }
      ]
    },
    {
      "cell_type": "code",
      "metadata": {
        "id": "1KcDckjfh3EC",
        "colab_type": "code",
        "colab": {
          "base_uri": "https://localhost:8080/",
          "height": 35
        },
        "outputId": "53b5b06e-a20f-4f2c-a12d-020c9a365371"
      },
      "source": [
        "!source ./env/bin/activate"
      ],
      "execution_count": 6,
      "outputs": [
        {
          "output_type": "stream",
          "text": [
            "/bin/bash: ./env/bin/activate: No such file or directory\n"
          ],
          "name": "stdout"
        }
      ]
    },
    {
      "cell_type": "code",
      "metadata": {
        "id": "MuWP8FdSh7wE",
        "colab_type": "code",
        "outputId": "1542676e-0a63-4fe1-fa74-3f43039d5210",
        "colab": {
          "base_uri": "https://localhost:8080/",
          "height": 1000
        }
      },
      "source": [
        "!pip install -r /content/sklearn-audio-transfer-learning/requirements.txt"
      ],
      "execution_count": 7,
      "outputs": [
        {
          "output_type": "stream",
          "text": [
            "Collecting absl-py==0.7.1\n",
            "\u001b[?25l  Downloading https://files.pythonhosted.org/packages/da/3f/9b0355080b81b15ba6a9ffcf1f5ea39e307a2778b2f2dc8694724e8abd5b/absl-py-0.7.1.tar.gz (99kB)\n",
            "\r\u001b[K     |███▎                            | 10kB 15.1MB/s eta 0:00:01\r\u001b[K     |██████▋                         | 20kB 1.7MB/s eta 0:00:01\r\u001b[K     |█████████▉                      | 30kB 2.5MB/s eta 0:00:01\r\u001b[K     |█████████████▏                  | 40kB 3.3MB/s eta 0:00:01\r\u001b[K     |████████████████▍               | 51kB 2.1MB/s eta 0:00:01\r\u001b[K     |███████████████████▊            | 61kB 2.5MB/s eta 0:00:01\r\u001b[K     |███████████████████████         | 71kB 2.9MB/s eta 0:00:01\r\u001b[K     |██████████████████████████▎     | 81kB 3.3MB/s eta 0:00:01\r\u001b[K     |█████████████████████████████▌  | 92kB 2.5MB/s eta 0:00:01\r\u001b[K     |████████████████████████████████| 102kB 2.4MB/s \n",
            "\u001b[?25hCollecting astor==0.7.1\n",
            "  Downloading https://files.pythonhosted.org/packages/35/6b/11530768cac581a12952a2aad00e1526b89d242d0b9f59534ef6e6a1752f/astor-0.7.1-py2.py3-none-any.whl\n",
            "Requirement already satisfied: backcall==0.1.0 in /usr/local/lib/python3.6/dist-packages (from -r /content/sklearn-audio-transfer-learning/requirements.txt (line 3)) (0.1.0)\n",
            "Collecting cffi==1.12.3\n",
            "\u001b[?25l  Downloading https://files.pythonhosted.org/packages/5f/bf/6aa1925384c23ffeb579e97a5569eb9abce41b6310b329352b8252cee1c3/cffi-1.12.3-cp36-cp36m-manylinux1_x86_64.whl (430kB)\n",
            "\u001b[K     |████████████████████████████████| 440kB 43.6MB/s \n",
            "\u001b[?25hRequirement already satisfied: cycler==0.10.0 in /usr/local/lib/python3.6/dist-packages (from -r /content/sklearn-audio-transfer-learning/requirements.txt (line 5)) (0.10.0)\n",
            "Collecting decorator==4.4.0\n",
            "  Downloading https://files.pythonhosted.org/packages/5f/88/0075e461560a1e750a0dcbf77f1d9de775028c37a19a346a6c565a257399/decorator-4.4.0-py2.py3-none-any.whl\n",
            "Collecting gast==0.2.2\n",
            "  Downloading https://files.pythonhosted.org/packages/4e/35/11749bf99b2d4e3cceb4d55ca22590b0d7c2c62b9de38ac4a4a7f4687421/gast-0.2.2.tar.gz\n",
            "Collecting grpcio==1.20.1\n",
            "\u001b[?25l  Downloading https://files.pythonhosted.org/packages/0a/9d/8bd5d0e516b196f59f1c4439b424b8d4fa62d492a4b531aae322d2d82a7b/grpcio-1.20.1-cp36-cp36m-manylinux1_x86_64.whl (2.1MB)\n",
            "\u001b[K     |████████████████████████████████| 2.2MB 48.9MB/s \n",
            "\u001b[?25hCollecting h5py==2.9.0\n",
            "\u001b[?25l  Downloading https://files.pythonhosted.org/packages/30/99/d7d4fbf2d02bb30fb76179911a250074b55b852d34e98dd452a9f394ac06/h5py-2.9.0-cp36-cp36m-manylinux1_x86_64.whl (2.8MB)\n",
            "\u001b[K     |████████████████████████████████| 2.8MB 34.6MB/s \n",
            "\u001b[?25hCollecting ipdb==0.12\n",
            "  Downloading https://files.pythonhosted.org/packages/6d/43/c3c2e866a8803e196d6209595020a4a6db1a3c5d07c01455669497ae23d0/ipdb-0.12.tar.gz\n",
            "Collecting ipython==7.5.0\n",
            "\u001b[?25l  Downloading https://files.pythonhosted.org/packages/a9/2e/41dce4ed129057e05a555a7f9629aa2d5f81fdcd4d16568bc24b75a1d2c9/ipython-7.5.0-py3-none-any.whl (770kB)\n",
            "\u001b[K     |████████████████████████████████| 778kB 20.2MB/s \n",
            "\u001b[?25hRequirement already satisfied: ipython-genutils==0.2.0 in /usr/local/lib/python3.6/dist-packages (from -r /content/sklearn-audio-transfer-learning/requirements.txt (line 12)) (0.2.0)\n",
            "Collecting jedi==0.13.3\n",
            "\u001b[?25l  Downloading https://files.pythonhosted.org/packages/25/2b/1f188901be099d52d7b06f4d3b7cb9f8f09692c50697b139eaf6fa2928d8/jedi-0.13.3-py2.py3-none-any.whl (178kB)\n",
            "\u001b[K     |████████████████████████████████| 184kB 53.0MB/s \n",
            "\u001b[?25hCollecting Keras-Applications==1.0.7\n",
            "\u001b[?25l  Downloading https://files.pythonhosted.org/packages/90/85/64c82949765cfb246bbdaf5aca2d55f400f792655927a017710a78445def/Keras_Applications-1.0.7-py2.py3-none-any.whl (51kB)\n",
            "\u001b[K     |████████████████████████████████| 61kB 8.6MB/s \n",
            "\u001b[?25hCollecting Keras-Preprocessing==1.0.9\n",
            "\u001b[?25l  Downloading https://files.pythonhosted.org/packages/c0/bf/0315ef6a9fd3fc2346e85b0ff1f5f83ca17073f2c31ac719ab2e4da0d4a3/Keras_Preprocessing-1.0.9-py2.py3-none-any.whl (59kB)\n",
            "\u001b[K     |████████████████████████████████| 61kB 9.1MB/s \n",
            "\u001b[?25hCollecting kiwisolver==1.1.0\n",
            "\u001b[?25l  Downloading https://files.pythonhosted.org/packages/f8/a1/5742b56282449b1c0968197f63eae486eca2c35dcd334bab75ad524e0de1/kiwisolver-1.1.0-cp36-cp36m-manylinux1_x86_64.whl (90kB)\n",
            "\u001b[K     |████████████████████████████████| 92kB 12.3MB/s \n",
            "\u001b[?25hCollecting llvmlite==0.28.0\n",
            "\u001b[?25l  Downloading https://files.pythonhosted.org/packages/b5/f3/6d7f49db45df0276166f99723aa10310862a3783556cd284793da478afed/llvmlite-0.28.0-1-cp36-cp36m-manylinux1_x86_64.whl (16.8MB)\n",
            "\u001b[K     |████████████████████████████████| 16.8MB 259kB/s \n",
            "\u001b[?25hCollecting Markdown==3.1\n",
            "\u001b[?25l  Downloading https://files.pythonhosted.org/packages/f5/e4/d8c18f2555add57ff21bf25af36d827145896a07607486cc79a2aea641af/Markdown-3.1-py2.py3-none-any.whl (87kB)\n",
            "\u001b[K     |████████████████████████████████| 92kB 11.1MB/s \n",
            "\u001b[?25hCollecting matplotlib==3.0.3\n",
            "\u001b[?25l  Downloading https://files.pythonhosted.org/packages/e9/69/f5e05f578585ed9935247be3788b374f90701296a70c8871bcd6d21edb00/matplotlib-3.0.3-cp36-cp36m-manylinux1_x86_64.whl (13.0MB)\n",
            "\u001b[K     |████████████████████████████████| 13.0MB 197kB/s \n",
            "\u001b[?25hCollecting mock==3.0.5\n",
            "  Downloading https://files.pythonhosted.org/packages/05/d2/f94e68be6b17f46d2c353564da56e6fb89ef09faeeff3313a046cb810ca9/mock-3.0.5-py2.py3-none-any.whl\n",
            "Collecting numba==0.43.1\n",
            "\u001b[?25l  Downloading https://files.pythonhosted.org/packages/8d/c6/b28f5cada2aca31018a8bb210065f9b6a3174d25a80a9961c7bd3e831c3e/numba-0.43.1-cp36-cp36m-manylinux1_x86_64.whl (3.3MB)\n",
            "\u001b[K     |████████████████████████████████| 3.3MB 41.3MB/s \n",
            "\u001b[?25hCollecting numpy==1.16.3\n",
            "\u001b[?25l  Downloading https://files.pythonhosted.org/packages/c1/e2/4db8df8f6cddc98e7d7c537245ef2f4e41a1ed17bf0c3177ab3cc6beac7f/numpy-1.16.3-cp36-cp36m-manylinux1_x86_64.whl (17.3MB)\n",
            "\u001b[K     |████████████████████████████████| 17.3MB 253kB/s \n",
            "\u001b[?25hCollecting parso==0.4.0\n",
            "\u001b[?25l  Downloading https://files.pythonhosted.org/packages/a7/bd/e2f4753c5fa93932899243b4299011a757ac212e9bc8ddf062f38df4e78b/parso-0.4.0-py2.py3-none-any.whl (94kB)\n",
            "\u001b[K     |████████████████████████████████| 102kB 12.7MB/s \n",
            "\u001b[?25hCollecting pexpect==4.7.0\n",
            "\u001b[?25l  Downloading https://files.pythonhosted.org/packages/0e/3e/377007e3f36ec42f1b84ec322ee12141a9e10d808312e5738f52f80a232c/pexpect-4.7.0-py2.py3-none-any.whl (58kB)\n",
            "\u001b[K     |████████████████████████████████| 61kB 8.3MB/s \n",
            "\u001b[?25hRequirement already satisfied: pickleshare==0.7.5 in /usr/local/lib/python3.6/dist-packages (from -r /content/sklearn-audio-transfer-learning/requirements.txt (line 25)) (0.7.5)\n",
            "Collecting prompt-toolkit==2.0.9\n",
            "\u001b[?25l  Downloading https://files.pythonhosted.org/packages/f7/a7/9b1dd14ef45345f186ef69d175bdd2491c40ab1dfa4b2b3e4352df719ed7/prompt_toolkit-2.0.9-py3-none-any.whl (337kB)\n",
            "\u001b[K     |████████████████████████████████| 337kB 47.9MB/s \n",
            "\u001b[?25hCollecting protobuf==3.7.1\n",
            "\u001b[?25l  Downloading https://files.pythonhosted.org/packages/5a/aa/a858df367b464f5e9452e1c538aa47754d467023850c00b000287750fa77/protobuf-3.7.1-cp36-cp36m-manylinux1_x86_64.whl (1.2MB)\n",
            "\u001b[K     |████████████████████████████████| 1.2MB 46.1MB/s \n",
            "\u001b[?25hRequirement already satisfied: ptyprocess==0.6.0 in /usr/local/lib/python3.6/dist-packages (from -r /content/sklearn-audio-transfer-learning/requirements.txt (line 28)) (0.6.0)\n",
            "Collecting pycparser==2.19\n",
            "\u001b[?25l  Downloading https://files.pythonhosted.org/packages/68/9e/49196946aee219aead1290e00d1e7fdeab8567783e83e1b9ab5585e6206a/pycparser-2.19.tar.gz (158kB)\n",
            "\u001b[K     |████████████████████████████████| 163kB 49.2MB/s \n",
            "\u001b[?25hCollecting Pygments==2.4.0\n",
            "\u001b[?25l  Downloading https://files.pythonhosted.org/packages/6e/00/c5cb5fc7c047da4af049005d0146b3a961b1a25d9cefbbe24bf0882a11ad/Pygments-2.4.0-py2.py3-none-any.whl (882kB)\n",
            "\u001b[K     |████████████████████████████████| 890kB 39.8MB/s \n",
            "\u001b[?25hCollecting pyparsing==2.4.0\n",
            "\u001b[?25l  Downloading https://files.pythonhosted.org/packages/dd/d9/3ec19e966301a6e25769976999bd7bbe552016f0d32b577dc9d63d2e0c49/pyparsing-2.4.0-py2.py3-none-any.whl (62kB)\n",
            "\u001b[K     |████████████████████████████████| 71kB 9.3MB/s \n",
            "\u001b[?25hCollecting python-dateutil==2.8.0\n",
            "\u001b[?25l  Downloading https://files.pythonhosted.org/packages/41/17/c62faccbfbd163c7f57f3844689e3a78bae1f403648a6afb1d0866d87fbb/python_dateutil-2.8.0-py2.py3-none-any.whl (226kB)\n",
            "\u001b[K     |████████████████████████████████| 235kB 52.6MB/s \n",
            "\u001b[?25hCollecting resampy==0.2.1\n",
            "\u001b[?25l  Downloading https://files.pythonhosted.org/packages/14/b6/66a06d85474190b50aee1a6c09cdc95bb405ac47338b27e9b21409da1760/resampy-0.2.1.tar.gz (322kB)\n",
            "\u001b[K     |████████████████████████████████| 327kB 52.8MB/s \n",
            "\u001b[?25hCollecting scikit-learn==0.20.3\n",
            "\u001b[?25l  Downloading https://files.pythonhosted.org/packages/5e/82/c0de5839d613b82bddd088599ac0bbfbbbcbd8ca470680658352d2c435bd/scikit_learn-0.20.3-cp36-cp36m-manylinux1_x86_64.whl (5.4MB)\n",
            "\u001b[K     |████████████████████████████████| 5.4MB 21.0MB/s \n",
            "\u001b[?25hCollecting scipy==1.2.1\n",
            "\u001b[?25l  Downloading https://files.pythonhosted.org/packages/7f/5f/c48860704092933bf1c4c1574a8de1ffd16bf4fde8bab190d747598844b2/scipy-1.2.1-cp36-cp36m-manylinux1_x86_64.whl (24.8MB)\n",
            "\u001b[K     |████████████████████████████████| 24.8MB 1.5MB/s \n",
            "\u001b[?25hRequirement already satisfied: six==1.12.0 in /usr/local/lib/python3.6/dist-packages (from -r /content/sklearn-audio-transfer-learning/requirements.txt (line 36)) (1.12.0)\n",
            "Requirement already satisfied: sklearn==0.0 in /usr/local/lib/python3.6/dist-packages (from -r /content/sklearn-audio-transfer-learning/requirements.txt (line 37)) (0.0)\n",
            "Collecting SoundFile==0.10.2\n",
            "  Downloading https://files.pythonhosted.org/packages/68/64/1191352221e2ec90db7492b4bf0c04fd9d2508de67b3f39cbf093cd6bd86/SoundFile-0.10.2-py2.py3-none-any.whl\n",
            "Collecting tensorboard==1.13.1\n",
            "\u001b[?25l  Downloading https://files.pythonhosted.org/packages/0f/39/bdd75b08a6fba41f098b6cb091b9e8c7a80e1b4d679a581a0ccd17b10373/tensorboard-1.13.1-py3-none-any.whl (3.2MB)\n",
            "\u001b[K     |████████████████████████████████| 3.2MB 42.0MB/s \n",
            "\u001b[?25hCollecting tensorflow==1.13.1\n",
            "\u001b[?25l  Downloading https://files.pythonhosted.org/packages/77/63/a9fa76de8dffe7455304c4ed635be4aa9c0bacef6e0633d87d5f54530c5c/tensorflow-1.13.1-cp36-cp36m-manylinux1_x86_64.whl (92.5MB)\n",
            "\u001b[K     |████████████████████████████████| 92.5MB 1.3MB/s \n",
            "\u001b[?25hCollecting tensorflow-estimator==1.13.0\n",
            "\u001b[?25l  Downloading https://files.pythonhosted.org/packages/bb/48/13f49fc3fa0fdf916aa1419013bb8f2ad09674c275b4046d5ee669a46873/tensorflow_estimator-1.13.0-py2.py3-none-any.whl (367kB)\n",
            "\u001b[K     |████████████████████████████████| 368kB 31.9MB/s \n",
            "\u001b[?25hRequirement already satisfied: termcolor==1.1.0 in /usr/local/lib/python3.6/dist-packages (from -r /content/sklearn-audio-transfer-learning/requirements.txt (line 42)) (1.1.0)\n",
            "Collecting tqdm==4.31.1\n",
            "\u001b[?25l  Downloading https://files.pythonhosted.org/packages/6c/4b/c38b5144cf167c4f52288517436ccafefe9dc01b8d1c190e18a6b154cd4a/tqdm-4.31.1-py2.py3-none-any.whl (48kB)\n",
            "\u001b[K     |████████████████████████████████| 51kB 5.0MB/s \n",
            "\u001b[?25hCollecting traitlets==4.3.2\n",
            "\u001b[?25l  Downloading https://files.pythonhosted.org/packages/93/d6/abcb22de61d78e2fc3959c964628a5771e47e7cc60d53e9342e21ed6cc9a/traitlets-4.3.2-py2.py3-none-any.whl (74kB)\n",
            "\u001b[K     |████████████████████████████████| 81kB 7.1MB/s \n",
            "\u001b[?25hCollecting wcwidth==0.1.7\n",
            "  Downloading https://files.pythonhosted.org/packages/7e/9f/526a6947247599b084ee5232e4f9190a38f398d7300d866af3ab571a5bfe/wcwidth-0.1.7-py2.py3-none-any.whl\n",
            "Collecting Werkzeug==0.15.2\n",
            "\u001b[?25l  Downloading https://files.pythonhosted.org/packages/18/79/84f02539cc181cdbf5ff5a41b9f52cae870b6f632767e43ba6ac70132e92/Werkzeug-0.15.2-py2.py3-none-any.whl (328kB)\n",
            "\u001b[K     |████████████████████████████████| 337kB 40.0MB/s \n",
            "\u001b[?25hRequirement already satisfied: setuptools in /usr/local/lib/python3.6/dist-packages (from ipdb==0.12->-r /content/sklearn-audio-transfer-learning/requirements.txt (line 10)) (46.1.3)\n",
            "Requirement already satisfied: wheel>=0.26; python_version >= \"3\" in /usr/local/lib/python3.6/dist-packages (from tensorboard==1.13.1->-r /content/sklearn-audio-transfer-learning/requirements.txt (line 39)) (0.34.2)\n",
            "Building wheels for collected packages: absl-py, gast, ipdb, pycparser, resampy\n",
            "  Building wheel for absl-py (setup.py) ... \u001b[?25l\u001b[?25hdone\n",
            "  Created wheel for absl-py: filename=absl_py-0.7.1-cp36-none-any.whl size=117848 sha256=36f9de8f1b9d368169a56cf5f60f9a366a3a5c08c6603ebcb7f13a5b1ac75e6c\n",
            "  Stored in directory: /root/.cache/pip/wheels/ee/98/38/46cbcc5a93cfea5492d19c38562691ddb23b940176c14f7b48\n",
            "  Building wheel for gast (setup.py) ... \u001b[?25l\u001b[?25hdone\n",
            "  Created wheel for gast: filename=gast-0.2.2-cp36-none-any.whl size=7540 sha256=b113e2ec0e7bcd171b2f5377171a4b9d7d50ac565b05348e05d1ab6ad6f82822\n",
            "  Stored in directory: /root/.cache/pip/wheels/5c/2e/7e/a1d4d4fcebe6c381f378ce7743a3ced3699feb89bcfbdadadd\n",
            "  Building wheel for ipdb (setup.py) ... \u001b[?25l\u001b[?25hdone\n",
            "  Created wheel for ipdb: filename=ipdb-0.12-cp36-none-any.whl size=9038 sha256=d0da40e0faf1af7726610b24974e0e7847d2aea92c93f4844ad998588bf43d71\n",
            "  Stored in directory: /root/.cache/pip/wheels/59/24/91/695211bd228d40fb22dff0ce3f05ba41ab724ab771736233f3\n",
            "  Building wheel for pycparser (setup.py) ... \u001b[?25l\u001b[?25hdone\n",
            "  Created wheel for pycparser: filename=pycparser-2.19-py2.py3-none-any.whl size=111031 sha256=c059d85a299e8cf2a3dcca4156103a49ca16bed7ba28cfd3cac77b73259e6338\n",
            "  Stored in directory: /root/.cache/pip/wheels/f2/9a/90/de94f8556265ddc9d9c8b271b0f63e57b26fb1d67a45564511\n",
            "  Building wheel for resampy (setup.py) ... \u001b[?25l\u001b[?25hdone\n",
            "  Created wheel for resampy: filename=resampy-0.2.1-cp36-none-any.whl size=320850 sha256=9007ad546a289f6e708e83f0572e90729279cb314125ab0ff2a0899ba793322e\n",
            "  Stored in directory: /root/.cache/pip/wheels/ff/4f/ed/2e6c676c23efe5394bb40ade50662e90eb46e29b48324c5f9b\n",
            "Successfully built absl-py gast ipdb pycparser resampy\n",
            "\u001b[31mERROR: umap-learn 0.4.1 has requirement numba!=0.47,>=0.46, but you'll have numba 0.43.1 which is incompatible.\u001b[0m\n",
            "\u001b[31mERROR: tensorflow-probability 0.10.0rc0 has requirement gast>=0.3.2, but you'll have gast 0.2.2 which is incompatible.\u001b[0m\n",
            "\u001b[31mERROR: tensorflow-hub 0.8.0 has requirement protobuf>=3.8.0, but you'll have protobuf 3.7.1 which is incompatible.\u001b[0m\n",
            "\u001b[31mERROR: spacy 2.2.4 has requirement tqdm<5.0.0,>=4.38.0, but you'll have tqdm 4.31.1 which is incompatible.\u001b[0m\n",
            "\u001b[31mERROR: rpy2 3.2.7 has requirement cffi>=1.13.1, but you'll have cffi 1.12.3 which is incompatible.\u001b[0m\n",
            "\u001b[31mERROR: plotnine 0.6.0 has requirement matplotlib>=3.1.1, but you'll have matplotlib 3.0.3 which is incompatible.\u001b[0m\n",
            "\u001b[31mERROR: mizani 0.6.0 has requirement matplotlib>=3.1.1, but you'll have matplotlib 3.0.3 which is incompatible.\u001b[0m\n",
            "\u001b[31mERROR: jupyter-console 5.2.0 has requirement prompt-toolkit<2.0.0,>=1.0.0, but you'll have prompt-toolkit 2.0.9 which is incompatible.\u001b[0m\n",
            "\u001b[31mERROR: google-colab 1.0.0 has requirement ipython~=5.5.0, but you'll have ipython 7.5.0 which is incompatible.\u001b[0m\n",
            "\u001b[31mERROR: datascience 0.10.6 has requirement folium==0.2.1, but you'll have folium 0.8.3 which is incompatible.\u001b[0m\n",
            "\u001b[31mERROR: albumentations 0.1.12 has requirement imgaug<0.2.7,>=0.2.5, but you'll have imgaug 0.2.9 which is incompatible.\u001b[0m\n",
            "Installing collected packages: absl-py, astor, pycparser, cffi, decorator, gast, grpcio, numpy, h5py, wcwidth, prompt-toolkit, parso, jedi, traitlets, pexpect, Pygments, ipython, ipdb, Keras-Applications, Keras-Preprocessing, kiwisolver, llvmlite, Markdown, python-dateutil, pyparsing, matplotlib, mock, numba, protobuf, scipy, resampy, scikit-learn, SoundFile, Werkzeug, tensorboard, tensorflow-estimator, tensorflow, tqdm\n",
            "  Found existing installation: absl-py 0.9.0\n",
            "    Uninstalling absl-py-0.9.0:\n",
            "      Successfully uninstalled absl-py-0.9.0\n",
            "  Found existing installation: astor 0.8.1\n",
            "    Uninstalling astor-0.8.1:\n",
            "      Successfully uninstalled astor-0.8.1\n",
            "  Found existing installation: pycparser 2.20\n",
            "    Uninstalling pycparser-2.20:\n",
            "      Successfully uninstalled pycparser-2.20\n",
            "  Found existing installation: cffi 1.14.0\n",
            "    Uninstalling cffi-1.14.0:\n",
            "      Successfully uninstalled cffi-1.14.0\n",
            "  Found existing installation: decorator 4.4.2\n",
            "    Uninstalling decorator-4.4.2:\n",
            "      Successfully uninstalled decorator-4.4.2\n",
            "  Found existing installation: gast 0.3.3\n",
            "    Uninstalling gast-0.3.3:\n",
            "      Successfully uninstalled gast-0.3.3\n",
            "  Found existing installation: grpcio 1.28.1\n",
            "    Uninstalling grpcio-1.28.1:\n",
            "      Successfully uninstalled grpcio-1.28.1\n",
            "  Found existing installation: numpy 1.18.3\n",
            "    Uninstalling numpy-1.18.3:\n",
            "      Successfully uninstalled numpy-1.18.3\n",
            "  Found existing installation: h5py 2.10.0\n",
            "    Uninstalling h5py-2.10.0:\n",
            "      Successfully uninstalled h5py-2.10.0\n",
            "  Found existing installation: wcwidth 0.1.9\n",
            "    Uninstalling wcwidth-0.1.9:\n",
            "      Successfully uninstalled wcwidth-0.1.9\n",
            "  Found existing installation: prompt-toolkit 1.0.18\n",
            "    Uninstalling prompt-toolkit-1.0.18:\n",
            "      Successfully uninstalled prompt-toolkit-1.0.18\n",
            "  Found existing installation: parso 0.7.0\n",
            "    Uninstalling parso-0.7.0:\n",
            "      Successfully uninstalled parso-0.7.0\n",
            "  Found existing installation: jedi 0.17.0\n",
            "    Uninstalling jedi-0.17.0:\n",
            "      Successfully uninstalled jedi-0.17.0\n",
            "  Found existing installation: traitlets 4.3.3\n",
            "    Uninstalling traitlets-4.3.3:\n",
            "      Successfully uninstalled traitlets-4.3.3\n",
            "  Found existing installation: pexpect 4.8.0\n",
            "    Uninstalling pexpect-4.8.0:\n",
            "      Successfully uninstalled pexpect-4.8.0\n",
            "  Found existing installation: Pygments 2.1.3\n",
            "    Uninstalling Pygments-2.1.3:\n",
            "      Successfully uninstalled Pygments-2.1.3\n",
            "  Found existing installation: ipython 5.5.0\n",
            "    Uninstalling ipython-5.5.0:\n",
            "      Successfully uninstalled ipython-5.5.0\n",
            "  Found existing installation: Keras-Applications 1.0.8\n",
            "    Uninstalling Keras-Applications-1.0.8:\n",
            "      Successfully uninstalled Keras-Applications-1.0.8\n",
            "  Found existing installation: Keras-Preprocessing 1.1.0\n",
            "    Uninstalling Keras-Preprocessing-1.1.0:\n",
            "      Successfully uninstalled Keras-Preprocessing-1.1.0\n",
            "  Found existing installation: kiwisolver 1.2.0\n",
            "    Uninstalling kiwisolver-1.2.0:\n",
            "      Successfully uninstalled kiwisolver-1.2.0\n",
            "  Found existing installation: llvmlite 0.31.0\n",
            "    Uninstalling llvmlite-0.31.0:\n",
            "      Successfully uninstalled llvmlite-0.31.0\n",
            "  Found existing installation: Markdown 3.2.1\n",
            "    Uninstalling Markdown-3.2.1:\n",
            "      Successfully uninstalled Markdown-3.2.1\n",
            "  Found existing installation: python-dateutil 2.8.1\n",
            "    Uninstalling python-dateutil-2.8.1:\n",
            "      Successfully uninstalled python-dateutil-2.8.1\n",
            "  Found existing installation: pyparsing 2.4.7\n",
            "    Uninstalling pyparsing-2.4.7:\n",
            "      Successfully uninstalled pyparsing-2.4.7\n",
            "  Found existing installation: matplotlib 3.2.1\n",
            "    Uninstalling matplotlib-3.2.1:\n",
            "      Successfully uninstalled matplotlib-3.2.1\n",
            "  Found existing installation: numba 0.48.0\n",
            "    Uninstalling numba-0.48.0:\n",
            "      Successfully uninstalled numba-0.48.0\n",
            "  Found existing installation: protobuf 3.10.0\n",
            "    Uninstalling protobuf-3.10.0:\n",
            "      Successfully uninstalled protobuf-3.10.0\n",
            "  Found existing installation: scipy 1.4.1\n",
            "    Uninstalling scipy-1.4.1:\n",
            "      Successfully uninstalled scipy-1.4.1\n",
            "  Found existing installation: resampy 0.2.2\n",
            "    Uninstalling resampy-0.2.2:\n",
            "      Successfully uninstalled resampy-0.2.2\n",
            "  Found existing installation: scikit-learn 0.22.2.post1\n",
            "    Uninstalling scikit-learn-0.22.2.post1:\n",
            "      Successfully uninstalled scikit-learn-0.22.2.post1\n",
            "  Found existing installation: Werkzeug 1.0.1\n",
            "    Uninstalling Werkzeug-1.0.1:\n",
            "      Successfully uninstalled Werkzeug-1.0.1\n",
            "  Found existing installation: tensorboard 2.2.1\n",
            "    Uninstalling tensorboard-2.2.1:\n",
            "      Successfully uninstalled tensorboard-2.2.1\n",
            "  Found existing installation: tensorflow-estimator 2.2.0\n",
            "    Uninstalling tensorflow-estimator-2.2.0:\n",
            "      Successfully uninstalled tensorflow-estimator-2.2.0\n",
            "  Found existing installation: tensorflow 2.2.0rc3\n",
            "    Uninstalling tensorflow-2.2.0rc3:\n",
            "      Successfully uninstalled tensorflow-2.2.0rc3\n",
            "  Found existing installation: tqdm 4.38.0\n",
            "    Uninstalling tqdm-4.38.0:\n",
            "      Successfully uninstalled tqdm-4.38.0\n",
            "Successfully installed Keras-Applications-1.0.7 Keras-Preprocessing-1.0.9 Markdown-3.1 Pygments-2.4.0 SoundFile-0.10.2 Werkzeug-0.15.2 absl-py-0.7.1 astor-0.7.1 cffi-1.12.3 decorator-4.4.0 gast-0.2.2 grpcio-1.20.1 h5py-2.9.0 ipdb-0.12 ipython-7.5.0 jedi-0.13.3 kiwisolver-1.1.0 llvmlite-0.28.0 matplotlib-3.0.3 mock-3.0.5 numba-0.43.1 numpy-1.16.3 parso-0.4.0 pexpect-4.7.0 prompt-toolkit-2.0.9 protobuf-3.7.1 pycparser-2.19 pyparsing-2.4.0 python-dateutil-2.8.0 resampy-0.2.1 scikit-learn-0.20.3 scipy-1.2.1 tensorboard-1.13.1 tensorflow-1.13.1 tensorflow-estimator-1.13.0 tqdm-4.31.1 traitlets-4.3.2 wcwidth-0.1.7\n"
          ],
          "name": "stdout"
        },
        {
          "output_type": "display_data",
          "data": {
            "application/vnd.colab-display-data+json": {
              "pip_warning": {
                "packages": [
                  "IPython",
                  "cffi",
                  "dateutil",
                  "decorator",
                  "google",
                  "grpc",
                  "kiwisolver",
                  "matplotlib",
                  "mpl_toolkits",
                  "numpy",
                  "pexpect",
                  "prompt_toolkit",
                  "pygments",
                  "pyparsing",
                  "tqdm",
                  "traitlets",
                  "wcwidth"
                ]
              }
            }
          },
          "metadata": {
            "tags": []
          }
        }
      ]
    },
    {
      "cell_type": "code",
      "metadata": {
        "id": "3j5z2cvYipUb",
        "colab_type": "code",
        "outputId": "3739d5b2-0664-4035-88c1-e7bd9d14aa17",
        "colab": {
          "base_uri": "https://localhost:8080/",
          "height": 232
        }
      },
      "source": [
        "# VGGish: download the pre-trained model\n",
        "!wget https://storage.googleapis.com/audioset/vggish_model.ckpt -P /content/sklearn-audio-transfer-learning/src/"
      ],
      "execution_count": 8,
      "outputs": [
        {
          "output_type": "stream",
          "text": [
            "--2020-05-02 09:09:00--  https://storage.googleapis.com/audioset/vggish_model.ckpt\n",
            "Resolving storage.googleapis.com (storage.googleapis.com)... 64.233.189.128, 2404:6800:4008:c02::80\n",
            "Connecting to storage.googleapis.com (storage.googleapis.com)|64.233.189.128|:443... connected.\n",
            "HTTP request sent, awaiting response... 200 OK\n",
            "Length: 291108469 (278M) [application/octet-stream]\n",
            "Saving to: ‘/content/sklearn-audio-transfer-learning/src/vggish_model.ckpt’\n",
            "\n",
            "vggish_model.ckpt   100%[===================>] 277.62M  32.0MB/s    in 9.2s    \n",
            "\n",
            "2020-05-02 09:09:10 (30.2 MB/s) - ‘/content/sklearn-audio-transfer-learning/src/vggish_model.ckpt’ saved [291108469/291108469]\n",
            "\n"
          ],
          "name": "stdout"
        }
      ]
    },
    {
      "cell_type": "code",
      "metadata": {
        "id": "_tGAhmvjjkCg",
        "colab_type": "code",
        "outputId": "87a2a3bd-5184-4a2d-806a-d1bdbec8b315",
        "colab": {
          "base_uri": "https://localhost:8080/",
          "height": 1000
        }
      },
      "source": [
        "!pip install --timeout 100000000 openl3"
      ],
      "execution_count": 9,
      "outputs": [
        {
          "output_type": "stream",
          "text": [
            "Collecting openl3\n",
            "  Downloading https://files.pythonhosted.org/packages/e2/88/8536723b81c47ada614d008a75e71923932f22e35ab89d4bf5fe441b58fc/openl3-0.3.1.tar.gz\n",
            "Collecting keras<2.3.0,>=2.0.9\n",
            "\u001b[?25l  Downloading https://files.pythonhosted.org/packages/f8/ba/2d058dcf1b85b9c212cc58264c98a4a7dd92c989b798823cc5690d062bb2/Keras-2.2.5-py2.py3-none-any.whl (336kB)\n",
            "\u001b[K     |████████████████████████████████| 337kB 4.0MB/s \n",
            "\u001b[?25hRequirement already satisfied: numpy>=1.13.0 in /usr/local/lib/python3.6/dist-packages (from openl3) (1.16.3)\n",
            "Requirement already satisfied: scipy>=0.19.1 in /usr/local/lib/python3.6/dist-packages (from openl3) (1.2.1)\n",
            "Collecting kapre==0.1.4\n",
            "  Downloading https://files.pythonhosted.org/packages/3f/2e/f540d1d1f05c764686163fdb5bb1e5c703f1528076d2829bfc3900683f06/kapre-0.1.4-py3-none-any.whl\n",
            "Collecting PySoundFile>=0.9.0.post1\n",
            "  Downloading https://files.pythonhosted.org/packages/2a/b3/0b871e5fd31b9a8e54b4ee359384e705a1ca1e2870706d2f081dc7cc1693/PySoundFile-0.9.0.post1-py2.py3-none-any.whl\n",
            "Requirement already satisfied: resampy<0.3.0,>=0.2.1 in /usr/local/lib/python3.6/dist-packages (from openl3) (0.2.1)\n",
            "Requirement already satisfied: h5py<3.0.0,>=2.7.0 in /usr/local/lib/python3.6/dist-packages (from openl3) (2.9.0)\n",
            "Collecting moviepy>=1.0.0\n",
            "\u001b[?25l  Downloading https://files.pythonhosted.org/packages/71/64/e7f0876716d5c35612bf8e9e49299d0f491285f10f36cbb481556ab0062b/moviepy-1.0.2.tar.gz (7.8MB)\n",
            "\u001b[K     |████████████████████████████████| 7.9MB 11.7MB/s \n",
            "\u001b[?25hCollecting scikit-image<0.15.0,>=0.14.3\n",
            "\u001b[?25l  Downloading https://files.pythonhosted.org/packages/27/78/cfb15cdb3f63eea16946a42d0dbf7ef17be79d30858aa8efd5f6757bd106/scikit_image-0.14.5-cp36-cp36m-manylinux1_x86_64.whl (25.4MB)\n",
            "\u001b[K     |████████████████████████████████| 25.4MB 110kB/s \n",
            "\u001b[?25hCollecting keras-applications>=1.0.8\n",
            "\u001b[?25l  Downloading https://files.pythonhosted.org/packages/71/e3/19762fdfc62877ae9102edf6342d71b28fbfd9dea3d2f96a882ce099b03f/Keras_Applications-1.0.8-py3-none-any.whl (50kB)\n",
            "\u001b[K     |████████████████████████████████| 51kB 7.5MB/s \n",
            "\u001b[?25hCollecting keras-preprocessing>=1.1.0\n",
            "\u001b[?25l  Downloading https://files.pythonhosted.org/packages/28/6a/8c1f62c37212d9fc441a7e26736df51ce6f0e38455816445471f10da4f0a/Keras_Preprocessing-1.1.0-py2.py3-none-any.whl (41kB)\n",
            "\u001b[K     |████████████████████████████████| 51kB 7.9MB/s \n",
            "\u001b[?25hRequirement already satisfied: pyyaml in /usr/local/lib/python3.6/dist-packages (from keras<2.3.0,>=2.0.9->openl3) (3.13)\n",
            "Requirement already satisfied: six>=1.9.0 in /usr/local/lib/python3.6/dist-packages (from keras<2.3.0,>=2.0.9->openl3) (1.12.0)\n",
            "Requirement already satisfied: librosa>=0.5 in /usr/local/lib/python3.6/dist-packages (from kapre==0.1.4->openl3) (0.6.3)\n",
            "Requirement already satisfied: future in /usr/local/lib/python3.6/dist-packages (from kapre==0.1.4->openl3) (0.16.0)\n",
            "Requirement already satisfied: cffi>=0.6 in /usr/local/lib/python3.6/dist-packages (from PySoundFile>=0.9.0.post1->openl3) (1.12.3)\n",
            "Requirement already satisfied: numba>=0.32 in /usr/local/lib/python3.6/dist-packages (from resampy<0.3.0,>=0.2.1->openl3) (0.43.1)\n",
            "Requirement already satisfied: decorator<5.0,>=4.0.2 in /usr/local/lib/python3.6/dist-packages (from moviepy>=1.0.0->openl3) (4.4.0)\n",
            "Requirement already satisfied: tqdm<5.0,>=4.11.2 in /usr/local/lib/python3.6/dist-packages (from moviepy>=1.0.0->openl3) (4.31.1)\n",
            "Requirement already satisfied: requests<3.0,>=2.8.1 in /usr/local/lib/python3.6/dist-packages (from moviepy>=1.0.0->openl3) (2.23.0)\n",
            "Collecting proglog<=1.0.0\n",
            "  Downloading https://files.pythonhosted.org/packages/fe/ab/4cb19b578e1364c0b2d6efd6521a8b4b4e5c4ae6528041d31a2a951dd991/proglog-0.1.9.tar.gz\n",
            "Collecting imageio<3.0,>=2.5\n",
            "\u001b[?25l  Downloading https://files.pythonhosted.org/packages/4c/2b/9dd19644f871b10f7e32eb2dbd6b45149c350b4d5f2893e091b882e03ab7/imageio-2.8.0-py3-none-any.whl (3.3MB)\n",
            "\u001b[K     |████████████████████████████████| 3.3MB 47.3MB/s \n",
            "\u001b[?25hCollecting imageio_ffmpeg>=0.2.0\n",
            "\u001b[?25l  Downloading https://files.pythonhosted.org/packages/0a/45/2472071095310b3e92010c051cbd2e3c655247ad9090851a86b8bfdcfbc5/imageio_ffmpeg-0.4.1-py3-none-manylinux2010_x86_64.whl (22.2MB)\n",
            "\u001b[K     |████████████████████████████████| 22.2MB 1.5MB/s \n",
            "\u001b[?25hRequirement already satisfied: PyWavelets>=0.4.0 in /usr/local/lib/python3.6/dist-packages (from scikit-image<0.15.0,>=0.14.3->openl3) (1.1.1)\n",
            "Requirement already satisfied: matplotlib>=2.0.0 in /usr/local/lib/python3.6/dist-packages (from scikit-image<0.15.0,>=0.14.3->openl3) (3.0.3)\n",
            "Requirement already satisfied: cloudpickle>=0.2.1 in /usr/local/lib/python3.6/dist-packages (from scikit-image<0.15.0,>=0.14.3->openl3) (1.3.0)\n",
            "Requirement already satisfied: networkx>=1.8 in /usr/local/lib/python3.6/dist-packages (from scikit-image<0.15.0,>=0.14.3->openl3) (2.4)\n",
            "Requirement already satisfied: pillow>=4.3.0 in /usr/local/lib/python3.6/dist-packages (from scikit-image<0.15.0,>=0.14.3->openl3) (7.0.0)\n",
            "Requirement already satisfied: audioread>=2.0.0 in /usr/local/lib/python3.6/dist-packages (from librosa>=0.5->kapre==0.1.4->openl3) (2.1.8)\n",
            "Requirement already satisfied: scikit-learn!=0.19.0,>=0.14.0 in /usr/local/lib/python3.6/dist-packages (from librosa>=0.5->kapre==0.1.4->openl3) (0.20.3)\n",
            "Requirement already satisfied: joblib>=0.12 in /usr/local/lib/python3.6/dist-packages (from librosa>=0.5->kapre==0.1.4->openl3) (0.14.1)\n",
            "Requirement already satisfied: pycparser in /usr/local/lib/python3.6/dist-packages (from cffi>=0.6->PySoundFile>=0.9.0.post1->openl3) (2.19)\n",
            "Requirement already satisfied: llvmlite>=0.28.0dev0 in /usr/local/lib/python3.6/dist-packages (from numba>=0.32->resampy<0.3.0,>=0.2.1->openl3) (0.28.0)\n",
            "Requirement already satisfied: chardet<4,>=3.0.2 in /usr/local/lib/python3.6/dist-packages (from requests<3.0,>=2.8.1->moviepy>=1.0.0->openl3) (3.0.4)\n",
            "Requirement already satisfied: certifi>=2017.4.17 in /usr/local/lib/python3.6/dist-packages (from requests<3.0,>=2.8.1->moviepy>=1.0.0->openl3) (2020.4.5.1)\n",
            "Requirement already satisfied: urllib3!=1.25.0,!=1.25.1,<1.26,>=1.21.1 in /usr/local/lib/python3.6/dist-packages (from requests<3.0,>=2.8.1->moviepy>=1.0.0->openl3) (1.24.3)\n",
            "Requirement already satisfied: idna<3,>=2.5 in /usr/local/lib/python3.6/dist-packages (from requests<3.0,>=2.8.1->moviepy>=1.0.0->openl3) (2.9)\n",
            "Requirement already satisfied: pyparsing!=2.0.4,!=2.1.2,!=2.1.6,>=2.0.1 in /usr/local/lib/python3.6/dist-packages (from matplotlib>=2.0.0->scikit-image<0.15.0,>=0.14.3->openl3) (2.4.0)\n",
            "Requirement already satisfied: cycler>=0.10 in /usr/local/lib/python3.6/dist-packages (from matplotlib>=2.0.0->scikit-image<0.15.0,>=0.14.3->openl3) (0.10.0)\n",
            "Requirement already satisfied: python-dateutil>=2.1 in /usr/local/lib/python3.6/dist-packages (from matplotlib>=2.0.0->scikit-image<0.15.0,>=0.14.3->openl3) (2.8.0)\n",
            "Requirement already satisfied: kiwisolver>=1.0.1 in /usr/local/lib/python3.6/dist-packages (from matplotlib>=2.0.0->scikit-image<0.15.0,>=0.14.3->openl3) (1.1.0)\n",
            "Requirement already satisfied: setuptools in /usr/local/lib/python3.6/dist-packages (from kiwisolver>=1.0.1->matplotlib>=2.0.0->scikit-image<0.15.0,>=0.14.3->openl3) (46.1.3)\n",
            "Building wheels for collected packages: openl3, moviepy, proglog\n",
            "  Building wheel for openl3 (setup.py) ... \u001b[?25l\u001b[?25hdone\n",
            "  Created wheel for openl3: filename=openl3-0.3.1-py2.py3-none-any.whl size=249323247 sha256=67ae3ac0adb006830effa2702e0f86ba90bcc2943926a82f049014b25654ddeb\n",
            "  Stored in directory: /root/.cache/pip/wheels/13/63/c9/35868f3dd3b466909e73178db8566430da2d093cc055b932b1\n",
            "  Building wheel for moviepy (setup.py) ... \u001b[?25l\u001b[?25hdone\n",
            "  Created wheel for moviepy: filename=moviepy-1.0.2-cp36-none-any.whl size=110730 sha256=776a9ff902ab5938875a2819a81d0e0ba883e5d6696e6506f45e87fb38c51c4d\n",
            "  Stored in directory: /root/.cache/pip/wheels/20/49/a9/770a9a22e7a020d796ab3784d2dc4839e38450a1ac87e6106f\n",
            "  Building wheel for proglog (setup.py) ... \u001b[?25l\u001b[?25hdone\n",
            "  Created wheel for proglog: filename=proglog-0.1.9-cp36-none-any.whl size=6149 sha256=dfc6b347a23a9e26efb42d982183c7c9cd2dbc4f7a602723116ae4601d0691bd\n",
            "  Stored in directory: /root/.cache/pip/wheels/65/56/60/1d0306a8d90b188af393c1812ddb502a8821b70917f82dcc00\n",
            "Successfully built openl3 moviepy proglog\n",
            "\u001b[31mERROR: moviepy 1.0.2 has requirement numpy>=1.17.3; python_version != \"2.7\", but you'll have numpy 1.16.3 which is incompatible.\u001b[0m\n",
            "\u001b[31mERROR: albumentations 0.1.12 has requirement imgaug<0.2.7,>=0.2.5, but you'll have imgaug 0.2.9 which is incompatible.\u001b[0m\n",
            "Installing collected packages: keras-applications, keras-preprocessing, keras, kapre, PySoundFile, proglog, imageio, imageio-ffmpeg, moviepy, scikit-image, openl3\n",
            "  Found existing installation: Keras-Applications 1.0.7\n",
            "    Uninstalling Keras-Applications-1.0.7:\n",
            "      Successfully uninstalled Keras-Applications-1.0.7\n",
            "  Found existing installation: Keras-Preprocessing 1.0.9\n",
            "    Uninstalling Keras-Preprocessing-1.0.9:\n",
            "      Successfully uninstalled Keras-Preprocessing-1.0.9\n",
            "  Found existing installation: Keras 2.3.1\n",
            "    Uninstalling Keras-2.3.1:\n",
            "      Successfully uninstalled Keras-2.3.1\n",
            "  Found existing installation: kapre 0.1.3.1\n",
            "    Uninstalling kapre-0.1.3.1:\n",
            "      Successfully uninstalled kapre-0.1.3.1\n",
            "  Found existing installation: imageio 2.4.1\n",
            "    Uninstalling imageio-2.4.1:\n",
            "      Successfully uninstalled imageio-2.4.1\n",
            "  Found existing installation: moviepy 0.2.3.5\n",
            "    Uninstalling moviepy-0.2.3.5:\n",
            "      Successfully uninstalled moviepy-0.2.3.5\n",
            "  Found existing installation: scikit-image 0.16.2\n",
            "    Uninstalling scikit-image-0.16.2:\n",
            "      Successfully uninstalled scikit-image-0.16.2\n",
            "Successfully installed PySoundFile-0.9.0.post1 imageio-2.8.0 imageio-ffmpeg-0.4.1 kapre-0.1.4 keras-2.2.5 keras-applications-1.0.8 keras-preprocessing-1.1.0 moviepy-1.0.2 openl3-0.3.1 proglog-0.1.9 scikit-image-0.14.5\n"
          ],
          "name": "stdout"
        }
      ]
    },
    {
      "cell_type": "code",
      "metadata": {
        "id": "oOaLZvREj4DQ",
        "colab_type": "code",
        "outputId": "090f7149-629b-4545-c617-74ca7dd1c846",
        "colab": {
          "base_uri": "https://localhost:8080/",
          "height": 1000
        }
      },
      "source": [
        "!pip install musicnn"
      ],
      "execution_count": 10,
      "outputs": [
        {
          "output_type": "stream",
          "text": [
            "Collecting musicnn\n",
            "\u001b[?25l  Downloading https://files.pythonhosted.org/packages/1b/6f/38229e7d99c438e11114bbfa39c8c39185458c398011d0b6d7d7c7401617/musicnn-0.1.0-py3-none-any.whl (29.3MB)\n",
            "\u001b[K     |████████████████████████████████| 29.3MB 160kB/s \n",
            "\u001b[?25hCollecting tensorflow>=1.14\n",
            "\u001b[?25l  Downloading https://files.pythonhosted.org/packages/85/d4/c0cd1057b331bc38b65478302114194bd8e1b9c2bbc06e300935c0e93d90/tensorflow-2.1.0-cp36-cp36m-manylinux2010_x86_64.whl (421.8MB)\n",
            "\u001b[K     |████████████████████████████████| 421.8MB 28kB/s \n",
            "\u001b[?25hCollecting librosa>=0.7.0\n",
            "\u001b[?25l  Downloading https://files.pythonhosted.org/packages/77/b5/1817862d64a7c231afd15419d8418ae1f000742cac275e85c74b219cbccb/librosa-0.7.2.tar.gz (1.6MB)\n",
            "\u001b[K     |████████████████████████████████| 1.6MB 48.3MB/s \n",
            "\u001b[?25hRequirement already satisfied: numpy<1.17,>=1.14.5 in /usr/local/lib/python3.6/dist-packages (from musicnn) (1.16.3)\n",
            "Requirement already satisfied: gast==0.2.2 in /usr/local/lib/python3.6/dist-packages (from tensorflow>=1.14->musicnn) (0.2.2)\n",
            "Requirement already satisfied: absl-py>=0.7.0 in /usr/local/lib/python3.6/dist-packages (from tensorflow>=1.14->musicnn) (0.7.1)\n",
            "Collecting protobuf>=3.8.0\n",
            "\u001b[?25l  Downloading https://files.pythonhosted.org/packages/57/02/5432412c162989260fab61fa65e0a490c1872739eb91a659896e4d554b26/protobuf-3.11.3-cp36-cp36m-manylinux1_x86_64.whl (1.3MB)\n",
            "\u001b[K     |████████████████████████████████| 1.3MB 37.6MB/s \n",
            "\u001b[?25hRequirement already satisfied: opt-einsum>=2.3.2 in /usr/local/lib/python3.6/dist-packages (from tensorflow>=1.14->musicnn) (3.2.1)\n",
            "Requirement already satisfied: six>=1.12.0 in /usr/local/lib/python3.6/dist-packages (from tensorflow>=1.14->musicnn) (1.12.0)\n",
            "Requirement already satisfied: wheel>=0.26; python_version >= \"3\" in /usr/local/lib/python3.6/dist-packages (from tensorflow>=1.14->musicnn) (0.34.2)\n",
            "Requirement already satisfied: astor>=0.6.0 in /usr/local/lib/python3.6/dist-packages (from tensorflow>=1.14->musicnn) (0.7.1)\n",
            "Requirement already satisfied: keras-applications>=1.0.8 in /usr/local/lib/python3.6/dist-packages (from tensorflow>=1.14->musicnn) (1.0.8)\n",
            "Requirement already satisfied: google-pasta>=0.1.6 in /usr/local/lib/python3.6/dist-packages (from tensorflow>=1.14->musicnn) (0.2.0)\n",
            "Requirement already satisfied: grpcio>=1.8.6 in /usr/local/lib/python3.6/dist-packages (from tensorflow>=1.14->musicnn) (1.20.1)\n",
            "Collecting scipy==1.4.1; python_version >= \"3\"\n",
            "\u001b[?25l  Downloading https://files.pythonhosted.org/packages/dc/29/162476fd44203116e7980cfbd9352eef9db37c49445d1fec35509022f6aa/scipy-1.4.1-cp36-cp36m-manylinux1_x86_64.whl (26.1MB)\n",
            "\u001b[K     |████████████████████████████████| 26.1MB 29.9MB/s \n",
            "\u001b[?25hCollecting tensorboard<2.2.0,>=2.1.0\n",
            "\u001b[?25l  Downloading https://files.pythonhosted.org/packages/d9/41/bbf49b61370e4f4d245d4c6051dfb6db80cec672605c91b1652ac8cc3d38/tensorboard-2.1.1-py3-none-any.whl (3.8MB)\n",
            "\u001b[K     |████████████████████████████████| 3.9MB 40.3MB/s \n",
            "\u001b[?25hRequirement already satisfied: keras-preprocessing>=1.1.0 in /usr/local/lib/python3.6/dist-packages (from tensorflow>=1.14->musicnn) (1.1.0)\n",
            "Requirement already satisfied: termcolor>=1.1.0 in /usr/local/lib/python3.6/dist-packages (from tensorflow>=1.14->musicnn) (1.1.0)\n",
            "Requirement already satisfied: wrapt>=1.11.1 in /usr/local/lib/python3.6/dist-packages (from tensorflow>=1.14->musicnn) (1.12.1)\n",
            "Collecting tensorflow-estimator<2.2.0,>=2.1.0rc0\n",
            "\u001b[?25l  Downloading https://files.pythonhosted.org/packages/18/90/b77c328a1304437ab1310b463e533fa7689f4bfc41549593056d812fab8e/tensorflow_estimator-2.1.0-py2.py3-none-any.whl (448kB)\n",
            "\u001b[K     |████████████████████████████████| 450kB 41.8MB/s \n",
            "\u001b[?25hRequirement already satisfied: audioread>=2.0.0 in /usr/local/lib/python3.6/dist-packages (from librosa>=0.7.0->musicnn) (2.1.8)\n",
            "Requirement already satisfied: scikit-learn!=0.19.0,>=0.14.0 in /usr/local/lib/python3.6/dist-packages (from librosa>=0.7.0->musicnn) (0.20.3)\n",
            "Requirement already satisfied: joblib>=0.12 in /usr/local/lib/python3.6/dist-packages (from librosa>=0.7.0->musicnn) (0.14.1)\n",
            "Requirement already satisfied: decorator>=3.0.0 in /usr/local/lib/python3.6/dist-packages (from librosa>=0.7.0->musicnn) (4.4.0)\n",
            "Collecting resampy>=0.2.2\n",
            "\u001b[?25l  Downloading https://files.pythonhosted.org/packages/79/75/e22272b9c2185fc8f3af6ce37229708b45e8b855fd4bc38b4d6b040fff65/resampy-0.2.2.tar.gz (323kB)\n",
            "\u001b[K     |████████████████████████████████| 327kB 42.0MB/s \n",
            "\u001b[?25hRequirement already satisfied: numba>=0.43.0 in /usr/local/lib/python3.6/dist-packages (from librosa>=0.7.0->musicnn) (0.43.1)\n",
            "Requirement already satisfied: soundfile>=0.9.0 in /usr/local/lib/python3.6/dist-packages (from librosa>=0.7.0->musicnn) (0.10.2)\n",
            "Requirement already satisfied: setuptools in /usr/local/lib/python3.6/dist-packages (from protobuf>=3.8.0->tensorflow>=1.14->musicnn) (46.1.3)\n",
            "Requirement already satisfied: h5py in /usr/local/lib/python3.6/dist-packages (from keras-applications>=1.0.8->tensorflow>=1.14->musicnn) (2.9.0)\n",
            "Requirement already satisfied: markdown>=2.6.8 in /usr/local/lib/python3.6/dist-packages (from tensorboard<2.2.0,>=2.1.0->tensorflow>=1.14->musicnn) (3.1)\n",
            "Requirement already satisfied: werkzeug>=0.11.15 in /usr/local/lib/python3.6/dist-packages (from tensorboard<2.2.0,>=2.1.0->tensorflow>=1.14->musicnn) (0.15.2)\n",
            "Requirement already satisfied: requests<3,>=2.21.0 in /usr/local/lib/python3.6/dist-packages (from tensorboard<2.2.0,>=2.1.0->tensorflow>=1.14->musicnn) (2.23.0)\n",
            "Requirement already satisfied: google-auth-oauthlib<0.5,>=0.4.1 in /usr/local/lib/python3.6/dist-packages (from tensorboard<2.2.0,>=2.1.0->tensorflow>=1.14->musicnn) (0.4.1)\n",
            "Requirement already satisfied: google-auth<2,>=1.6.3 in /usr/local/lib/python3.6/dist-packages (from tensorboard<2.2.0,>=2.1.0->tensorflow>=1.14->musicnn) (1.7.2)\n",
            "Requirement already satisfied: llvmlite>=0.28.0dev0 in /usr/local/lib/python3.6/dist-packages (from numba>=0.43.0->librosa>=0.7.0->musicnn) (0.28.0)\n",
            "Requirement already satisfied: cffi>=1.0 in /usr/local/lib/python3.6/dist-packages (from soundfile>=0.9.0->librosa>=0.7.0->musicnn) (1.12.3)\n",
            "Requirement already satisfied: chardet<4,>=3.0.2 in /usr/local/lib/python3.6/dist-packages (from requests<3,>=2.21.0->tensorboard<2.2.0,>=2.1.0->tensorflow>=1.14->musicnn) (3.0.4)\n",
            "Requirement already satisfied: idna<3,>=2.5 in /usr/local/lib/python3.6/dist-packages (from requests<3,>=2.21.0->tensorboard<2.2.0,>=2.1.0->tensorflow>=1.14->musicnn) (2.9)\n",
            "Requirement already satisfied: urllib3!=1.25.0,!=1.25.1,<1.26,>=1.21.1 in /usr/local/lib/python3.6/dist-packages (from requests<3,>=2.21.0->tensorboard<2.2.0,>=2.1.0->tensorflow>=1.14->musicnn) (1.24.3)\n",
            "Requirement already satisfied: certifi>=2017.4.17 in /usr/local/lib/python3.6/dist-packages (from requests<3,>=2.21.0->tensorboard<2.2.0,>=2.1.0->tensorflow>=1.14->musicnn) (2020.4.5.1)\n",
            "Requirement already satisfied: requests-oauthlib>=0.7.0 in /usr/local/lib/python3.6/dist-packages (from google-auth-oauthlib<0.5,>=0.4.1->tensorboard<2.2.0,>=2.1.0->tensorflow>=1.14->musicnn) (1.3.0)\n",
            "Requirement already satisfied: pyasn1-modules>=0.2.1 in /usr/local/lib/python3.6/dist-packages (from google-auth<2,>=1.6.3->tensorboard<2.2.0,>=2.1.0->tensorflow>=1.14->musicnn) (0.2.8)\n",
            "Requirement already satisfied: cachetools<3.2,>=2.0.0 in /usr/local/lib/python3.6/dist-packages (from google-auth<2,>=1.6.3->tensorboard<2.2.0,>=2.1.0->tensorflow>=1.14->musicnn) (3.1.1)\n",
            "Requirement already satisfied: rsa<4.1,>=3.1.4 in /usr/local/lib/python3.6/dist-packages (from google-auth<2,>=1.6.3->tensorboard<2.2.0,>=2.1.0->tensorflow>=1.14->musicnn) (4.0)\n",
            "Requirement already satisfied: pycparser in /usr/local/lib/python3.6/dist-packages (from cffi>=1.0->soundfile>=0.9.0->librosa>=0.7.0->musicnn) (2.19)\n",
            "Requirement already satisfied: oauthlib>=3.0.0 in /usr/local/lib/python3.6/dist-packages (from requests-oauthlib>=0.7.0->google-auth-oauthlib<0.5,>=0.4.1->tensorboard<2.2.0,>=2.1.0->tensorflow>=1.14->musicnn) (3.1.0)\n",
            "Requirement already satisfied: pyasn1<0.5.0,>=0.4.6 in /usr/local/lib/python3.6/dist-packages (from pyasn1-modules>=0.2.1->google-auth<2,>=1.6.3->tensorboard<2.2.0,>=2.1.0->tensorflow>=1.14->musicnn) (0.4.8)\n",
            "Building wheels for collected packages: librosa, resampy\n",
            "  Building wheel for librosa (setup.py) ... \u001b[?25l\u001b[?25hdone\n",
            "  Created wheel for librosa: filename=librosa-0.7.2-cp36-none-any.whl size=1612885 sha256=89764dad49159c0eee2d7c9d6a50f945a95463f6283b32669043ed6ac121e83a\n",
            "  Stored in directory: /root/.cache/pip/wheels/4c/6e/d7/bb93911540d2d1e44d690a1561871e5b6af82b69e80938abef\n",
            "  Building wheel for resampy (setup.py) ... \u001b[?25l\u001b[?25hdone\n",
            "  Created wheel for resampy: filename=resampy-0.2.2-cp36-none-any.whl size=320720 sha256=6284be2d5b3bb17f50309271bd1bbac0b610125e9197ff1220930b5f1187a112\n",
            "  Stored in directory: /root/.cache/pip/wheels/fa/c1/56/e0e12c6f7f3d2cdea9712b35136a2d40a7817c6210ec096485\n",
            "Successfully built librosa resampy\n",
            "\u001b[31mERROR: umap-learn 0.4.1 has requirement numba!=0.47,>=0.46, but you'll have numba 0.43.1 which is incompatible.\u001b[0m\n",
            "\u001b[31mERROR: tensorboard 2.1.1 has requirement grpcio>=1.24.3, but you'll have grpcio 1.20.1 which is incompatible.\u001b[0m\n",
            "\u001b[31mERROR: plotnine 0.6.0 has requirement matplotlib>=3.1.1, but you'll have matplotlib 3.0.3 which is incompatible.\u001b[0m\n",
            "\u001b[31mERROR: albumentations 0.1.12 has requirement imgaug<0.2.7,>=0.2.5, but you'll have imgaug 0.2.9 which is incompatible.\u001b[0m\n",
            "Installing collected packages: protobuf, scipy, tensorboard, tensorflow-estimator, tensorflow, resampy, librosa, musicnn\n",
            "  Found existing installation: protobuf 3.7.1\n",
            "    Uninstalling protobuf-3.7.1:\n",
            "      Successfully uninstalled protobuf-3.7.1\n",
            "  Found existing installation: scipy 1.2.1\n",
            "    Uninstalling scipy-1.2.1:\n",
            "      Successfully uninstalled scipy-1.2.1\n",
            "  Found existing installation: tensorboard 1.13.1\n",
            "    Uninstalling tensorboard-1.13.1:\n",
            "      Successfully uninstalled tensorboard-1.13.1\n",
            "  Found existing installation: tensorflow-estimator 1.13.0\n",
            "    Uninstalling tensorflow-estimator-1.13.0:\n",
            "      Successfully uninstalled tensorflow-estimator-1.13.0\n",
            "  Found existing installation: tensorflow 1.13.1\n",
            "    Uninstalling tensorflow-1.13.1:\n",
            "      Successfully uninstalled tensorflow-1.13.1\n",
            "  Found existing installation: resampy 0.2.1\n",
            "    Uninstalling resampy-0.2.1:\n",
            "      Successfully uninstalled resampy-0.2.1\n",
            "  Found existing installation: librosa 0.6.3\n",
            "    Uninstalling librosa-0.6.3:\n",
            "      Successfully uninstalled librosa-0.6.3\n",
            "Successfully installed librosa-0.7.2 musicnn-0.1.0 protobuf-3.11.3 resampy-0.2.2 scipy-1.4.1 tensorboard-2.1.1 tensorflow-2.1.0 tensorflow-estimator-2.1.0\n"
          ],
          "name": "stdout"
        },
        {
          "output_type": "display_data",
          "data": {
            "application/vnd.colab-display-data+json": {
              "pip_warning": {
                "packages": [
                  "google"
                ]
              }
            }
          },
          "metadata": {
            "tags": []
          }
        }
      ]
    },
    {
      "cell_type": "markdown",
      "metadata": {
        "id": "r8XiuOt1kTWz",
        "colab_type": "text"
      },
      "source": [
        "# Music genre classification: a toy example"
      ]
    },
    {
      "cell_type": "code",
      "metadata": {
        "id": "f09XGO3Akeg_",
        "colab_type": "code",
        "outputId": "a3085eb7-4d54-45fc-cc69-1c1a425edde7",
        "colab": {
          "base_uri": "https://localhost:8080/",
          "height": 212
        }
      },
      "source": [
        "!wget http://opihi.cs.uvic.ca/sound/genres.tar.gz"
      ],
      "execution_count": 1,
      "outputs": [
        {
          "output_type": "stream",
          "text": [
            "--2020-05-02 09:13:37--  http://opihi.cs.uvic.ca/sound/genres.tar.gz\n",
            "Resolving opihi.cs.uvic.ca (opihi.cs.uvic.ca)... 142.104.68.135\n",
            "Connecting to opihi.cs.uvic.ca (opihi.cs.uvic.ca)|142.104.68.135|:80... connected.\n",
            "HTTP request sent, awaiting response... 200 OK\n",
            "Length: 1225571541 (1.1G) [application/x-gzip]\n",
            "Saving to: ‘genres.tar.gz.1’\n",
            "\n",
            "genres.tar.gz.1     100%[===================>]   1.14G   988KB/s    in 21m 19s \n",
            "\n",
            "2020-05-02 09:34:57 (936 KB/s) - ‘genres.tar.gz.1’ saved [1225571541/1225571541]\n",
            "\n"
          ],
          "name": "stdout"
        }
      ]
    },
    {
      "cell_type": "code",
      "metadata": {
        "id": "3zTM9k_nllxA",
        "colab_type": "code",
        "outputId": "bd61e36b-3fb7-41a6-c9db-dffcaaffdaa6",
        "colab": {
          "base_uri": "https://localhost:8080/",
          "height": 1000
        }
      },
      "source": [
        "!tar -zxvf genres.tar.gz -C /content/sklearn-audio-transfer-learning/data/audio/GTZAN/"
      ],
      "execution_count": 2,
      "outputs": [
        {
          "output_type": "stream",
          "text": [
            "genres/\n",
            "genres/bextract_single.mf\n",
            "genres/bl.mf\n",
            "genres/blues/\n",
            "genres/cl.mf\n",
            "genres/classical/\n",
            "genres/co.mf\n",
            "genres/country/\n",
            "genres/di.mf\n",
            "genres/disco/\n",
            "genres/hi.mf\n",
            "genres/hiphop/\n",
            "genres/input.mf\n",
            "genres/ja.mf\n",
            "genres/jazz/\n",
            "genres/me.mf\n",
            "genres/metal/\n",
            "genres/po.mf\n",
            "genres/pop/\n",
            "genres/re.mf\n",
            "genres/reggae/\n",
            "genres/ro.mf\n",
            "genres/rock/\n",
            "genres/rock/rock.00000.wav\n",
            "genres/rock/rock.00001.wav\n",
            "genres/rock/rock.00002.wav\n",
            "genres/rock/rock.00003.wav\n",
            "genres/rock/rock.00004.wav\n",
            "genres/rock/rock.00005.wav\n",
            "genres/rock/rock.00006.wav\n",
            "genres/rock/rock.00007.wav\n",
            "genres/rock/rock.00008.wav\n",
            "genres/rock/rock.00009.wav\n",
            "genres/rock/rock.00010.wav\n",
            "genres/rock/rock.00011.wav\n",
            "genres/rock/rock.00012.wav\n",
            "genres/rock/rock.00013.wav\n",
            "genres/rock/rock.00014.wav\n",
            "genres/rock/rock.00015.wav\n",
            "genres/rock/rock.00016.wav\n",
            "genres/rock/rock.00017.wav\n",
            "genres/rock/rock.00018.wav\n",
            "genres/rock/rock.00019.wav\n",
            "genres/rock/rock.00020.wav\n",
            "genres/rock/rock.00021.wav\n",
            "genres/rock/rock.00022.wav\n",
            "genres/rock/rock.00023.wav\n",
            "genres/rock/rock.00024.wav\n",
            "genres/rock/rock.00025.wav\n",
            "genres/rock/rock.00026.wav\n",
            "genres/rock/rock.00027.wav\n",
            "genres/rock/rock.00028.wav\n",
            "genres/rock/rock.00029.wav\n",
            "genres/rock/rock.00030.wav\n",
            "genres/rock/rock.00031.wav\n",
            "genres/rock/rock.00032.wav\n",
            "genres/rock/rock.00033.wav\n",
            "genres/rock/rock.00034.wav\n",
            "genres/rock/rock.00035.wav\n",
            "genres/rock/rock.00036.wav\n",
            "genres/rock/rock.00037.wav\n",
            "genres/rock/rock.00038.wav\n",
            "genres/rock/rock.00039.wav\n",
            "genres/rock/rock.00040.wav\n",
            "genres/rock/rock.00041.wav\n",
            "genres/rock/rock.00042.wav\n",
            "genres/rock/rock.00043.wav\n",
            "genres/rock/rock.00044.wav\n",
            "genres/rock/rock.00045.wav\n",
            "genres/rock/rock.00046.wav\n",
            "genres/rock/rock.00047.wav\n",
            "genres/rock/rock.00048.wav\n",
            "genres/rock/rock.00049.wav\n",
            "genres/rock/rock.00050.wav\n",
            "genres/rock/rock.00051.wav\n",
            "genres/rock/rock.00052.wav\n",
            "genres/rock/rock.00053.wav\n",
            "genres/rock/rock.00054.wav\n",
            "genres/rock/rock.00055.wav\n",
            "genres/rock/rock.00056.wav\n",
            "genres/rock/rock.00057.wav\n",
            "genres/rock/rock.00058.wav\n",
            "genres/rock/rock.00059.wav\n",
            "genres/rock/rock.00060.wav\n",
            "genres/rock/rock.00061.wav\n",
            "genres/rock/rock.00062.wav\n",
            "genres/rock/rock.00063.wav\n",
            "genres/rock/rock.00064.wav\n",
            "genres/rock/rock.00065.wav\n",
            "genres/rock/rock.00066.wav\n",
            "\n",
            "gzip: stdin: unexpected end of file\n",
            "tar: Unexpected EOF in archive\n",
            "tar: Unexpected EOF in archive\n",
            "tar: Error is not recoverable: exiting now\n"
          ],
          "name": "stdout"
        }
      ]
    },
    {
      "cell_type": "code",
      "metadata": {
        "id": "Tx_mv5_UnKO9",
        "colab_type": "code",
        "outputId": "9f5a8828-2b9e-482b-919b-7b413a620b12",
        "colab": {
          "base_uri": "https://localhost:8080/",
          "height": 517
        }
      },
      "source": [
        "# change DATA_FOLDER = '/content/sklearn-audio-transfer-learning/data/' before running\n",
        "!python /content/sklearn-audio-transfer-learning/src/audio_transfer_learning.py\n"
      ],
      "execution_count": 2,
      "outputs": [
        {
          "output_type": "stream",
          "text": [
            "Using TensorFlow backend.\n",
            "Warning: you did not install MusiCNN, you cannot use this feature extractor (but you can use the pre-computed features).\n",
            "Train examples: 443\n",
            "Test examples: 290\n",
            "{'dataset': 'GTZAN', 'num_classes_dataset': 10, 'audio_folder': '/content/sklearn-audio-transfer-learning/data/audio/GTZAN/genres/', 'audio_paths_train': '/content/sklearn-audio-transfer-learning/data/index/GTZAN/train_filtered.txt', 'audio_paths_test': '/content/sklearn-audio-transfer-learning/data/index/GTZAN/test_filtered.txt', 'batch_size': 8, 'features_type': 'musicnn', 'pca': 128, 'model_type': 'SVM', 'load_training_data': 'training_data_GTZAN_MSDmusicnn_max_pool.npz', 'load_evaluation_data': 'evaluation_data_GTZAN_MSDmusicnn_max_pool.npz'}\n",
            "Loading training features..\n",
            "(12415, 753)\n",
            "(12415,)\n",
            "Shape after PCA:  (12415, 128)\n",
            "Fitting model..\n",
            "Evaluating model..\n",
            "Loading evaluation features..\n",
            "Shape after PCA:  (8127, 128)\n",
            "Predict labels on evaluation data\n",
            "{'dataset': 'GTZAN', 'num_classes_dataset': 10, 'audio_folder': '/content/sklearn-audio-transfer-learning/data/audio/GTZAN/genres/', 'audio_paths_train': '/content/sklearn-audio-transfer-learning/data/index/GTZAN/train_filtered.txt', 'audio_paths_test': '/content/sklearn-audio-transfer-learning/data/index/GTZAN/test_filtered.txt', 'batch_size': 8, 'features_type': 'musicnn', 'pca': 128, 'model_type': 'SVM', 'load_training_data': 'training_data_GTZAN_MSDmusicnn_max_pool.npz', 'load_evaluation_data': 'evaluation_data_GTZAN_MSDmusicnn_max_pool.npz'}\n",
            "Confusion matrix:\n",
            "[[10  0  0  2  0 17  0  0  0  2]\n",
            " [ 0 31  0  0  0  0  0  0  0  0]\n",
            " [ 2  0 25  0  0  0  0  2  1  0]\n",
            " [ 0  0  0 25  0  0  0  1  3  0]\n",
            " [ 0  0  0  1 24  0  0  1  0  1]\n",
            " [ 0  0  0  0  0 27  0  0  0  0]\n",
            " [ 0  0  0  0  0  0 26  0  0  1]\n",
            " [ 0  0  0  2  7  0  0 19  0  2]\n",
            " [ 0  0  0  1  5  1  0  0 18  1]\n",
            " [ 1  0  2  3  3  1  1  2  0 19]]\n",
            "Accuracy: 0.7724137931034483\n"
          ],
          "name": "stdout"
        }
      ]
    },
    {
      "cell_type": "markdown",
      "metadata": {
        "id": "DJhJyWexxrtM",
        "colab_type": "text"
      },
      "source": [
        "# ADReSS 2020 - AD Classification Task"
      ]
    },
    {
      "cell_type": "code",
      "metadata": {
        "id": "20mpjnv8x-b2",
        "colab_type": "code",
        "colab": {}
      },
      "source": [
        "!mkdir /content/sklearn-audio-transfer-learning/data/audio/ADReSSF"
      ],
      "execution_count": 0,
      "outputs": []
    },
    {
      "cell_type": "code",
      "metadata": {
        "id": "O2Nd59vz0FLS",
        "colab_type": "code",
        "colab": {}
      },
      "source": [
        "!cp -r /content/drive/My\\ Drive/ADReSS2020/ADReSS-IS2020-data/train/Full_wave_enhanced_audio/* /content/sklearn-audio-transfer-learning/data/audio/ADReSSF"
      ],
      "execution_count": 0,
      "outputs": []
    },
    {
      "cell_type": "code",
      "metadata": {
        "id": "iyvt8koW2dgN",
        "colab_type": "code",
        "colab": {}
      },
      "source": [
        "!mkdir /content/sklearn-audio-transfer-learning/data/index/ADReSSF"
      ],
      "execution_count": 0,
      "outputs": []
    },
    {
      "cell_type": "code",
      "metadata": {
        "id": "nHfFLwZr4Djr",
        "colab_type": "code",
        "colab": {}
      },
      "source": [
        "# Trzeba dodać cc/ przed nazwą pliku\n",
        "!ls /content/sklearn-audio-transfer-learning/data/audio/ADReSSF/cc/ > /content/sklearn-audio-transfer-learning/data/index/ADReSSF/train_set.txt"
      ],
      "execution_count": 0,
      "outputs": []
    },
    {
      "cell_type": "code",
      "metadata": {
        "id": "cZ_xL6jN8pvD",
        "colab_type": "code",
        "colab": {}
      },
      "source": [
        "# Trzeba dodać cd/ przed nazwą pliku\n",
        "!ls /content/sklearn-audio-transfer-learning/data/audio/ADReSSF/cd/ >> /content/sklearn-audio-transfer-learning/data/index/ADReSSF/train_set.txt"
      ],
      "execution_count": 0,
      "outputs": []
    },
    {
      "cell_type": "code",
      "metadata": {
        "id": "3sWccbaH-kmZ",
        "colab_type": "code",
        "colab": {}
      },
      "source": [
        "# zmieniłen nazwę train_set.txt na valid.txt"
      ],
      "execution_count": 0,
      "outputs": []
    }
  ]
}