{
  "nbformat": 4,
  "nbformat_minor": 0,
  "metadata": {
    "colab": {
      "name": "ADReSS2020.ipynb",
      "provenance": [],
      "toc_visible": true,
      "authorship_tag": "ABX9TyN0/iZIKc0S6ORGOGqCKWOt",
      "include_colab_link": true
    },
    "kernelspec": {
      "name": "python3",
      "display_name": "Python 3"
    }
  },
  "cells": [
    {
      "cell_type": "markdown",
      "metadata": {
        "id": "view-in-github",
        "colab_type": "text"
      },
      "source": [
        "<a href=\"https://colab.research.google.com/github/KarolChlasta/ADReSS-Challenge2020/blob/master/ADReSS2020.ipynb\" target=\"_parent\"><img src=\"https://colab.research.google.com/assets/colab-badge.svg\" alt=\"Open In Colab\"/></a>"
      ]
    },
    {
      "cell_type": "markdown",
      "metadata": {
        "id": "mz7q-tLyM6iJ",
        "colab_type": "text"
      },
      "source": [
        "INTERSPEECH 2020 Alzheimer's Dementia Recognition through Spontaneous Speech\n",
        "\n",
        "**The ADReSS Challenge 2020**"
      ]
    },
    {
      "cell_type": "markdown",
      "metadata": {
        "id": "6EaCJCDzM7dh",
        "colab_type": "text"
      },
      "source": [
        "# Prepare the data set"
      ]
    },
    {
      "cell_type": "code",
      "metadata": {
        "id": "wu-F6regMg9Z",
        "colab_type": "code",
        "colab": {
          "base_uri": "https://localhost:8080/",
          "height": 126
        },
        "outputId": "30d9ab0f-8359-4be6-c1af-9e612efaaa04"
      },
      "source": [
        "# Map Google Drive\n",
        "from google.colab import drive\n",
        "drive.mount('/content/drive')"
      ],
      "execution_count": 1,
      "outputs": [
        {
          "output_type": "stream",
          "text": [
            "Go to this URL in a browser: https://accounts.google.com/o/oauth2/auth?client_id=947318989803-6bn6qk8qdgf4n4g3pfee6491hc0brc4i.apps.googleusercontent.com&redirect_uri=urn%3aietf%3awg%3aoauth%3a2.0%3aoob&response_type=code&scope=email%20https%3a%2f%2fwww.googleapis.com%2fauth%2fdocs.test%20https%3a%2f%2fwww.googleapis.com%2fauth%2fdrive%20https%3a%2f%2fwww.googleapis.com%2fauth%2fdrive.photos.readonly%20https%3a%2f%2fwww.googleapis.com%2fauth%2fpeopleapi.readonly\n",
            "\n",
            "Enter your authorization code:\n",
            "··········\n",
            "Mounted at /content/drive\n"
          ],
          "name": "stdout"
        }
      ]
    },
    {
      "cell_type": "code",
      "metadata": {
        "id": "L-gmlHkxP5mF",
        "colab_type": "code",
        "colab": {
          "base_uri": "https://localhost:8080/",
          "height": 497
        },
        "outputId": "b0733850-6d1e-458a-81ab-15e6565404e6"
      },
      "source": [
        "# Show me the box\n",
        "!uname -a\n",
        "!lsb_release -a\n",
        "!cat /proc/cpuinfo | grep 'model name' | uniq\n",
        "!cat /proc/cpuinfo | grep 'core id' | uniq\n",
        "!uptime\n",
        "!df -h\n",
        "!pwd\n",
        "!ls -al"
      ],
      "execution_count": 2,
      "outputs": [
        {
          "output_type": "stream",
          "text": [
            "Linux d4ac62167282 4.19.104+ #1 SMP Wed Feb 19 05:26:34 PST 2020 x86_64 x86_64 x86_64 GNU/Linux\n",
            "No LSB modules are available.\n",
            "Distributor ID:\tUbuntu\n",
            "Description:\tUbuntu 18.04.3 LTS\n",
            "Release:\t18.04\n",
            "Codename:\tbionic\n",
            "model name\t: Intel(R) Xeon(R) CPU @ 2.20GHz\n",
            "core id\t\t: 0\n",
            " 20:06:54 up 16 min,  0 users,  load average: 0.05, 0.03, 0.04\n",
            "Filesystem      Size  Used Avail Use% Mounted on\n",
            "overlay         108G   31G   72G  31% /\n",
            "tmpfs            64M     0   64M   0% /dev\n",
            "tmpfs           6.4G     0  6.4G   0% /sys/fs/cgroup\n",
            "shm             5.9G     0  5.9G   0% /dev/shm\n",
            "tmpfs           6.4G   12K  6.4G   1% /var/colab\n",
            "/dev/sda1       114G   33G   82G  29% /etc/hosts\n",
            "tmpfs           6.4G     0  6.4G   0% /proc/acpi\n",
            "tmpfs           6.4G     0  6.4G   0% /proc/scsi\n",
            "tmpfs           6.4G     0  6.4G   0% /sys/firmware\n",
            "drive           108G   40G   68G  38% /content/drive\n",
            "/content\n",
            "total 20\n",
            "drwxr-xr-x 1 root root 4096 Apr 27 19:52 .\n",
            "drwxr-xr-x 1 root root 4096 Apr 27 19:50 ..\n",
            "drwxr-xr-x 1 root root 4096 Apr 23 16:11 .config\n",
            "drwx------ 4 root root 4096 Apr 27 19:52 drive\n",
            "drwxr-xr-x 1 root root 4096 Apr  3 16:24 sample_data\n"
          ],
          "name": "stdout"
        }
      ]
    },
    {
      "cell_type": "code",
      "metadata": {
        "id": "IxYrVRj6OE6c",
        "colab_type": "code",
        "colab": {}
      },
      "source": [
        "# Download training data from the DementiaBank database to Google Drive\n",
        "!wget -r --user= --ask-password https://media.talkbank.org/dementia/0extra/ -P /mnt/gd/My\\ Drive/ADReSS2020"
      ],
      "execution_count": 0,
      "outputs": []
    },
    {
      "cell_type": "code",
      "metadata": {
        "id": "QFatvE36TIOy",
        "colab_type": "code",
        "colab": {}
      },
      "source": [
        "# Unzipping files\n",
        "\n",
        "!unzip 308_P.zip\n",
        "!rm 308_P.zip\n",
        "!mv 308_* /mnt/gd/My\\ Drive/DataDAIC\n",
        "\n",
        "# unzipping DMAIC-WOZ corpora\n",
        "dmaic_gd_path = \"/mnt/gd/My\\ Drive/dcapswoz.ict.usc.edu/wwwdaicwoz/\"\n",
        "dmaic_gd_tmp = \"/mnt/gd/My\\ Drive/HCist2019/data/\"\n",
        "dmaic_gd_files = !ls {dmaic_gd} | grep .zip\n",
        "dmaic_gd_pass = \"dA1c_U$3rW0zz\"\n",
        "\n",
        "!tar -zcvf /mnt/gd/My\\ Drive/HCist2019/daicwoz-audio-train.tar.gz /mnt/gd/My\\ Drive/HCist2019/daicwoz-audio-train/.\n",
        "\n",
        "#!wget -r --user=daicwozuser --ask-password http://dcapswoz.ict.usc.edu/wwwdaicwoz/327_P.zip -P /mnt/gd/My\\ Drive/\n",
        "#!unzip /mnt/gd/My\\ Drive/dcapswoz.ict.usc.edu/wwwdaicwoz/327_P.zip -d {dmaic_gd_tmp}\n",
        "#!wget -r --user=daicwozuser --ask-password http://dcapswoz.ict.usc.edu/wwwdaicwoz/ -A 357_P.zip,343_P.zip,358_P.zip,360_P.zip,363_P.zip,364_P.zip,366_P.zip,368_P.zip,369_P.zip,370_P.zip,371_P.zip,374_P.zip,375_P.zip,379_P.zip,383_P.zip,385_P.zip,391_P.zip,392_P.zip,393_P.zip,397_P.zip,400_P.zip,401_P.zip,409_P.zip,415_P.zip,416_P.zip,419_P.zip,423_P.zip,425_P.zip,427_P.zip,428_P.zip,429_P.zip,430_P.zip,434_P.zip,437_P.zip,443_P.zip,444_P.zip,445_P.zip,446_P.zip,447_P.zip,449_P.zip,454_P.zip,455_P.zip,456_P.zip,457_P.zip,463_P.zip,464_P.zip,468_P.zip,471_P.zip,473_P.zip,474_P.zip,475_P.zip,478_P.zip,479_P.zip,485_P.zip,486_P.zip,487_P.zip,488_P.zip,491_P.zip -P /mnt/gd/My\\ Drive/\n",
        "#!wget -r --user=daicwozuser --ask-password http://dcapswoz.ict.usc.edu/wwwdaicwoz/ -A 454_P.zip,455_P.zip,456_P.zip,457_P.zip,463_P.zip,464_P.zip,468_P.zip,471_P.zip,473_P.zip,474_P.zip,475_P.zip,478_P.zip,479_P.zip,485_P.zip,486_P.zip,487_P.zip,488_P.zip,491_P.zip -P /mnt/gd/My\\ Drive/\n",
        "#!wget -r --user=daicwozuser --ask-password http://dcapswoz.ict.usc.edu/wwwdaicwoz/ -A 383_P.zip,385_P.zip,391_P.zip,39#2_P.zip,393_P.zip,397_P.zip,400_P.zip,401_P.zip,419_P.zip,474_P.zip  -P /mnt/gd/My\\ Drive/\n",
        "#!wget -r --user=daicwozuser --ask-password - A http://dcapswoz.ict.usc.edu/wwwdaicwoz/459_P.zip -P /mnt/gd/My\\ Drive/\n",
        "#!wget -r --user=daicwozuser --ask-password http://dcapswoz.ict.usc.edu/wwwdaicwoz/ -P /mnt/gd/My\\ Drive/\n",
        "\n",
        "#!unzip /mnt/gd/My\\ Drive/dcapswoz.ict.usc.edu/wwwdaicwoz/383_P.zip -d {dmaic_gd_tmp}"
      ],
      "execution_count": 0,
      "outputs": []
    }
  ]
}